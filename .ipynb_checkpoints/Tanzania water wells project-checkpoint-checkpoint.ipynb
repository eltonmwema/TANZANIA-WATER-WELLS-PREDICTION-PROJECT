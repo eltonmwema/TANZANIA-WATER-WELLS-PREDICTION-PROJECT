{
 "cells": [
  {
   "cell_type": "markdown",
   "metadata": {},
   "source": [
    "# TANZANIA-WATER-WELLS-PREDICTION-PROJECT"
   ]
  },
  {
   "cell_type": "markdown",
   "metadata": {},
   "source": [
    "## 1.1 Overview\n",
    "Tanzania is a developing country that struggles to get clean water to its population of 59 million people. According to WHO, 1 in 6 people in Tanzania lack access to safe drinking water and 29 million don’t have access to improved sanitation. The focus of this project is to build a classification model to predict the functionality of waterpoints in Tanzania given data provided by Taarifa and the Tanzanian Ministry of Water. The model was built from a dataset containing information about the source of water and status of the waterpoint (functional, functional but needs repairs, and non functional) using an iterative approach and can be found here. The dataset contains 60,000 waterpoints in Tanzania and the following features will be used in our final model:\n",
    "\n",
    "amount_tsh — Total static head (amount water available to waterpoint)\n",
    "gps_height — Altitude of the well\n",
    "installer — Organization that installed the well\n",
    "longitude — GPS coordinate\n",
    "latitude — GPS coordinate\n",
    "basin — Geographic water basin\n",
    "region — Geographic location\n",
    "population — Population around the well\n",
    "recorded_by — Group entering this row of data\n",
    "construction_year — Year the waterpoint was constructed\n",
    "extraction_type_class — The kind of extraction the waterpoint uses\n",
    "management — How the waterpoint is managed\n",
    "payment_type — What the water costs\n",
    "water_quality — The quality of the water\n",
    "quantity — The quantity of water\n",
    "source_type — The source of the water\n",
    "waterpoint_type — The kind of waterpoint\n",
    "\n",
    "The first sections focus on investigating, cleaning, wrangling, and reducing dimensionality for modeling. The next section contains 6 different classification models and evaluation of each, ultimately leading to us to select our best model for predicting waterpoint status based on the precision of the functional wells in the model. Finally, I will make recommendations to the Tanzanian Government and provide insight on predicting the status of waterpoints."
   ]
  },
  {
   "cell_type": "markdown",
   "metadata": {},
   "source": [
    "## 1.2 Business Problem\n",
    "The Tanzanian government has a severe water crisis on their hands as a result of the vast number of non functional wells and they have asked for help. They want to be able to predict the statuses of which pumps are functional, functional but need repair, and non functional in order to improve their maintenance operations and ensure that it’s residents have access to safe drinking water. The data has been collected by and is provided by Taarifa and the Tanzanian Ministry of Water with the hope that the information provided by each waterpoint can aid understanding in which waterpoints will fail.\n",
    "\n",
    "I have partnered with the Tanzanian government to build a classification model to predict the status of the waterpoints using the dataset provided. I will use the precision of the functional wells as my main metric for model selection, as a non functional well being predicted as a functional well would be more detrimental to their case, but will provide and discuss several metrics for each model.\n",
    "\n",
    "Data\n",
    "The dataset used for this analysis can be found here. It contains a wealth of information about waterpoints in Tanzania and the status of their operation. The target variable has 3 different options for it’s status:\n",
    "\n",
    "functional — the waterpoint is operational and there are no repairs needed\n",
    "functional needs repair — the waterpoint is operational, but needs repairs\n",
    "non functional — the waterpoint is not operational\n"
   ]
  },
  {
   "cell_type": "markdown",
   "metadata": {},
   "source": [
    "# Import all relevant libraries"
   ]
  },
  {
   "cell_type": "code",
   "execution_count": 397,
   "metadata": {},
   "outputs": [],
   "source": [
    "import pandas as pd\n",
    "import numpy as np\n",
    "\n",
    "import matplotlib.pyplot as plt\n",
    "import seaborn as sns\n",
    "%matplotlib inline\n",
    "\n",
    "import warnings\n",
    "warnings.filterwarnings('ignore')\n",
    "\n",
    "from sklearn.linear_model import LogisticRegression\n",
    "from sklearn.model_selection import train_test_split,GridSearchCV\n",
    "from sklearn.preprocessing import StandardScaler\n",
    "from sklearn.preprocessing import OneHotEncoder,LabelEncoder\n",
    "from sklearn.ensemble import RandomForestClassifier\n",
    "from sklearn.neighbors import KNeighborsClassifier\n",
    "from sklearn.tree import DecisionTreeClassifier\n",
    "from sklearn.pipeline import Pipeline\n",
    "\n",
    "from sklearn.metrics import plot_confusion_matrix, classification_report\n",
    "\n"
   ]
  },
  {
   "cell_type": "code",
   "execution_count": 497,
   "metadata": {},
   "outputs": [
    {
     "data": {
      "text/html": [
       "<div>\n",
       "<style scoped>\n",
       "    .dataframe tbody tr th:only-of-type {\n",
       "        vertical-align: middle;\n",
       "    }\n",
       "\n",
       "    .dataframe tbody tr th {\n",
       "        vertical-align: top;\n",
       "    }\n",
       "\n",
       "    .dataframe thead th {\n",
       "        text-align: right;\n",
       "    }\n",
       "</style>\n",
       "<table border=\"1\" class=\"dataframe\">\n",
       "  <thead>\n",
       "    <tr style=\"text-align: right;\">\n",
       "      <th></th>\n",
       "      <th>id</th>\n",
       "      <th>amount_tsh</th>\n",
       "      <th>date_recorded</th>\n",
       "      <th>funder</th>\n",
       "      <th>gps_height</th>\n",
       "      <th>installer</th>\n",
       "      <th>longitude</th>\n",
       "      <th>latitude</th>\n",
       "      <th>wpt_name</th>\n",
       "      <th>num_private</th>\n",
       "      <th>...</th>\n",
       "      <th>payment_type</th>\n",
       "      <th>water_quality</th>\n",
       "      <th>quality_group</th>\n",
       "      <th>quantity</th>\n",
       "      <th>quantity_group</th>\n",
       "      <th>source</th>\n",
       "      <th>source_type</th>\n",
       "      <th>source_class</th>\n",
       "      <th>waterpoint_type</th>\n",
       "      <th>waterpoint_type_group</th>\n",
       "    </tr>\n",
       "  </thead>\n",
       "  <tbody>\n",
       "    <tr>\n",
       "      <th>0</th>\n",
       "      <td>69572</td>\n",
       "      <td>6000.0</td>\n",
       "      <td>3/14/2011</td>\n",
       "      <td>Roman</td>\n",
       "      <td>1390</td>\n",
       "      <td>Roman</td>\n",
       "      <td>34.938093</td>\n",
       "      <td>-9.856322</td>\n",
       "      <td>none</td>\n",
       "      <td>0</td>\n",
       "      <td>...</td>\n",
       "      <td>annually</td>\n",
       "      <td>soft</td>\n",
       "      <td>good</td>\n",
       "      <td>enough</td>\n",
       "      <td>enough</td>\n",
       "      <td>spring</td>\n",
       "      <td>spring</td>\n",
       "      <td>groundwater</td>\n",
       "      <td>communal standpipe</td>\n",
       "      <td>communal standpipe</td>\n",
       "    </tr>\n",
       "    <tr>\n",
       "      <th>1</th>\n",
       "      <td>8776</td>\n",
       "      <td>0.0</td>\n",
       "      <td>3/6/2013</td>\n",
       "      <td>Grumeti</td>\n",
       "      <td>1399</td>\n",
       "      <td>GRUMETI</td>\n",
       "      <td>34.698766</td>\n",
       "      <td>-2.147466</td>\n",
       "      <td>Zahanati</td>\n",
       "      <td>0</td>\n",
       "      <td>...</td>\n",
       "      <td>never pay</td>\n",
       "      <td>soft</td>\n",
       "      <td>good</td>\n",
       "      <td>insufficient</td>\n",
       "      <td>insufficient</td>\n",
       "      <td>rainwater harvesting</td>\n",
       "      <td>rainwater harvesting</td>\n",
       "      <td>surface</td>\n",
       "      <td>communal standpipe</td>\n",
       "      <td>communal standpipe</td>\n",
       "    </tr>\n",
       "    <tr>\n",
       "      <th>2</th>\n",
       "      <td>34310</td>\n",
       "      <td>25.0</td>\n",
       "      <td>2/25/2013</td>\n",
       "      <td>Lottery Club</td>\n",
       "      <td>686</td>\n",
       "      <td>World vision</td>\n",
       "      <td>37.460664</td>\n",
       "      <td>-3.821329</td>\n",
       "      <td>Kwa Mahundi</td>\n",
       "      <td>0</td>\n",
       "      <td>...</td>\n",
       "      <td>per bucket</td>\n",
       "      <td>soft</td>\n",
       "      <td>good</td>\n",
       "      <td>enough</td>\n",
       "      <td>enough</td>\n",
       "      <td>dam</td>\n",
       "      <td>dam</td>\n",
       "      <td>surface</td>\n",
       "      <td>communal standpipe multiple</td>\n",
       "      <td>communal standpipe</td>\n",
       "    </tr>\n",
       "    <tr>\n",
       "      <th>3</th>\n",
       "      <td>67743</td>\n",
       "      <td>0.0</td>\n",
       "      <td>1/28/2013</td>\n",
       "      <td>Unicef</td>\n",
       "      <td>263</td>\n",
       "      <td>UNICEF</td>\n",
       "      <td>38.486161</td>\n",
       "      <td>-11.155298</td>\n",
       "      <td>Zahanati Ya Nanyumbu</td>\n",
       "      <td>0</td>\n",
       "      <td>...</td>\n",
       "      <td>never pay</td>\n",
       "      <td>soft</td>\n",
       "      <td>good</td>\n",
       "      <td>dry</td>\n",
       "      <td>dry</td>\n",
       "      <td>machine dbh</td>\n",
       "      <td>borehole</td>\n",
       "      <td>groundwater</td>\n",
       "      <td>communal standpipe multiple</td>\n",
       "      <td>communal standpipe</td>\n",
       "    </tr>\n",
       "    <tr>\n",
       "      <th>4</th>\n",
       "      <td>19728</td>\n",
       "      <td>0.0</td>\n",
       "      <td>7/13/2011</td>\n",
       "      <td>Action In A</td>\n",
       "      <td>0</td>\n",
       "      <td>Artisan</td>\n",
       "      <td>31.130847</td>\n",
       "      <td>-1.825359</td>\n",
       "      <td>Shuleni</td>\n",
       "      <td>0</td>\n",
       "      <td>...</td>\n",
       "      <td>never pay</td>\n",
       "      <td>soft</td>\n",
       "      <td>good</td>\n",
       "      <td>seasonal</td>\n",
       "      <td>seasonal</td>\n",
       "      <td>rainwater harvesting</td>\n",
       "      <td>rainwater harvesting</td>\n",
       "      <td>surface</td>\n",
       "      <td>communal standpipe</td>\n",
       "      <td>communal standpipe</td>\n",
       "    </tr>\n",
       "  </tbody>\n",
       "</table>\n",
       "<p>5 rows × 40 columns</p>\n",
       "</div>"
      ],
      "text/plain": [
       "      id  amount_tsh date_recorded        funder  gps_height     installer  \\\n",
       "0  69572      6000.0     3/14/2011         Roman        1390         Roman   \n",
       "1   8776         0.0      3/6/2013       Grumeti        1399       GRUMETI   \n",
       "2  34310        25.0     2/25/2013  Lottery Club         686  World vision   \n",
       "3  67743         0.0     1/28/2013        Unicef         263        UNICEF   \n",
       "4  19728         0.0     7/13/2011   Action In A           0       Artisan   \n",
       "\n",
       "   longitude   latitude              wpt_name  num_private  ... payment_type  \\\n",
       "0  34.938093  -9.856322                  none            0  ...     annually   \n",
       "1  34.698766  -2.147466              Zahanati            0  ...    never pay   \n",
       "2  37.460664  -3.821329           Kwa Mahundi            0  ...   per bucket   \n",
       "3  38.486161 -11.155298  Zahanati Ya Nanyumbu            0  ...    never pay   \n",
       "4  31.130847  -1.825359               Shuleni            0  ...    never pay   \n",
       "\n",
       "  water_quality quality_group      quantity  quantity_group  \\\n",
       "0          soft          good        enough          enough   \n",
       "1          soft          good  insufficient    insufficient   \n",
       "2          soft          good        enough          enough   \n",
       "3          soft          good           dry             dry   \n",
       "4          soft          good      seasonal        seasonal   \n",
       "\n",
       "                 source           source_type  source_class  \\\n",
       "0                spring                spring   groundwater   \n",
       "1  rainwater harvesting  rainwater harvesting       surface   \n",
       "2                   dam                   dam       surface   \n",
       "3           machine dbh              borehole   groundwater   \n",
       "4  rainwater harvesting  rainwater harvesting       surface   \n",
       "\n",
       "               waterpoint_type waterpoint_type_group  \n",
       "0           communal standpipe    communal standpipe  \n",
       "1           communal standpipe    communal standpipe  \n",
       "2  communal standpipe multiple    communal standpipe  \n",
       "3  communal standpipe multiple    communal standpipe  \n",
       "4           communal standpipe    communal standpipe  \n",
       "\n",
       "[5 rows x 40 columns]"
      ]
     },
     "execution_count": 497,
     "metadata": {},
     "output_type": "execute_result"
    }
   ],
   "source": [
    "#Load the relevant data sets\n",
    "\n",
    "df_training = pd.read_csv('Tanzania wells training set.csv')\n",
    "df_test = pd.read_csv('Tanzania wells test set.csv')\n",
    "df_labels = pd.read_csv('Tanzania wells set labels.csv')\n",
    "pd.DataFrame(df_training)\n",
    "df_training.head()\n"
   ]
  },
  {
   "cell_type": "code",
   "execution_count": 498,
   "metadata": {},
   "outputs": [
    {
     "name": "stdout",
     "output_type": "stream",
     "text": [
      "The training set has a shape of (59400, 40) \n",
      " The target set has a shape of (59400, 2)\n"
     ]
    }
   ],
   "source": [
    "print(f'The training set has a shape of {df_training.shape} \\n The target set has a shape of {df_labels.shape}')"
   ]
  },
  {
   "cell_type": "markdown",
   "metadata": {},
   "source": [
    "## 2 Data Cleaning\n",
    "### 2.1 Completeness"
   ]
  },
  {
   "cell_type": "code",
   "execution_count": 499,
   "metadata": {},
   "outputs": [
    {
     "name": "stdout",
     "output_type": "stream",
     "text": [
      "<class 'pandas.core.frame.DataFrame'>\n",
      "RangeIndex: 59400 entries, 0 to 59399\n",
      "Data columns (total 40 columns):\n",
      " #   Column                 Non-Null Count  Dtype  \n",
      "---  ------                 --------------  -----  \n",
      " 0   id                     59400 non-null  int64  \n",
      " 1   amount_tsh             59400 non-null  float64\n",
      " 2   date_recorded          59400 non-null  object \n",
      " 3   funder                 55765 non-null  object \n",
      " 4   gps_height             59400 non-null  int64  \n",
      " 5   installer              55745 non-null  object \n",
      " 6   longitude              59400 non-null  float64\n",
      " 7   latitude               59400 non-null  float64\n",
      " 8   wpt_name               59400 non-null  object \n",
      " 9   num_private            59400 non-null  int64  \n",
      " 10  basin                  59400 non-null  object \n",
      " 11  subvillage             59029 non-null  object \n",
      " 12  region                 59400 non-null  object \n",
      " 13  region_code            59400 non-null  int64  \n",
      " 14  district_code          59400 non-null  int64  \n",
      " 15  lga                    59400 non-null  object \n",
      " 16  ward                   59400 non-null  object \n",
      " 17  population             59400 non-null  int64  \n",
      " 18  public_meeting         56066 non-null  object \n",
      " 19  recorded_by            59400 non-null  object \n",
      " 20  scheme_management      55523 non-null  object \n",
      " 21  scheme_name            31234 non-null  object \n",
      " 22  permit                 56344 non-null  object \n",
      " 23  construction_year      59400 non-null  int64  \n",
      " 24  extraction_type        59400 non-null  object \n",
      " 25  extraction_type_group  59400 non-null  object \n",
      " 26  extraction_type_class  59400 non-null  object \n",
      " 27  management             59400 non-null  object \n",
      " 28  management_group       59400 non-null  object \n",
      " 29  payment                59400 non-null  object \n",
      " 30  payment_type           59400 non-null  object \n",
      " 31  water_quality          59400 non-null  object \n",
      " 32  quality_group          59400 non-null  object \n",
      " 33  quantity               59400 non-null  object \n",
      " 34  quantity_group         59400 non-null  object \n",
      " 35  source                 59400 non-null  object \n",
      " 36  source_type            59400 non-null  object \n",
      " 37  source_class           59400 non-null  object \n",
      " 38  waterpoint_type        59400 non-null  object \n",
      " 39  waterpoint_type_group  59400 non-null  object \n",
      "dtypes: float64(3), int64(7), object(30)\n",
      "memory usage: 18.1+ MB\n"
     ]
    }
   ],
   "source": [
    "df_training.info()"
   ]
  },
  {
   "cell_type": "code",
   "execution_count": 500,
   "metadata": {},
   "outputs": [
    {
     "name": "stdout",
     "output_type": "stream",
     "text": [
      "<class 'pandas.core.frame.DataFrame'>\n",
      "RangeIndex: 59400 entries, 0 to 59399\n",
      "Data columns (total 2 columns):\n",
      " #   Column        Non-Null Count  Dtype \n",
      "---  ------        --------------  ----- \n",
      " 0   id            59400 non-null  int64 \n",
      " 1   status_group  59400 non-null  object\n",
      "dtypes: int64(1), object(1)\n",
      "memory usage: 928.2+ KB\n"
     ]
    }
   ],
   "source": [
    "df_labels.info()"
   ]
  },
  {
   "cell_type": "markdown",
   "metadata": {},
   "source": [
    "The training set contains alot of null values.WE will hence merge our two sets using the id column to clean the data together"
   ]
  },
  {
   "cell_type": "code",
   "execution_count": 501,
   "metadata": {},
   "outputs": [],
   "source": [
    "wells_set = pd.merge(df_training, df_labels )"
   ]
  },
  {
   "cell_type": "code",
   "execution_count": 502,
   "metadata": {},
   "outputs": [
    {
     "data": {
      "text/plain": [
       "(59400, 41)"
      ]
     },
     "execution_count": 502,
     "metadata": {},
     "output_type": "execute_result"
    }
   ],
   "source": [
    "wells_set.shape"
   ]
  },
  {
   "cell_type": "code",
   "execution_count": 503,
   "metadata": {},
   "outputs": [
    {
     "data": {
      "text/plain": [
       "id                           0\n",
       "amount_tsh                   0\n",
       "date_recorded                0\n",
       "funder                    3635\n",
       "gps_height                   0\n",
       "installer                 3655\n",
       "longitude                    0\n",
       "latitude                     0\n",
       "wpt_name                     0\n",
       "num_private                  0\n",
       "basin                        0\n",
       "subvillage                 371\n",
       "region                       0\n",
       "region_code                  0\n",
       "district_code                0\n",
       "lga                          0\n",
       "ward                         0\n",
       "population                   0\n",
       "public_meeting            3334\n",
       "recorded_by                  0\n",
       "scheme_management         3877\n",
       "scheme_name              28166\n",
       "permit                    3056\n",
       "construction_year            0\n",
       "extraction_type              0\n",
       "extraction_type_group        0\n",
       "extraction_type_class        0\n",
       "management                   0\n",
       "management_group             0\n",
       "payment                      0\n",
       "payment_type                 0\n",
       "water_quality                0\n",
       "quality_group                0\n",
       "quantity                     0\n",
       "quantity_group               0\n",
       "source                       0\n",
       "source_type                  0\n",
       "source_class                 0\n",
       "waterpoint_type              0\n",
       "waterpoint_type_group        0\n",
       "status_group                 0\n",
       "dtype: int64"
      ]
     },
     "execution_count": 503,
     "metadata": {},
     "output_type": "execute_result"
    }
   ],
   "source": [
    "nill_vals = wells_set.isna().sum()\n",
    "nill_vals"
   ]
  },
  {
   "cell_type": "markdown",
   "metadata": {},
   "source": [
    " Here we check on the distribution of the null values and decide on which criterion we will use to drop"
   ]
  },
  {
   "cell_type": "code",
   "execution_count": 504,
   "metadata": {},
   "outputs": [
    {
     "data": {
      "text/plain": [
       "scheme_name              47.417508\n",
       "scheme_management         6.526936\n",
       "installer                 6.153199\n",
       "funder                    6.119529\n",
       "public_meeting            5.612795\n",
       "permit                    5.144781\n",
       "subvillage                0.624579\n",
       "ward                      0.000000\n",
       "lga                       0.000000\n",
       "district_code             0.000000\n",
       "region_code               0.000000\n",
       "region                    0.000000\n",
       "num_private               0.000000\n",
       "basin                     0.000000\n",
       "wpt_name                  0.000000\n",
       "latitude                  0.000000\n",
       "longitude                 0.000000\n",
       "gps_height                0.000000\n",
       "date_recorded             0.000000\n",
       "amount_tsh                0.000000\n",
       "population                0.000000\n",
       "status_group              0.000000\n",
       "recorded_by               0.000000\n",
       "water_quality             0.000000\n",
       "waterpoint_type           0.000000\n",
       "source_class              0.000000\n",
       "source_type               0.000000\n",
       "source                    0.000000\n",
       "quantity_group            0.000000\n",
       "quantity                  0.000000\n",
       "quality_group             0.000000\n",
       "payment_type              0.000000\n",
       "waterpoint_type_group     0.000000\n",
       "payment                   0.000000\n",
       "management_group          0.000000\n",
       "management                0.000000\n",
       "extraction_type_class     0.000000\n",
       "extraction_type_group     0.000000\n",
       "extraction_type           0.000000\n",
       "construction_year         0.000000\n",
       "id                        0.000000\n",
       "Name: 0, dtype: float64"
      ]
     },
     "execution_count": 504,
     "metadata": {},
     "output_type": "execute_result"
    }
   ],
   "source": [
    "x= pd.DataFrame(wells_set.isna().sum()/len(wells_set)*100) #, ascending =False\n",
    "x= x[0].sort_values( ascending=False)\n",
    "x"
   ]
  },
  {
   "cell_type": "code",
   "execution_count": 505,
   "metadata": {},
   "outputs": [
    {
     "name": "stdout",
     "output_type": "stream",
     "text": [
      "Scheme name has almost half of the data missing and this could adversely affect our analysis if we continue with it.\n",
      " We hence intend to drop it and rill in the lesser missing collumns\n"
     ]
    }
   ],
   "source": [
    "print(f'Scheme name has almost half of the data missing and this could adversely affect our analysis if we continue with it.\\n We hence intend to drop it and rill in the lesser missing collumns')"
   ]
  },
  {
   "cell_type": "code",
   "execution_count": 506,
   "metadata": {},
   "outputs": [
    {
     "data": {
      "text/html": [
       "<div>\n",
       "<style scoped>\n",
       "    .dataframe tbody tr th:only-of-type {\n",
       "        vertical-align: middle;\n",
       "    }\n",
       "\n",
       "    .dataframe tbody tr th {\n",
       "        vertical-align: top;\n",
       "    }\n",
       "\n",
       "    .dataframe thead th {\n",
       "        text-align: right;\n",
       "    }\n",
       "</style>\n",
       "<table border=\"1\" class=\"dataframe\">\n",
       "  <thead>\n",
       "    <tr style=\"text-align: right;\">\n",
       "      <th></th>\n",
       "      <th>id</th>\n",
       "      <th>amount_tsh</th>\n",
       "      <th>date_recorded</th>\n",
       "      <th>funder</th>\n",
       "      <th>gps_height</th>\n",
       "      <th>installer</th>\n",
       "      <th>longitude</th>\n",
       "      <th>latitude</th>\n",
       "      <th>wpt_name</th>\n",
       "      <th>num_private</th>\n",
       "      <th>...</th>\n",
       "      <th>water_quality</th>\n",
       "      <th>quality_group</th>\n",
       "      <th>quantity</th>\n",
       "      <th>quantity_group</th>\n",
       "      <th>source</th>\n",
       "      <th>source_type</th>\n",
       "      <th>source_class</th>\n",
       "      <th>waterpoint_type</th>\n",
       "      <th>waterpoint_type_group</th>\n",
       "      <th>status_group</th>\n",
       "    </tr>\n",
       "  </thead>\n",
       "  <tbody>\n",
       "    <tr>\n",
       "      <th>0</th>\n",
       "      <td>69572</td>\n",
       "      <td>6000.0</td>\n",
       "      <td>3/14/2011</td>\n",
       "      <td>Roman</td>\n",
       "      <td>1390</td>\n",
       "      <td>Roman</td>\n",
       "      <td>34.938093</td>\n",
       "      <td>-9.856322</td>\n",
       "      <td>none</td>\n",
       "      <td>0</td>\n",
       "      <td>...</td>\n",
       "      <td>soft</td>\n",
       "      <td>good</td>\n",
       "      <td>enough</td>\n",
       "      <td>enough</td>\n",
       "      <td>spring</td>\n",
       "      <td>spring</td>\n",
       "      <td>groundwater</td>\n",
       "      <td>communal standpipe</td>\n",
       "      <td>communal standpipe</td>\n",
       "      <td>functional</td>\n",
       "    </tr>\n",
       "    <tr>\n",
       "      <th>1</th>\n",
       "      <td>8776</td>\n",
       "      <td>0.0</td>\n",
       "      <td>3/6/2013</td>\n",
       "      <td>Grumeti</td>\n",
       "      <td>1399</td>\n",
       "      <td>GRUMETI</td>\n",
       "      <td>34.698766</td>\n",
       "      <td>-2.147466</td>\n",
       "      <td>Zahanati</td>\n",
       "      <td>0</td>\n",
       "      <td>...</td>\n",
       "      <td>soft</td>\n",
       "      <td>good</td>\n",
       "      <td>insufficient</td>\n",
       "      <td>insufficient</td>\n",
       "      <td>rainwater harvesting</td>\n",
       "      <td>rainwater harvesting</td>\n",
       "      <td>surface</td>\n",
       "      <td>communal standpipe</td>\n",
       "      <td>communal standpipe</td>\n",
       "      <td>functional</td>\n",
       "    </tr>\n",
       "    <tr>\n",
       "      <th>2</th>\n",
       "      <td>34310</td>\n",
       "      <td>25.0</td>\n",
       "      <td>2/25/2013</td>\n",
       "      <td>Lottery Club</td>\n",
       "      <td>686</td>\n",
       "      <td>World vision</td>\n",
       "      <td>37.460664</td>\n",
       "      <td>-3.821329</td>\n",
       "      <td>Kwa Mahundi</td>\n",
       "      <td>0</td>\n",
       "      <td>...</td>\n",
       "      <td>soft</td>\n",
       "      <td>good</td>\n",
       "      <td>enough</td>\n",
       "      <td>enough</td>\n",
       "      <td>dam</td>\n",
       "      <td>dam</td>\n",
       "      <td>surface</td>\n",
       "      <td>communal standpipe multiple</td>\n",
       "      <td>communal standpipe</td>\n",
       "      <td>functional</td>\n",
       "    </tr>\n",
       "    <tr>\n",
       "      <th>3</th>\n",
       "      <td>67743</td>\n",
       "      <td>0.0</td>\n",
       "      <td>1/28/2013</td>\n",
       "      <td>Unicef</td>\n",
       "      <td>263</td>\n",
       "      <td>UNICEF</td>\n",
       "      <td>38.486161</td>\n",
       "      <td>-11.155298</td>\n",
       "      <td>Zahanati Ya Nanyumbu</td>\n",
       "      <td>0</td>\n",
       "      <td>...</td>\n",
       "      <td>soft</td>\n",
       "      <td>good</td>\n",
       "      <td>dry</td>\n",
       "      <td>dry</td>\n",
       "      <td>machine dbh</td>\n",
       "      <td>borehole</td>\n",
       "      <td>groundwater</td>\n",
       "      <td>communal standpipe multiple</td>\n",
       "      <td>communal standpipe</td>\n",
       "      <td>non functional</td>\n",
       "    </tr>\n",
       "    <tr>\n",
       "      <th>4</th>\n",
       "      <td>19728</td>\n",
       "      <td>0.0</td>\n",
       "      <td>7/13/2011</td>\n",
       "      <td>Action In A</td>\n",
       "      <td>0</td>\n",
       "      <td>Artisan</td>\n",
       "      <td>31.130847</td>\n",
       "      <td>-1.825359</td>\n",
       "      <td>Shuleni</td>\n",
       "      <td>0</td>\n",
       "      <td>...</td>\n",
       "      <td>soft</td>\n",
       "      <td>good</td>\n",
       "      <td>seasonal</td>\n",
       "      <td>seasonal</td>\n",
       "      <td>rainwater harvesting</td>\n",
       "      <td>rainwater harvesting</td>\n",
       "      <td>surface</td>\n",
       "      <td>communal standpipe</td>\n",
       "      <td>communal standpipe</td>\n",
       "      <td>functional</td>\n",
       "    </tr>\n",
       "    <tr>\n",
       "      <th>...</th>\n",
       "      <td>...</td>\n",
       "      <td>...</td>\n",
       "      <td>...</td>\n",
       "      <td>...</td>\n",
       "      <td>...</td>\n",
       "      <td>...</td>\n",
       "      <td>...</td>\n",
       "      <td>...</td>\n",
       "      <td>...</td>\n",
       "      <td>...</td>\n",
       "      <td>...</td>\n",
       "      <td>...</td>\n",
       "      <td>...</td>\n",
       "      <td>...</td>\n",
       "      <td>...</td>\n",
       "      <td>...</td>\n",
       "      <td>...</td>\n",
       "      <td>...</td>\n",
       "      <td>...</td>\n",
       "      <td>...</td>\n",
       "      <td>...</td>\n",
       "    </tr>\n",
       "    <tr>\n",
       "      <th>59395</th>\n",
       "      <td>60739</td>\n",
       "      <td>10.0</td>\n",
       "      <td>5/3/2013</td>\n",
       "      <td>Germany Republi</td>\n",
       "      <td>1210</td>\n",
       "      <td>CES</td>\n",
       "      <td>37.169807</td>\n",
       "      <td>-3.253847</td>\n",
       "      <td>Area Three Namba 27</td>\n",
       "      <td>0</td>\n",
       "      <td>...</td>\n",
       "      <td>soft</td>\n",
       "      <td>good</td>\n",
       "      <td>enough</td>\n",
       "      <td>enough</td>\n",
       "      <td>spring</td>\n",
       "      <td>spring</td>\n",
       "      <td>groundwater</td>\n",
       "      <td>communal standpipe</td>\n",
       "      <td>communal standpipe</td>\n",
       "      <td>functional</td>\n",
       "    </tr>\n",
       "    <tr>\n",
       "      <th>59396</th>\n",
       "      <td>27263</td>\n",
       "      <td>4700.0</td>\n",
       "      <td>5/7/2011</td>\n",
       "      <td>Cefa-njombe</td>\n",
       "      <td>1212</td>\n",
       "      <td>Cefa</td>\n",
       "      <td>35.249991</td>\n",
       "      <td>-9.070629</td>\n",
       "      <td>Kwa Yahona Kuvala</td>\n",
       "      <td>0</td>\n",
       "      <td>...</td>\n",
       "      <td>soft</td>\n",
       "      <td>good</td>\n",
       "      <td>enough</td>\n",
       "      <td>enough</td>\n",
       "      <td>river</td>\n",
       "      <td>river/lake</td>\n",
       "      <td>surface</td>\n",
       "      <td>communal standpipe</td>\n",
       "      <td>communal standpipe</td>\n",
       "      <td>functional</td>\n",
       "    </tr>\n",
       "    <tr>\n",
       "      <th>59397</th>\n",
       "      <td>37057</td>\n",
       "      <td>0.0</td>\n",
       "      <td>4/11/2011</td>\n",
       "      <td>Nan</td>\n",
       "      <td>0</td>\n",
       "      <td>Nan</td>\n",
       "      <td>34.017087</td>\n",
       "      <td>-8.750434</td>\n",
       "      <td>Mashine</td>\n",
       "      <td>0</td>\n",
       "      <td>...</td>\n",
       "      <td>fluoride</td>\n",
       "      <td>fluoride</td>\n",
       "      <td>enough</td>\n",
       "      <td>enough</td>\n",
       "      <td>machine dbh</td>\n",
       "      <td>borehole</td>\n",
       "      <td>groundwater</td>\n",
       "      <td>hand pump</td>\n",
       "      <td>hand pump</td>\n",
       "      <td>functional</td>\n",
       "    </tr>\n",
       "    <tr>\n",
       "      <th>59398</th>\n",
       "      <td>31282</td>\n",
       "      <td>0.0</td>\n",
       "      <td>3/8/2011</td>\n",
       "      <td>Malec</td>\n",
       "      <td>0</td>\n",
       "      <td>Musa</td>\n",
       "      <td>35.861315</td>\n",
       "      <td>-6.378573</td>\n",
       "      <td>Mshoro</td>\n",
       "      <td>0</td>\n",
       "      <td>...</td>\n",
       "      <td>soft</td>\n",
       "      <td>good</td>\n",
       "      <td>insufficient</td>\n",
       "      <td>insufficient</td>\n",
       "      <td>shallow well</td>\n",
       "      <td>shallow well</td>\n",
       "      <td>groundwater</td>\n",
       "      <td>hand pump</td>\n",
       "      <td>hand pump</td>\n",
       "      <td>functional</td>\n",
       "    </tr>\n",
       "    <tr>\n",
       "      <th>59399</th>\n",
       "      <td>26348</td>\n",
       "      <td>0.0</td>\n",
       "      <td>3/23/2011</td>\n",
       "      <td>World Bank</td>\n",
       "      <td>191</td>\n",
       "      <td>World</td>\n",
       "      <td>38.104048</td>\n",
       "      <td>-6.747464</td>\n",
       "      <td>Kwa Mzee Lugawa</td>\n",
       "      <td>0</td>\n",
       "      <td>...</td>\n",
       "      <td>salty</td>\n",
       "      <td>salty</td>\n",
       "      <td>enough</td>\n",
       "      <td>enough</td>\n",
       "      <td>shallow well</td>\n",
       "      <td>shallow well</td>\n",
       "      <td>groundwater</td>\n",
       "      <td>hand pump</td>\n",
       "      <td>hand pump</td>\n",
       "      <td>functional</td>\n",
       "    </tr>\n",
       "  </tbody>\n",
       "</table>\n",
       "<p>59400 rows × 40 columns</p>\n",
       "</div>"
      ],
      "text/plain": [
       "          id  amount_tsh date_recorded           funder  gps_height  \\\n",
       "0      69572      6000.0     3/14/2011            Roman        1390   \n",
       "1       8776         0.0      3/6/2013          Grumeti        1399   \n",
       "2      34310        25.0     2/25/2013     Lottery Club         686   \n",
       "3      67743         0.0     1/28/2013           Unicef         263   \n",
       "4      19728         0.0     7/13/2011      Action In A           0   \n",
       "...      ...         ...           ...              ...         ...   \n",
       "59395  60739        10.0      5/3/2013  Germany Republi        1210   \n",
       "59396  27263      4700.0      5/7/2011      Cefa-njombe        1212   \n",
       "59397  37057         0.0     4/11/2011              Nan           0   \n",
       "59398  31282         0.0      3/8/2011            Malec           0   \n",
       "59399  26348         0.0     3/23/2011       World Bank         191   \n",
       "\n",
       "          installer  longitude   latitude              wpt_name  num_private  \\\n",
       "0             Roman  34.938093  -9.856322                  none            0   \n",
       "1           GRUMETI  34.698766  -2.147466              Zahanati            0   \n",
       "2      World vision  37.460664  -3.821329           Kwa Mahundi            0   \n",
       "3            UNICEF  38.486161 -11.155298  Zahanati Ya Nanyumbu            0   \n",
       "4           Artisan  31.130847  -1.825359               Shuleni            0   \n",
       "...             ...        ...        ...                   ...          ...   \n",
       "59395           CES  37.169807  -3.253847   Area Three Namba 27            0   \n",
       "59396          Cefa  35.249991  -9.070629     Kwa Yahona Kuvala            0   \n",
       "59397           Nan  34.017087  -8.750434               Mashine            0   \n",
       "59398          Musa  35.861315  -6.378573                Mshoro            0   \n",
       "59399         World  38.104048  -6.747464       Kwa Mzee Lugawa            0   \n",
       "\n",
       "       ... water_quality quality_group      quantity  quantity_group  \\\n",
       "0      ...          soft          good        enough          enough   \n",
       "1      ...          soft          good  insufficient    insufficient   \n",
       "2      ...          soft          good        enough          enough   \n",
       "3      ...          soft          good           dry             dry   \n",
       "4      ...          soft          good      seasonal        seasonal   \n",
       "...    ...           ...           ...           ...             ...   \n",
       "59395  ...          soft          good        enough          enough   \n",
       "59396  ...          soft          good        enough          enough   \n",
       "59397  ...      fluoride      fluoride        enough          enough   \n",
       "59398  ...          soft          good  insufficient    insufficient   \n",
       "59399  ...         salty         salty        enough          enough   \n",
       "\n",
       "                     source           source_type source_class  \\\n",
       "0                    spring                spring  groundwater   \n",
       "1      rainwater harvesting  rainwater harvesting      surface   \n",
       "2                       dam                   dam      surface   \n",
       "3               machine dbh              borehole  groundwater   \n",
       "4      rainwater harvesting  rainwater harvesting      surface   \n",
       "...                     ...                   ...          ...   \n",
       "59395                spring                spring  groundwater   \n",
       "59396                 river            river/lake      surface   \n",
       "59397           machine dbh              borehole  groundwater   \n",
       "59398          shallow well          shallow well  groundwater   \n",
       "59399          shallow well          shallow well  groundwater   \n",
       "\n",
       "                   waterpoint_type waterpoint_type_group    status_group  \n",
       "0               communal standpipe    communal standpipe      functional  \n",
       "1               communal standpipe    communal standpipe      functional  \n",
       "2      communal standpipe multiple    communal standpipe      functional  \n",
       "3      communal standpipe multiple    communal standpipe  non functional  \n",
       "4               communal standpipe    communal standpipe      functional  \n",
       "...                            ...                   ...             ...  \n",
       "59395           communal standpipe    communal standpipe      functional  \n",
       "59396           communal standpipe    communal standpipe      functional  \n",
       "59397                    hand pump             hand pump      functional  \n",
       "59398                    hand pump             hand pump      functional  \n",
       "59399                    hand pump             hand pump      functional  \n",
       "\n",
       "[59400 rows x 40 columns]"
      ]
     },
     "execution_count": 506,
     "metadata": {},
     "output_type": "execute_result"
    }
   ],
   "source": [
    "wells_set.drop(['scheme_name'],axis=1, inplace=True)\n",
    "wells_set.fillna(value = 'Nan', inplace = True)\n",
    "wells_set"
   ]
  },
  {
   "cell_type": "code",
   "execution_count": 507,
   "metadata": {},
   "outputs": [
    {
     "data": {
      "text/plain": [
       "id                       0\n",
       "amount_tsh               0\n",
       "date_recorded            0\n",
       "funder                   0\n",
       "gps_height               0\n",
       "installer                0\n",
       "longitude                0\n",
       "latitude                 0\n",
       "wpt_name                 0\n",
       "num_private              0\n",
       "basin                    0\n",
       "subvillage               0\n",
       "region                   0\n",
       "region_code              0\n",
       "district_code            0\n",
       "lga                      0\n",
       "ward                     0\n",
       "population               0\n",
       "public_meeting           0\n",
       "recorded_by              0\n",
       "scheme_management        0\n",
       "permit                   0\n",
       "construction_year        0\n",
       "extraction_type          0\n",
       "extraction_type_group    0\n",
       "extraction_type_class    0\n",
       "management               0\n",
       "management_group         0\n",
       "payment                  0\n",
       "payment_type             0\n",
       "water_quality            0\n",
       "quality_group            0\n",
       "quantity                 0\n",
       "quantity_group           0\n",
       "source                   0\n",
       "source_type              0\n",
       "source_class             0\n",
       "waterpoint_type          0\n",
       "waterpoint_type_group    0\n",
       "status_group             0\n",
       "dtype: int64"
      ]
     },
     "execution_count": 507,
     "metadata": {},
     "output_type": "execute_result"
    }
   ],
   "source": [
    "wells_set.isna().sum()"
   ]
  },
  {
   "cell_type": "markdown",
   "metadata": {},
   "source": [
    "### 2.2 Consistency"
   ]
  },
  {
   "cell_type": "markdown",
   "metadata": {},
   "source": [
    "There seems alot of column redundancy hence we check on the value counts to ascertain our observations"
   ]
  },
  {
   "cell_type": "code",
   "execution_count": 508,
   "metadata": {},
   "outputs": [
    {
     "name": "stdout",
     "output_type": "stream",
     "text": [
      "EXTRACTION TYPE  \n",
      " gravity                      26780\n",
      "nira/tanira                   8154\n",
      "other                         6430\n",
      "submersible                   4764\n",
      "swn 80                        3670\n",
      "mono                          2865\n",
      "india mark ii                 2400\n",
      "afridev                       1770\n",
      "ksb                           1415\n",
      "other - rope pump              451\n",
      "other - swn 81                 229\n",
      "windmill                       117\n",
      "india mark iii                  98\n",
      "cemo                            90\n",
      "other - play pump               85\n",
      "walimi                          48\n",
      "climax                          32\n",
      "other - mkulima/shinyanga        2\n",
      "Name: extraction_type, dtype: int64\n",
      "EXTRACTION TYPE GROUP \n",
      " gravity            26780\n",
      "nira/tanira         8154\n",
      "other               6430\n",
      "submersible         6179\n",
      "swn 80              3670\n",
      "mono                2865\n",
      "india mark ii       2400\n",
      "afridev             1770\n",
      "rope pump            451\n",
      "other handpump       364\n",
      "other motorpump      122\n",
      "wind-powered         117\n",
      "india mark iii        98\n",
      "Name: extraction_type_group, dtype: int64\n",
      "EXTRACTION TYPE CLASS \n",
      " gravity         26780\n",
      "handpump        16456\n",
      "other            6430\n",
      "submersible      6179\n",
      "motorpump        2987\n",
      "rope pump         451\n",
      "wind-powered      117\n",
      "Name: extraction_type_class, dtype: int64\n"
     ]
    }
   ],
   "source": [
    "#we compare the extraction columns\n",
    "\n",
    "print(f\"EXTRACTION TYPE  \\n {wells_set['extraction_type'].value_counts()}\")\n",
    "print(f\"EXTRACTION TYPE GROUP \\n {wells_set['extraction_type_group'].value_counts()}\")\n",
    "print(f\"EXTRACTION TYPE CLASS \\n {wells_set['extraction_type_class'].value_counts()}\")\n"
   ]
  },
  {
   "cell_type": "markdown",
   "metadata": {},
   "source": [
    "Here we retain the extraction_type_class which is pretty much a summary of the other two\n"
   ]
  },
  {
   "cell_type": "code",
   "execution_count": 509,
   "metadata": {},
   "outputs": [
    {
     "name": "stdout",
     "output_type": "stream",
     "text": [
      "MANAGEMENT  \n",
      " vwc                 40507\n",
      "wug                  6515\n",
      "water board          2933\n",
      "wua                  2535\n",
      "private operator     1971\n",
      "parastatal           1768\n",
      "water authority       904\n",
      "other                 844\n",
      "company               685\n",
      "unknown               561\n",
      "other - school         99\n",
      "trust                  78\n",
      "Name: management, dtype: int64\n",
      "MANAGEMENT GROUP  \n",
      " user-group    52490\n",
      "commercial     3638\n",
      "parastatal     1768\n",
      "other           943\n",
      "unknown         561\n",
      "Name: management_group, dtype: int64\n"
     ]
    }
   ],
   "source": [
    "#Management comparison\n",
    "print(f\"MANAGEMENT  \\n {wells_set['management'].value_counts()}\")\n",
    "print(f\"MANAGEMENT GROUP  \\n {wells_set['management_group'].value_counts()}\")\n"
   ]
  },
  {
   "cell_type": "markdown",
   "metadata": {},
   "source": [
    "Here we retain the more precise management group"
   ]
  },
  {
   "cell_type": "code",
   "execution_count": 510,
   "metadata": {},
   "outputs": [
    {
     "name": "stdout",
     "output_type": "stream",
     "text": [
      "PAYMENT  \n",
      " never pay                25348\n",
      "pay per bucket            8985\n",
      "pay monthly               8300\n",
      "unknown                   8157\n",
      "pay when scheme fails     3914\n",
      "pay annually              3642\n",
      "other                     1054\n",
      "Name: payment, dtype: int64\n",
      "PAYMENT TYPE  \n",
      " never pay     25348\n",
      "per bucket     8985\n",
      "monthly        8300\n",
      "unknown        8157\n",
      "on failure     3914\n",
      "annually       3642\n",
      "other          1054\n",
      "Name: payment_type, dtype: int64\n"
     ]
    }
   ],
   "source": [
    "#We compare the payment columns\n",
    "print(f\"PAYMENT  \\n {wells_set['payment'].value_counts()}\")\n",
    "print(f\"PAYMENT TYPE  \\n {wells_set['payment_type'].value_counts()}\")\n",
    "#dropped is payment"
   ]
  },
  {
   "cell_type": "code",
   "execution_count": 511,
   "metadata": {},
   "outputs": [
    {
     "name": "stdout",
     "output_type": "stream",
     "text": [
      "WATER QUALITY   \n",
      " soft                  50818\n",
      "salty                  4856\n",
      "unknown                1876\n",
      "milky                   804\n",
      "coloured                490\n",
      "salty abandoned         339\n",
      "fluoride                200\n",
      "fluoride abandoned       17\n",
      "Name: water_quality, dtype: int64\n",
      "QUALITY GROUP  \n",
      " good        50818\n",
      "salty        5195\n",
      "unknown      1876\n",
      "milky         804\n",
      "colored       490\n",
      "fluoride      217\n",
      "Name: quality_group, dtype: int64\n"
     ]
    }
   ],
   "source": [
    "#Comparing the quality columns\n",
    "print(f\"WATER QUALITY   \\n {wells_set['water_quality'].value_counts()}\")\n",
    "print(f\"QUALITY GROUP  \\n {wells_set['quality_group'].value_counts()}\")\n",
    "#dropped is water qlty"
   ]
  },
  {
   "cell_type": "code",
   "execution_count": 512,
   "metadata": {},
   "outputs": [
    {
     "name": "stdout",
     "output_type": "stream",
     "text": [
      "QUANTITY  \n",
      " enough          33186\n",
      "insufficient    15129\n",
      "dry              6246\n",
      "seasonal         4050\n",
      "unknown           789\n",
      "Name: quantity, dtype: int64\n",
      "QUANTITY GROUP  \n",
      " enough          33186\n",
      "insufficient    15129\n",
      "dry              6246\n",
      "seasonal         4050\n",
      "unknown           789\n",
      "Name: quantity_group, dtype: int64\n"
     ]
    }
   ],
   "source": [
    "#quantity columns\n",
    "print(f\"QUANTITY  \\n {wells_set['quantity'].value_counts()}\")\n",
    "print(f\"QUANTITY GROUP  \\n {wells_set['quantity_group'].value_counts()}\")\n",
    "#Drop quantity"
   ]
  },
  {
   "cell_type": "code",
   "execution_count": 513,
   "metadata": {},
   "outputs": [
    {
     "name": "stdout",
     "output_type": "stream",
     "text": [
      "SOURCE  \n",
      " spring                  17021\n",
      "shallow well            16824\n",
      "machine dbh             11075\n",
      "river                    9612\n",
      "rainwater harvesting     2295\n",
      "hand dtw                  874\n",
      "lake                      765\n",
      "dam                       656\n",
      "other                     212\n",
      "unknown                    66\n",
      "Name: source, dtype: int64\n",
      "SOURCE TYPE  \n",
      " spring                  17021\n",
      "shallow well            16824\n",
      "borehole                11949\n",
      "river/lake              10377\n",
      "rainwater harvesting     2295\n",
      "dam                       656\n",
      "other                     278\n",
      "Name: source_type, dtype: int64\n",
      "SOURCE CLASS  \n",
      " groundwater    45794\n",
      "surface        13328\n",
      "unknown          278\n",
      "Name: source_class, dtype: int64\n"
     ]
    }
   ],
   "source": [
    "#Comparing the source columns\n",
    "print(f\"SOURCE  \\n {wells_set['source'].value_counts()}\")\n",
    "print(f\"SOURCE TYPE  \\n {wells_set['source_type'].value_counts()}\")\n",
    "print(f\"SOURCE CLASS  \\n {wells_set['source_class'].value_counts()}\")\n",
    "#drop source and source class"
   ]
  },
  {
   "cell_type": "code",
   "execution_count": 514,
   "metadata": {},
   "outputs": [
    {
     "name": "stdout",
     "output_type": "stream",
     "text": [
      "WATERPOINT TYPE  \n",
      " communal standpipe             28522\n",
      "hand pump                      17488\n",
      "other                           6380\n",
      "communal standpipe multiple     6103\n",
      "improved spring                  784\n",
      "cattle trough                    116\n",
      "dam                                7\n",
      "Name: waterpoint_type, dtype: int64\n",
      "WATERPOINT TYPE GROUP  \n",
      " communal standpipe    34625\n",
      "hand pump             17488\n",
      "other                  6380\n",
      "improved spring         784\n",
      "cattle trough           116\n",
      "dam                       7\n",
      "Name: waterpoint_type_group, dtype: int64\n"
     ]
    }
   ],
   "source": [
    "#Comparing the water type columns\n",
    "print(f\"WATERPOINT TYPE  \\n {wells_set['waterpoint_type'].value_counts()}\")\n",
    "print(f\"WATERPOINT TYPE GROUP  \\n {wells_set['waterpoint_type_group'].value_counts()}\")\n",
    "#DROP waterpoint type group"
   ]
  },
  {
   "cell_type": "code",
   "execution_count": 515,
   "metadata": {},
   "outputs": [
    {
     "name": "stdout",
     "output_type": "stream",
     "text": [
      "INSTALLER COLUMN  \n",
      " DWE                         17402\n",
      "Nan                          3655\n",
      "Government                   1825\n",
      "RWE                          1206\n",
      "Commu                        1060\n",
      "                            ...  \n",
      "Joseph nkunda                   1\n",
      "Water Aid/DWE                   1\n",
      "Justine Marwa                   1\n",
      "Got                             1\n",
      "Distric Water Department        1\n",
      "Name: installer, Length: 2146, dtype: int64\n",
      "FUNDING COLUMN  \n",
      " Government Of Tanzania    9084\n",
      "Nan                       3635\n",
      "Danida                    3114\n",
      "Hesawa                    2202\n",
      "Rwssp                     1374\n",
      "                          ... \n",
      "Ur                           1\n",
      "Poland Sec School            1\n",
      "B.A.P                        1\n",
      "Private Individul            1\n",
      "Rwi                          1\n",
      "Name: funder, Length: 1898, dtype: int64\n"
     ]
    }
   ],
   "source": [
    "print(f\"INSTALLER COLUMN  \\n {wells_set['installer'].value_counts()}\")\n",
    "print(f\"FUNDING COLUMN  \\n {wells_set['funder'].value_counts()}\")"
   ]
  },
  {
   "cell_type": "code",
   "execution_count": 516,
   "metadata": {},
   "outputs": [],
   "source": [
    "#We also add some of the columns we see irrelevant to our project to drop function\n",
    "wells_set.drop(columns = ['extraction_type','extraction_type_group','management','payment',\n",
    "                         'water_quality','quantity','source','source_class','waterpoint_type_group',\n",
    "                          'id','public_meeting','recorded_by','permit','wpt_name','region_code','district_code',\n",
    "                         'lga','ward','date_recorded','num_private'], inplace=True)"
   ]
  },
  {
   "cell_type": "code",
   "execution_count": 517,
   "metadata": {},
   "outputs": [
    {
     "data": {
      "text/plain": [
       "(59400, 20)"
      ]
     },
     "execution_count": 517,
     "metadata": {},
     "output_type": "execute_result"
    }
   ],
   "source": [
    "wells_set.shape"
   ]
  },
  {
   "cell_type": "markdown",
   "metadata": {},
   "source": [
    "### 2.3 Validity"
   ]
  },
  {
   "cell_type": "markdown",
   "metadata": {},
   "source": [
    "Here we check on the data types to see if the match the attributes of their individual columns"
   ]
  },
  {
   "cell_type": "code",
   "execution_count": 518,
   "metadata": {},
   "outputs": [
    {
     "name": "stdout",
     "output_type": "stream",
     "text": [
      "<class 'pandas.core.frame.DataFrame'>\n",
      "Int64Index: 59400 entries, 0 to 59399\n",
      "Data columns (total 20 columns):\n",
      " #   Column                 Non-Null Count  Dtype  \n",
      "---  ------                 --------------  -----  \n",
      " 0   amount_tsh             59400 non-null  float64\n",
      " 1   funder                 59400 non-null  object \n",
      " 2   gps_height             59400 non-null  int64  \n",
      " 3   installer              59400 non-null  object \n",
      " 4   longitude              59400 non-null  float64\n",
      " 5   latitude               59400 non-null  float64\n",
      " 6   basin                  59400 non-null  object \n",
      " 7   subvillage             59400 non-null  object \n",
      " 8   region                 59400 non-null  object \n",
      " 9   population             59400 non-null  int64  \n",
      " 10  scheme_management      59400 non-null  object \n",
      " 11  construction_year      59400 non-null  int64  \n",
      " 12  extraction_type_class  59400 non-null  object \n",
      " 13  management_group       59400 non-null  object \n",
      " 14  payment_type           59400 non-null  object \n",
      " 15  quality_group          59400 non-null  object \n",
      " 16  quantity_group         59400 non-null  object \n",
      " 17  source_type            59400 non-null  object \n",
      " 18  waterpoint_type        59400 non-null  object \n",
      " 19  status_group           59400 non-null  object \n",
      "dtypes: float64(3), int64(3), object(14)\n",
      "memory usage: 9.5+ MB\n"
     ]
    }
   ],
   "source": [
    "wells_set.info()"
   ]
  },
  {
   "cell_type": "markdown",
   "metadata": {},
   "source": [
    "We realize that date_recorded is in object form.we change it to the relevant DateTime data type"
   ]
  },
  {
   "cell_type": "code",
   "execution_count": 519,
   "metadata": {},
   "outputs": [
    {
     "data": {
      "text/html": [
       "<div>\n",
       "<style scoped>\n",
       "    .dataframe tbody tr th:only-of-type {\n",
       "        vertical-align: middle;\n",
       "    }\n",
       "\n",
       "    .dataframe tbody tr th {\n",
       "        vertical-align: top;\n",
       "    }\n",
       "\n",
       "    .dataframe thead th {\n",
       "        text-align: right;\n",
       "    }\n",
       "</style>\n",
       "<table border=\"1\" class=\"dataframe\">\n",
       "  <thead>\n",
       "    <tr style=\"text-align: right;\">\n",
       "      <th></th>\n",
       "      <th>amount_tsh</th>\n",
       "      <th>funder</th>\n",
       "      <th>gps_height</th>\n",
       "      <th>installer</th>\n",
       "      <th>longitude</th>\n",
       "      <th>latitude</th>\n",
       "      <th>basin</th>\n",
       "      <th>subvillage</th>\n",
       "      <th>region</th>\n",
       "      <th>population</th>\n",
       "      <th>scheme_management</th>\n",
       "      <th>construction_year</th>\n",
       "      <th>extraction_type_class</th>\n",
       "      <th>management_group</th>\n",
       "      <th>payment_type</th>\n",
       "      <th>quality_group</th>\n",
       "      <th>quantity_group</th>\n",
       "      <th>source_type</th>\n",
       "      <th>waterpoint_type</th>\n",
       "      <th>status_group</th>\n",
       "    </tr>\n",
       "  </thead>\n",
       "  <tbody>\n",
       "    <tr>\n",
       "      <th>0</th>\n",
       "      <td>6000.0</td>\n",
       "      <td>Roman</td>\n",
       "      <td>1390</td>\n",
       "      <td>Roman</td>\n",
       "      <td>34.938093</td>\n",
       "      <td>-9.856322</td>\n",
       "      <td>Lake Nyasa</td>\n",
       "      <td>Mnyusi B</td>\n",
       "      <td>Iringa</td>\n",
       "      <td>109</td>\n",
       "      <td>VWC</td>\n",
       "      <td>1999</td>\n",
       "      <td>gravity</td>\n",
       "      <td>user-group</td>\n",
       "      <td>annually</td>\n",
       "      <td>good</td>\n",
       "      <td>enough</td>\n",
       "      <td>spring</td>\n",
       "      <td>communal standpipe</td>\n",
       "      <td>functional</td>\n",
       "    </tr>\n",
       "    <tr>\n",
       "      <th>1</th>\n",
       "      <td>0.0</td>\n",
       "      <td>Grumeti</td>\n",
       "      <td>1399</td>\n",
       "      <td>GRUMETI</td>\n",
       "      <td>34.698766</td>\n",
       "      <td>-2.147466</td>\n",
       "      <td>Lake Victoria</td>\n",
       "      <td>Nyamara</td>\n",
       "      <td>Mara</td>\n",
       "      <td>280</td>\n",
       "      <td>Other</td>\n",
       "      <td>2010</td>\n",
       "      <td>gravity</td>\n",
       "      <td>user-group</td>\n",
       "      <td>never pay</td>\n",
       "      <td>good</td>\n",
       "      <td>insufficient</td>\n",
       "      <td>rainwater harvesting</td>\n",
       "      <td>communal standpipe</td>\n",
       "      <td>functional</td>\n",
       "    </tr>\n",
       "    <tr>\n",
       "      <th>2</th>\n",
       "      <td>25.0</td>\n",
       "      <td>Lottery Club</td>\n",
       "      <td>686</td>\n",
       "      <td>World vision</td>\n",
       "      <td>37.460664</td>\n",
       "      <td>-3.821329</td>\n",
       "      <td>Pangani</td>\n",
       "      <td>Majengo</td>\n",
       "      <td>Manyara</td>\n",
       "      <td>250</td>\n",
       "      <td>VWC</td>\n",
       "      <td>2009</td>\n",
       "      <td>gravity</td>\n",
       "      <td>user-group</td>\n",
       "      <td>per bucket</td>\n",
       "      <td>good</td>\n",
       "      <td>enough</td>\n",
       "      <td>dam</td>\n",
       "      <td>communal standpipe multiple</td>\n",
       "      <td>functional</td>\n",
       "    </tr>\n",
       "    <tr>\n",
       "      <th>3</th>\n",
       "      <td>0.0</td>\n",
       "      <td>Unicef</td>\n",
       "      <td>263</td>\n",
       "      <td>UNICEF</td>\n",
       "      <td>38.486161</td>\n",
       "      <td>-11.155298</td>\n",
       "      <td>Ruvuma / Southern Coast</td>\n",
       "      <td>Mahakamani</td>\n",
       "      <td>Mtwara</td>\n",
       "      <td>58</td>\n",
       "      <td>VWC</td>\n",
       "      <td>1986</td>\n",
       "      <td>submersible</td>\n",
       "      <td>user-group</td>\n",
       "      <td>never pay</td>\n",
       "      <td>good</td>\n",
       "      <td>dry</td>\n",
       "      <td>borehole</td>\n",
       "      <td>communal standpipe multiple</td>\n",
       "      <td>non functional</td>\n",
       "    </tr>\n",
       "    <tr>\n",
       "      <th>4</th>\n",
       "      <td>0.0</td>\n",
       "      <td>Action In A</td>\n",
       "      <td>0</td>\n",
       "      <td>Artisan</td>\n",
       "      <td>31.130847</td>\n",
       "      <td>-1.825359</td>\n",
       "      <td>Lake Victoria</td>\n",
       "      <td>Kyanyamisa</td>\n",
       "      <td>Kagera</td>\n",
       "      <td>0</td>\n",
       "      <td>Nan</td>\n",
       "      <td>0</td>\n",
       "      <td>gravity</td>\n",
       "      <td>other</td>\n",
       "      <td>never pay</td>\n",
       "      <td>good</td>\n",
       "      <td>seasonal</td>\n",
       "      <td>rainwater harvesting</td>\n",
       "      <td>communal standpipe</td>\n",
       "      <td>functional</td>\n",
       "    </tr>\n",
       "  </tbody>\n",
       "</table>\n",
       "</div>"
      ],
      "text/plain": [
       "   amount_tsh        funder  gps_height     installer  longitude   latitude  \\\n",
       "0      6000.0         Roman        1390         Roman  34.938093  -9.856322   \n",
       "1         0.0       Grumeti        1399       GRUMETI  34.698766  -2.147466   \n",
       "2        25.0  Lottery Club         686  World vision  37.460664  -3.821329   \n",
       "3         0.0        Unicef         263        UNICEF  38.486161 -11.155298   \n",
       "4         0.0   Action In A           0       Artisan  31.130847  -1.825359   \n",
       "\n",
       "                     basin  subvillage   region  population scheme_management  \\\n",
       "0               Lake Nyasa    Mnyusi B   Iringa         109               VWC   \n",
       "1            Lake Victoria     Nyamara     Mara         280             Other   \n",
       "2                  Pangani     Majengo  Manyara         250               VWC   \n",
       "3  Ruvuma / Southern Coast  Mahakamani   Mtwara          58               VWC   \n",
       "4            Lake Victoria  Kyanyamisa   Kagera           0               Nan   \n",
       "\n",
       "   construction_year extraction_type_class management_group payment_type  \\\n",
       "0               1999               gravity       user-group     annually   \n",
       "1               2010               gravity       user-group    never pay   \n",
       "2               2009               gravity       user-group   per bucket   \n",
       "3               1986           submersible       user-group    never pay   \n",
       "4                  0               gravity            other    never pay   \n",
       "\n",
       "  quality_group quantity_group           source_type  \\\n",
       "0          good         enough                spring   \n",
       "1          good   insufficient  rainwater harvesting   \n",
       "2          good         enough                   dam   \n",
       "3          good            dry              borehole   \n",
       "4          good       seasonal  rainwater harvesting   \n",
       "\n",
       "               waterpoint_type    status_group  \n",
       "0           communal standpipe      functional  \n",
       "1           communal standpipe      functional  \n",
       "2  communal standpipe multiple      functional  \n",
       "3  communal standpipe multiple  non functional  \n",
       "4           communal standpipe      functional  "
      ]
     },
     "execution_count": 519,
     "metadata": {},
     "output_type": "execute_result"
    }
   ],
   "source": [
    "df = wells_set\n",
    "df.head()"
   ]
  },
  {
   "cell_type": "code",
   "execution_count": 520,
   "metadata": {},
   "outputs": [
    {
     "data": {
      "text/html": [
       "<div>\n",
       "<style scoped>\n",
       "    .dataframe tbody tr th:only-of-type {\n",
       "        vertical-align: middle;\n",
       "    }\n",
       "\n",
       "    .dataframe tbody tr th {\n",
       "        vertical-align: top;\n",
       "    }\n",
       "\n",
       "    .dataframe thead th {\n",
       "        text-align: right;\n",
       "    }\n",
       "</style>\n",
       "<table border=\"1\" class=\"dataframe\">\n",
       "  <thead>\n",
       "    <tr style=\"text-align: right;\">\n",
       "      <th></th>\n",
       "      <th>amount_tsh</th>\n",
       "      <th>gps_height</th>\n",
       "      <th>longitude</th>\n",
       "      <th>latitude</th>\n",
       "      <th>population</th>\n",
       "      <th>construction_year</th>\n",
       "    </tr>\n",
       "  </thead>\n",
       "  <tbody>\n",
       "    <tr>\n",
       "      <th>count</th>\n",
       "      <td>59400.000000</td>\n",
       "      <td>59400.000000</td>\n",
       "      <td>59400.000000</td>\n",
       "      <td>5.940000e+04</td>\n",
       "      <td>59400.000000</td>\n",
       "      <td>59400.000000</td>\n",
       "    </tr>\n",
       "    <tr>\n",
       "      <th>mean</th>\n",
       "      <td>317.650385</td>\n",
       "      <td>668.297239</td>\n",
       "      <td>34.077427</td>\n",
       "      <td>-5.706033e+00</td>\n",
       "      <td>179.909983</td>\n",
       "      <td>1300.652475</td>\n",
       "    </tr>\n",
       "    <tr>\n",
       "      <th>std</th>\n",
       "      <td>2997.574558</td>\n",
       "      <td>693.116350</td>\n",
       "      <td>6.567432</td>\n",
       "      <td>2.946019e+00</td>\n",
       "      <td>471.482176</td>\n",
       "      <td>951.620547</td>\n",
       "    </tr>\n",
       "    <tr>\n",
       "      <th>min</th>\n",
       "      <td>0.000000</td>\n",
       "      <td>-90.000000</td>\n",
       "      <td>0.000000</td>\n",
       "      <td>-1.164944e+01</td>\n",
       "      <td>0.000000</td>\n",
       "      <td>0.000000</td>\n",
       "    </tr>\n",
       "    <tr>\n",
       "      <th>25%</th>\n",
       "      <td>0.000000</td>\n",
       "      <td>0.000000</td>\n",
       "      <td>33.090347</td>\n",
       "      <td>-8.540621e+00</td>\n",
       "      <td>0.000000</td>\n",
       "      <td>0.000000</td>\n",
       "    </tr>\n",
       "    <tr>\n",
       "      <th>50%</th>\n",
       "      <td>0.000000</td>\n",
       "      <td>369.000000</td>\n",
       "      <td>34.908743</td>\n",
       "      <td>-5.021597e+00</td>\n",
       "      <td>25.000000</td>\n",
       "      <td>1986.000000</td>\n",
       "    </tr>\n",
       "    <tr>\n",
       "      <th>75%</th>\n",
       "      <td>20.000000</td>\n",
       "      <td>1319.250000</td>\n",
       "      <td>37.178387</td>\n",
       "      <td>-3.326156e+00</td>\n",
       "      <td>215.000000</td>\n",
       "      <td>2004.000000</td>\n",
       "    </tr>\n",
       "    <tr>\n",
       "      <th>max</th>\n",
       "      <td>350000.000000</td>\n",
       "      <td>2770.000000</td>\n",
       "      <td>40.345193</td>\n",
       "      <td>-2.000000e-08</td>\n",
       "      <td>30500.000000</td>\n",
       "      <td>2013.000000</td>\n",
       "    </tr>\n",
       "  </tbody>\n",
       "</table>\n",
       "</div>"
      ],
      "text/plain": [
       "          amount_tsh    gps_height     longitude      latitude    population  \\\n",
       "count   59400.000000  59400.000000  59400.000000  5.940000e+04  59400.000000   \n",
       "mean      317.650385    668.297239     34.077427 -5.706033e+00    179.909983   \n",
       "std      2997.574558    693.116350      6.567432  2.946019e+00    471.482176   \n",
       "min         0.000000    -90.000000      0.000000 -1.164944e+01      0.000000   \n",
       "25%         0.000000      0.000000     33.090347 -8.540621e+00      0.000000   \n",
       "50%         0.000000    369.000000     34.908743 -5.021597e+00     25.000000   \n",
       "75%        20.000000   1319.250000     37.178387 -3.326156e+00    215.000000   \n",
       "max    350000.000000   2770.000000     40.345193 -2.000000e-08  30500.000000   \n",
       "\n",
       "       construction_year  \n",
       "count       59400.000000  \n",
       "mean         1300.652475  \n",
       "std           951.620547  \n",
       "min             0.000000  \n",
       "25%             0.000000  \n",
       "50%          1986.000000  \n",
       "75%          2004.000000  \n",
       "max          2013.000000  "
      ]
     },
     "execution_count": 520,
     "metadata": {},
     "output_type": "execute_result"
    }
   ],
   "source": [
    "df.describe()"
   ]
  },
  {
   "cell_type": "code",
   "execution_count": 521,
   "metadata": {},
   "outputs": [],
   "source": [
    "#Here we drop all the rows with tsh 0.0\n",
    "df[df['amount_tsh'] == 0.0]\n",
    "df.drop(index = df[df['amount_tsh'] == 0.0].index, inplace = True)"
   ]
  },
  {
   "cell_type": "code",
   "execution_count": 522,
   "metadata": {},
   "outputs": [],
   "source": [
    "#Based on our descriptive statistics above,on the minimum some values\n",
    "#are zero which is untrue based on where Tanzania is located.We hence drop those rows\n",
    "df =df.astype({'longitude':'int'})\n",
    "# subsetting the longitudes with zero values\n",
    "df[df['longitude'] == 0.0]\n",
    "df.drop(index = df[df['longitude'] == 0.0].index, inplace = True)\n",
    "\n",
    "#df['longitude'].drop(df['longitude'] is 0.0,index=0,inplace = True)"
   ]
  },
  {
   "cell_type": "code",
   "execution_count": 523,
   "metadata": {},
   "outputs": [],
   "source": [
    "#df =df.astype({'water':'int'})\n"
   ]
  },
  {
   "cell_type": "code",
   "execution_count": 524,
   "metadata": {},
   "outputs": [
    {
     "data": {
      "text/plain": [
       "(17761, 20)"
      ]
     },
     "execution_count": 524,
     "metadata": {},
     "output_type": "execute_result"
    }
   ],
   "source": [
    "df.shape"
   ]
  },
  {
   "cell_type": "code",
   "execution_count": 525,
   "metadata": {},
   "outputs": [
    {
     "data": {
      "text/plain": [
       "0        False\n",
       "2        False\n",
       "5        False\n",
       "11       False\n",
       "16       False\n",
       "         ...  \n",
       "59385    False\n",
       "59387    False\n",
       "59394    False\n",
       "59395    False\n",
       "59396    False\n",
       "Length: 17761, dtype: bool"
      ]
     },
     "execution_count": 525,
     "metadata": {},
     "output_type": "execute_result"
    }
   ],
   "source": [
    "df.duplicated()\n"
   ]
  },
  {
   "cell_type": "markdown",
   "metadata": {},
   "source": [
    "## 3.EXPLORATORY DATA ANALYSIS(EDA)"
   ]
  },
  {
   "cell_type": "markdown",
   "metadata": {},
   "source": [
    "Here we mainly visualize the relationships between our features to understand the data more"
   ]
  },
  {
   "cell_type": "code",
   "execution_count": 526,
   "metadata": {},
   "outputs": [
    {
     "data": {
      "image/png": "[encoded data removed]",
      "text/plain": [
       "<Figure size 720x576 with 1 Axes>"
      ]
     },
     "metadata": {
      "needs_background": "light"
     },
     "output_type": "display_data"
    }
   ],
   "source": [
    "fig, ax = plt.subplots(figsize = (10,8))\n",
    "ax = sns.countplot(x='quantity_group', hue=\"status_group\", data=df)\n",
    "\n",
    "# Title and axis labels\n",
    "fig.suptitle('pump status vs quanntity groups', fontsize=18)\n",
    "plt.xlabel(\"quantity group\", fontsize=14)\n",
    "plt.ylabel(\"Number of Wells\", fontsize=14)\n",
    "plt.show()"
   ]
  },
  {
   "cell_type": "markdown",
   "metadata": {},
   "source": [
    "From the above feature we realize that as quantity goes down from enough to unknown,the non-functionality of the water pumps increases"
   ]
  },
  {
   "cell_type": "code",
   "execution_count": 527,
   "metadata": {},
   "outputs": [
    {
     "data": {
      "image/png": "[encoded data removed]",
      "text/plain": [
       "<Figure size 720x576 with 1 Axes>"
      ]
     },
     "metadata": {
      "needs_background": "light"
     },
     "output_type": "display_data"
    }
   ],
   "source": [
    "fig, ax = plt.subplots(figsize = (10,8))\n",
    "ax = sns.countplot(x='management_group', hue=\"status_group\", data=df)\n",
    "\n",
    "# Title and axis labels\n",
    "fig.suptitle('pump status vs groups managing the wells', fontsize=18)\n",
    "plt.xlabel(\"management groups\", fontsize=14)\n",
    "plt.ylabel(\"Number of Wells\", fontsize=14)\n",
    "plt.show()"
   ]
  },
  {
   "cell_type": "code",
   "execution_count": 528,
   "metadata": {},
   "outputs": [
    {
     "data": {
      "image/png": "[encoded data removed]",
      "text/plain": [
       "<Figure size 360x360 with 1 Axes>"
      ]
     },
     "metadata": {
      "needs_background": "light"
     },
     "output_type": "display_data"
    }
   ],
   "source": [
    "\n",
    "ax = sns.relplot(y='population',x='status_group',data=df)\n",
    "\n",
    "# Title and axis labels\n",
    "fig.suptitle('population vs status relation plot', fontsize=18)\n",
    "plt.xlabel(\"status group\", fontsize=14)\n",
    "plt.ylabel(\"population density\", fontsize=14)\n",
    "plt.show()"
   ]
  },
  {
   "cell_type": "code",
   "execution_count": 529,
   "metadata": {},
   "outputs": [
    {
     "data": {
      "image/png": "[encoded data removed]",
      "text/plain": [
       "<Figure size 720x576 with 1 Axes>"
      ]
     },
     "metadata": {
      "needs_background": "light"
     },
     "output_type": "display_data"
    }
   ],
   "source": [
    "fig, ax = plt.subplots(figsize=(10,8))\n",
    "ax = sns.countplot(x='payment_type', hue=\"status_group\", palette='bright', data=df)\n",
    "\n",
    "# Title and axis labels\n",
    "fig.suptitle('pump status vs payment type at Wells', fontsize=18)\n",
    "plt.xlabel(\"Payment type\", fontsize=14)\n",
    "plt.ylabel(\"Number of Wells\", fontsize=14)\n",
    "plt.show()"
   ]
  },
  {
   "cell_type": "markdown",
   "metadata": {},
   "source": [
    "# 5.MODELING"
   ]
  },
  {
   "cell_type": "markdown",
   "metadata": {},
   "source": [
    "The first step for preprocessing data for modeling is to create dummies for our categorical columns and perform a train test split. It is very important to not perform any other preprocessing or scaling techniques before performing train test split to prevent data leakage. I employed sklearn’s pipeline feature in my models as an extra layer of protection for data leakage. For the purposes of this project, we will use precision of the functional well class as our main metric for model evaluation. I like to see all metrics so I used this function which returns a confusion matrix at the end.\n",
    "\n"
   ]
  },
  {
   "cell_type": "code",
   "execution_count": 530,
   "metadata": {},
   "outputs": [],
   "source": [
    "ohe = OneHotEncoder()\n"
   ]
  },
  {
   "cell_type": "code",
   "execution_count": 531,
   "metadata": {},
   "outputs": [
    {
     "name": "stdout",
     "output_type": "stream",
     "text": [
      "<class 'pandas.core.frame.DataFrame'>\n",
      "Int64Index: 17761 entries, 0 to 59396\n",
      "Data columns (total 20 columns):\n",
      " #   Column                 Non-Null Count  Dtype  \n",
      "---  ------                 --------------  -----  \n",
      " 0   amount_tsh             17761 non-null  float64\n",
      " 1   funder                 17761 non-null  object \n",
      " 2   gps_height             17761 non-null  int64  \n",
      " 3   installer              17761 non-null  object \n",
      " 4   longitude              17761 non-null  int32  \n",
      " 5   latitude               17761 non-null  float64\n",
      " 6   basin                  17761 non-null  object \n",
      " 7   subvillage             17761 non-null  object \n",
      " 8   region                 17761 non-null  object \n",
      " 9   population             17761 non-null  int64  \n",
      " 10  scheme_management      17761 non-null  object \n",
      " 11  construction_year      17761 non-null  int64  \n",
      " 12  extraction_type_class  17761 non-null  object \n",
      " 13  management_group       17761 non-null  object \n",
      " 14  payment_type           17761 non-null  object \n",
      " 15  quality_group          17761 non-null  object \n",
      " 16  quantity_group         17761 non-null  object \n",
      " 17  source_type            17761 non-null  object \n",
      " 18  waterpoint_type        17761 non-null  object \n",
      " 19  status_group           17761 non-null  object \n",
      "dtypes: float64(2), int32(1), int64(3), object(14)\n",
      "memory usage: 3.4+ MB\n"
     ]
    }
   ],
   "source": [
    "df.info()"
   ]
  },
  {
   "cell_type": "code",
   "execution_count": 537,
   "metadata": {},
   "outputs": [],
   "source": [
    "cat = ['funder','installer','basin','subvillage','region','scheme_management','extraction_type_class','management_group',\n",
    "      'payment_type','quality_group','quantity_group','source_type','waterpoint_type']\n",
    "num = ['amount_tsh','gps_height','longitude','latitude','population','construction_year']"
   ]
  },
  {
   "cell_type": "code",
   "execution_count": 538,
   "metadata": {},
   "outputs": [],
   "source": [
    "y = pd.Series(df['status_group'])\n",
    "X = df.drop('status_group',axis=1)\n"
   ]
  },
  {
   "cell_type": "code",
   "execution_count": 539,
   "metadata": {},
   "outputs": [],
   "source": [
    "#Splitting our data into the training and the testing set\n",
    "X_train,X_test,y_train,y_test = train_test_split(X,y,test_size=0.3, random_state=42)"
   ]
  },
  {
   "cell_type": "code",
   "execution_count": null,
   "metadata": {},
   "outputs": [],
   "source": []
  },
  {
   "cell_type": "code",
   "execution_count": 540,
   "metadata": {},
   "outputs": [],
   "source": [
    "# insantiating the scaler\n",
    "\n",
    "scaler = StandardScaler()\n",
    "\n",
    "# fitting and transforming it on the train data\n",
    "\n",
    "scaled_X_train = scaler.fit_transform(X_train[num])\n",
    "\n",
    "scaled_X_test = scaler.transform(X_test[num])\n",
    "\n",
    "\n",
    "# converting into a dataframe\n",
    "\n",
    "scaled_df_train = pd.DataFrame(data = scaled_X_train, columns = X_train[num].columns, index = X_train.index)\n",
    "scaled_df_test = pd.DataFrame(data = scaled_X_test, columns = X_test[num].columns, index = X_test.index)"
   ]
  },
  {
   "cell_type": "code",
   "execution_count": 541,
   "metadata": {},
   "outputs": [],
   "source": [
    "# one hot encoding for categorical columns\n",
    "\n",
    "X_train_cat = pd.get_dummies(data = X_train[cat], drop_first=True)\n",
    "X_test_cat = pd.get_dummies(data = X_test[cat], drop_first=True)"
   ]
  },
  {
   "cell_type": "code",
   "execution_count": 542,
   "metadata": {},
   "outputs": [],
   "source": [
    "X_train_df = pd.merge(scaled_df_train, X_train_cat, left_index=True, right_index=True)\n",
    "X_test_df = pd.merge(scaled_df_test, X_test_cat, left_index=True, right_index=True)"
   ]
  },
  {
   "cell_type": "code",
   "execution_count": null,
   "metadata": {},
   "outputs": [],
   "source": []
  },
  {
   "cell_type": "code",
   "execution_count": 543,
   "metadata": {},
   "outputs": [],
   "source": [
    "# function to track model metrics and plot confusion matrix\n",
    "def model_score(model, X_test, y_pred, y_test):\n",
    "    target_names= ['non functional', 'functional need repair', 'functional']\n",
    "    print(classification_report(y_train, y_test, target_names=target_names))\n",
    "    \n",
    "    #Confusion matrix    \n",
    "    return plot_confusion_matrix(model, X_test, y_test, display_labels=target_names);"
   ]
  },
  {
   "cell_type": "markdown",
   "metadata": {},
   "source": [
    "## 5.1 Logistic Regression"
   ]
  },
  {
   "cell_type": "code",
   "execution_count": 550,
   "metadata": {},
   "outputs": [
    {
     "ename": "ValueError",
     "evalue": "X has 3884 features per sample; expecting 6187",
     "output_type": "error",
     "traceback": [
      "\u001b[1;31m---------------------------------------------------------------------------\u001b[0m",
      "\u001b[1;31mValueError\u001b[0m                                Traceback (most recent call last)",
      "\u001b[1;32m<ipython-input-550-d4d403a39d7d>\u001b[0m in \u001b[0;36m<module>\u001b[1;34m\u001b[0m\n\u001b[0;32m      3\u001b[0m \u001b[1;31m# Fit and predict\u001b[0m\u001b[1;33m\u001b[0m\u001b[1;33m\u001b[0m\u001b[1;33m\u001b[0m\u001b[0m\n\u001b[0;32m      4\u001b[0m \u001b[0mpipe_lr\u001b[0m\u001b[1;33m.\u001b[0m\u001b[0mfit\u001b[0m\u001b[1;33m(\u001b[0m\u001b[0mX_train_df\u001b[0m\u001b[1;33m,\u001b[0m \u001b[0my_train\u001b[0m\u001b[1;33m)\u001b[0m\u001b[1;33m\u001b[0m\u001b[1;33m\u001b[0m\u001b[0m\n\u001b[1;32m----> 5\u001b[1;33m \u001b[0mtest_preds\u001b[0m \u001b[1;33m=\u001b[0m \u001b[0mpipe_lr\u001b[0m\u001b[1;33m.\u001b[0m\u001b[0mpredict\u001b[0m\u001b[1;33m(\u001b[0m\u001b[0mX_test_df\u001b[0m\u001b[1;33m)\u001b[0m\u001b[1;33m\u001b[0m\u001b[1;33m\u001b[0m\u001b[0m\n\u001b[0m\u001b[0;32m      6\u001b[0m \u001b[1;33m\u001b[0m\u001b[0m\n\u001b[0;32m      7\u001b[0m \u001b[0mprint\u001b[0m\u001b[1;33m(\u001b[0m\u001b[1;34m\"Test data model score:\"\u001b[0m\u001b[1;33m)\u001b[0m\u001b[1;33m\u001b[0m\u001b[1;33m\u001b[0m\u001b[0m\n",
      "\u001b[1;32m~\\anaconda3\\envs\\learn-env\\lib\\site-packages\\sklearn\\utils\\metaestimators.py\u001b[0m in \u001b[0;36m<lambda>\u001b[1;34m(*args, **kwargs)\u001b[0m\n\u001b[0;32m    117\u001b[0m \u001b[1;33m\u001b[0m\u001b[0m\n\u001b[0;32m    118\u001b[0m         \u001b[1;31m# lambda, but not partial, allows help() to work with update_wrapper\u001b[0m\u001b[1;33m\u001b[0m\u001b[1;33m\u001b[0m\u001b[1;33m\u001b[0m\u001b[0m\n\u001b[1;32m--> 119\u001b[1;33m         \u001b[0mout\u001b[0m \u001b[1;33m=\u001b[0m \u001b[1;32mlambda\u001b[0m \u001b[1;33m*\u001b[0m\u001b[0margs\u001b[0m\u001b[1;33m,\u001b[0m \u001b[1;33m**\u001b[0m\u001b[0mkwargs\u001b[0m\u001b[1;33m:\u001b[0m \u001b[0mself\u001b[0m\u001b[1;33m.\u001b[0m\u001b[0mfn\u001b[0m\u001b[1;33m(\u001b[0m\u001b[0mobj\u001b[0m\u001b[1;33m,\u001b[0m \u001b[1;33m*\u001b[0m\u001b[0margs\u001b[0m\u001b[1;33m,\u001b[0m \u001b[1;33m**\u001b[0m\u001b[0mkwargs\u001b[0m\u001b[1;33m)\u001b[0m\u001b[1;33m\u001b[0m\u001b[1;33m\u001b[0m\u001b[0m\n\u001b[0m\u001b[0;32m    120\u001b[0m         \u001b[1;31m# update the docstring of the returned function\u001b[0m\u001b[1;33m\u001b[0m\u001b[1;33m\u001b[0m\u001b[1;33m\u001b[0m\u001b[0m\n\u001b[0;32m    121\u001b[0m         \u001b[0mupdate_wrapper\u001b[0m\u001b[1;33m(\u001b[0m\u001b[0mout\u001b[0m\u001b[1;33m,\u001b[0m \u001b[0mself\u001b[0m\u001b[1;33m.\u001b[0m\u001b[0mfn\u001b[0m\u001b[1;33m)\u001b[0m\u001b[1;33m\u001b[0m\u001b[1;33m\u001b[0m\u001b[0m\n",
      "\u001b[1;32m~\\anaconda3\\envs\\learn-env\\lib\\site-packages\\sklearn\\pipeline.py\u001b[0m in \u001b[0;36mpredict\u001b[1;34m(self, X, **predict_params)\u001b[0m\n\u001b[0;32m    406\u001b[0m         \u001b[1;32mfor\u001b[0m \u001b[0m_\u001b[0m\u001b[1;33m,\u001b[0m \u001b[0mname\u001b[0m\u001b[1;33m,\u001b[0m \u001b[0mtransform\u001b[0m \u001b[1;32min\u001b[0m \u001b[0mself\u001b[0m\u001b[1;33m.\u001b[0m\u001b[0m_iter\u001b[0m\u001b[1;33m(\u001b[0m\u001b[0mwith_final\u001b[0m\u001b[1;33m=\u001b[0m\u001b[1;32mFalse\u001b[0m\u001b[1;33m)\u001b[0m\u001b[1;33m:\u001b[0m\u001b[1;33m\u001b[0m\u001b[1;33m\u001b[0m\u001b[0m\n\u001b[0;32m    407\u001b[0m             \u001b[0mXt\u001b[0m \u001b[1;33m=\u001b[0m \u001b[0mtransform\u001b[0m\u001b[1;33m.\u001b[0m\u001b[0mtransform\u001b[0m\u001b[1;33m(\u001b[0m\u001b[0mXt\u001b[0m\u001b[1;33m)\u001b[0m\u001b[1;33m\u001b[0m\u001b[1;33m\u001b[0m\u001b[0m\n\u001b[1;32m--> 408\u001b[1;33m         \u001b[1;32mreturn\u001b[0m \u001b[0mself\u001b[0m\u001b[1;33m.\u001b[0m\u001b[0msteps\u001b[0m\u001b[1;33m[\u001b[0m\u001b[1;33m-\u001b[0m\u001b[1;36m1\u001b[0m\u001b[1;33m]\u001b[0m\u001b[1;33m[\u001b[0m\u001b[1;33m-\u001b[0m\u001b[1;36m1\u001b[0m\u001b[1;33m]\u001b[0m\u001b[1;33m.\u001b[0m\u001b[0mpredict\u001b[0m\u001b[1;33m(\u001b[0m\u001b[0mXt\u001b[0m\u001b[1;33m,\u001b[0m \u001b[1;33m**\u001b[0m\u001b[0mpredict_params\u001b[0m\u001b[1;33m)\u001b[0m\u001b[1;33m\u001b[0m\u001b[1;33m\u001b[0m\u001b[0m\n\u001b[0m\u001b[0;32m    409\u001b[0m \u001b[1;33m\u001b[0m\u001b[0m\n\u001b[0;32m    410\u001b[0m     \u001b[1;33m@\u001b[0m\u001b[0mif_delegate_has_method\u001b[0m\u001b[1;33m(\u001b[0m\u001b[0mdelegate\u001b[0m\u001b[1;33m=\u001b[0m\u001b[1;34m'_final_estimator'\u001b[0m\u001b[1;33m)\u001b[0m\u001b[1;33m\u001b[0m\u001b[1;33m\u001b[0m\u001b[0m\n",
      "\u001b[1;32m~\\anaconda3\\envs\\learn-env\\lib\\site-packages\\sklearn\\linear_model\\_base.py\u001b[0m in \u001b[0;36mpredict\u001b[1;34m(self, X)\u001b[0m\n\u001b[0;32m    305\u001b[0m             \u001b[0mPredicted\u001b[0m \u001b[1;32mclass\u001b[0m \u001b[0mlabel\u001b[0m \u001b[0mper\u001b[0m \u001b[0msample\u001b[0m\u001b[1;33m.\u001b[0m\u001b[1;33m\u001b[0m\u001b[1;33m\u001b[0m\u001b[0m\n\u001b[0;32m    306\u001b[0m         \"\"\"\n\u001b[1;32m--> 307\u001b[1;33m         \u001b[0mscores\u001b[0m \u001b[1;33m=\u001b[0m \u001b[0mself\u001b[0m\u001b[1;33m.\u001b[0m\u001b[0mdecision_function\u001b[0m\u001b[1;33m(\u001b[0m\u001b[0mX\u001b[0m\u001b[1;33m)\u001b[0m\u001b[1;33m\u001b[0m\u001b[1;33m\u001b[0m\u001b[0m\n\u001b[0m\u001b[0;32m    308\u001b[0m         \u001b[1;32mif\u001b[0m \u001b[0mlen\u001b[0m\u001b[1;33m(\u001b[0m\u001b[0mscores\u001b[0m\u001b[1;33m.\u001b[0m\u001b[0mshape\u001b[0m\u001b[1;33m)\u001b[0m \u001b[1;33m==\u001b[0m \u001b[1;36m1\u001b[0m\u001b[1;33m:\u001b[0m\u001b[1;33m\u001b[0m\u001b[1;33m\u001b[0m\u001b[0m\n\u001b[0;32m    309\u001b[0m             \u001b[0mindices\u001b[0m \u001b[1;33m=\u001b[0m \u001b[1;33m(\u001b[0m\u001b[0mscores\u001b[0m \u001b[1;33m>\u001b[0m \u001b[1;36m0\u001b[0m\u001b[1;33m)\u001b[0m\u001b[1;33m.\u001b[0m\u001b[0mastype\u001b[0m\u001b[1;33m(\u001b[0m\u001b[0mnp\u001b[0m\u001b[1;33m.\u001b[0m\u001b[0mint\u001b[0m\u001b[1;33m)\u001b[0m\u001b[1;33m\u001b[0m\u001b[1;33m\u001b[0m\u001b[0m\n",
      "\u001b[1;32m~\\anaconda3\\envs\\learn-env\\lib\\site-packages\\sklearn\\linear_model\\_base.py\u001b[0m in \u001b[0;36mdecision_function\u001b[1;34m(self, X)\u001b[0m\n\u001b[0;32m    284\u001b[0m         \u001b[0mn_features\u001b[0m \u001b[1;33m=\u001b[0m \u001b[0mself\u001b[0m\u001b[1;33m.\u001b[0m\u001b[0mcoef_\u001b[0m\u001b[1;33m.\u001b[0m\u001b[0mshape\u001b[0m\u001b[1;33m[\u001b[0m\u001b[1;36m1\u001b[0m\u001b[1;33m]\u001b[0m\u001b[1;33m\u001b[0m\u001b[1;33m\u001b[0m\u001b[0m\n\u001b[0;32m    285\u001b[0m         \u001b[1;32mif\u001b[0m \u001b[0mX\u001b[0m\u001b[1;33m.\u001b[0m\u001b[0mshape\u001b[0m\u001b[1;33m[\u001b[0m\u001b[1;36m1\u001b[0m\u001b[1;33m]\u001b[0m \u001b[1;33m!=\u001b[0m \u001b[0mn_features\u001b[0m\u001b[1;33m:\u001b[0m\u001b[1;33m\u001b[0m\u001b[1;33m\u001b[0m\u001b[0m\n\u001b[1;32m--> 286\u001b[1;33m             raise ValueError(\"X has %d features per sample; expecting %d\"\n\u001b[0m\u001b[0;32m    287\u001b[0m                              % (X.shape[1], n_features))\n\u001b[0;32m    288\u001b[0m \u001b[1;33m\u001b[0m\u001b[0m\n",
      "\u001b[1;31mValueError\u001b[0m: X has 3884 features per sample; expecting 6187"
     ]
    }
   ],
   "source": [
    "# construct a pipe that takes in several arguments at once\n",
    "pipe_lr = Pipeline([('lr', LogisticRegression())])\n",
    "# Fit and predict\n",
    "pipe_lr.fit(X_train_df, y_train)\n",
    "test_preds = pipe_lr.predict(X_test_df)\n",
    "\n",
    "print(\"Test data model score:\")\n",
    "lr_score = model_score(pipe_lr,X_test_df,test_preds, y_test)"
   ]
  },
  {
   "cell_type": "code",
   "execution_count": null,
   "metadata": {},
   "outputs": [],
   "source": [
    "(df=='Wateraid').sum()"
   ]
  },
  {
   "cell_type": "code",
   "execution_count": null,
   "metadata": {},
   "outputs": [],
   "source": [
    "df.info()"
   ]
  }
 ],
 "metadata": {
  "kernelspec": {
   "display_name": "Python (learn-env)",
   "language": "python",
   "name": "learn-env"
  },
  "language_info": {
   "codemirror_mode": {
    "name": "ipython",
    "version": 3
   },
   "file_extension": ".py",
   "mimetype": "text/x-python",
   "name": "python",
   "nbconvert_exporter": "python",
   "pygments_lexer": "ipython3",
   "version": "3.8.5"
  }
 },
 "nbformat": 4,
 "nbformat_minor": 4
}
