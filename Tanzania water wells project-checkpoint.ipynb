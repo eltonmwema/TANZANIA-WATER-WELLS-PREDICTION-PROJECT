{
 "cells": [
  {
   "cell_type": "markdown",
   "metadata": {},
   "source": [
    "# TANZANIA-WATER-WELLS-PREDICTION-PROJECT"
   ]
  },
  {
   "cell_type": "markdown",
   "metadata": {},
   "source": [
    "## 1.1 Overview\n",
    "Tanzania is a developing country that struggles to get clean water to its population of 59 million people. According to WHO, 1 in 6 people in Tanzania lack access to safe drinking water and 29 million don’t have access to improved sanitation. The focus of this project is to build a classification model to predict the functionality of waterpoints in Tanzania given data provided by Taarifa and the Tanzanian Ministry of Water. The model was built from a dataset containing information about the source of water and status of the waterpoint (functional, functional but needs repairs, and non functional) using an iterative approach and can be found here. The dataset contains 60,000 waterpoints in Tanzania and the following features will be used in our final model:\n",
    "\n",
<<<<<<< HEAD
    "amount_tsh — Total static head (amount water available to waterpoint)\n",
    "gps_height — Altitude of the well\n",
    "installer — Organization that installed the well\n",
    "longitude — GPS coordinate\n",
    "latitude — GPS coordinate\n",
    "basin — Geographic water basin\n",
    "region — Geographic location\n",
    "population — Population around the well\n",
    "recorded_by — Group entering this row of data\n",
    "construction_year — Year the waterpoint was constructed\n",
    "extraction_type_class — The kind of extraction the waterpoint uses\n",
    "management — How the waterpoint is managed\n",
    "payment_type — What the water costs\n",
    "water_quality — The quality of the water\n",
    "quantity — The quantity of water\n",
    "source_type — The source of the water\n",
    "waterpoint_type — The kind of waterpoint\n",
    "\n",
<<<<<<< Updated upstream
    "The first sections focus on investigating, cleaning, wrangling, and reducing dimensionality for modeling. The next section contains 6 different classification models and evaluation of each, ultimately leading to us to select our best model for predicting waterpoint status based on the precision of the functional wells in the model. Finally, I will make recommendations to the Tanzanian Government and provide insight on predicting the status of waterpoints."
=======
    "subvillage\n",
    "\n",
    "region\n",
    "\n",
=======
    "amount_tsh — Total static head (amount water available to waterpoint),\n",
    "gps_height — Altitude of the well,\n",
    "installer — Organization that installed the well,\n",
    "-longitude — GPS coordinate,\n",
    "-latitude — GPS coordinate,\n",
    "-basin — Geographic water basin,\n",
    "-region — Geographic location,\n",
    "-population — Population around the well,\n",
    "-construction_year — Year the waterpoint was constructed,\n",
    "-extraction_type_class — The kind of extraction the waterpoint uses,\n",
    "-scheme management — How the waterpoint is managed,\n",
    "-payment_type — What the water costs,\n",
    "-quality_group — The quality of the water,\n",
    "-quantity_group — The quantity of water,\n",
    "-source_type — The source of the water,\n",
    "-waterpoint_type — The kind of waterpoint,\n",
    "-subvillage,\n",
    "-region\n",
    "\n",
>>>>>>> 4a1cd2f3e0aeaa472c235472558930642a2ef582
    " \n",
    "The first sections focus on investigating, cleaning, wrangling, and reducing dimensionality for modeling. The next section contains 4 different classification models and evaluation of each, ultimately leading to us to select our best model for predicting waterpoint status based on the precision of the functional wells in the model. Finally, I will make recommendations to the Tanzanian Government and provide insight on predicting the status of waterpoints."
>>>>>>> Stashed changes
   ]
  },
  {
   "cell_type": "markdown",
   "metadata": {},
   "source": [
    "## 1.2 Business Problem\n",
    "The Tanzanian government has a severe water crisis on their hands as a result of the vast number of non functional wells and they have asked for help. They want to be able to predict the statuses of which pumps are functional, functional but need repair, and non functional in order to improve their maintenance operations and ensure that it’s residents have access to safe drinking water. The data has been collected by and is provided by Taarifa and the Tanzanian Ministry of Water with the hope that the information provided by each waterpoint can aid understanding in which waterpoints will fail.\n",
    "\n",
    "I have partnered with the Tanzanian government to build a classification model to predict the status of the waterpoints using the dataset provided. I will use the precision of the functional wells as my main metric for model selection, as a non functional well being predicted as a functional well would be more detrimental to their case, but will provide and discuss several metrics for each model.\n",
    "\n",
    "Data\n",
    "The dataset used for this analysis can be found here. It contains a wealth of information about waterpoints in Tanzania and the status of their operation. The target variable has 3 different options for it’s status:\n",
    "\n",
    "functional — the waterpoint is operational and there are no repairs needed\n",
    "functional needs repair — the waterpoint is operational, but needs repairs\n",
    "non functional — the waterpoint is not operational\n"
   ]
  },
  {
   "cell_type": "markdown",
   "metadata": {},
   "source": [
<<<<<<< Updated upstream
    "# Import all relevant libraries"
=======
<<<<<<< HEAD
    "## 1.3 Metrics of Success\n",
    "When the following \n",
    "\n",
    "1. Identify best performing model.\n",
    "\n",
    "2. Realize factors affecting the functionality of the water wells."
   ]
  },
  {
   "cell_type": "markdown",
   "metadata": {},
   "source": [
=======
>>>>>>> 4a1cd2f3e0aeaa472c235472558930642a2ef582
    "# 2. Import all relevant libraries"
>>>>>>> Stashed changes
   ]
  },
  {
   "cell_type": "code",
<<<<<<< Updated upstream
   "execution_count": 1,
=======
<<<<<<< HEAD
   "execution_count": 2,
=======
   "execution_count": 1,
>>>>>>> 4a1cd2f3e0aeaa472c235472558930642a2ef582
>>>>>>> Stashed changes
   "metadata": {},
   "outputs": [],
   "source": [
    "import pandas as pd\n",
    "import numpy as np\n",
    "\n",
    "import matplotlib.pyplot as plt\n",
    "import seaborn as sns\n",
    "%matplotlib inline\n",
    "\n",
    "import warnings\n",
    "warnings.filterwarnings('ignore')\n",
    "\n",
    "from sklearn.linear_model import LogisticRegression\n",
    "from sklearn.model_selection import train_test_split,GridSearchCV\n",
    "from sklearn.preprocessing import StandardScaler\n",
    "from sklearn.preprocessing import OneHotEncoder,LabelEncoder\n",
    "from sklearn.ensemble import RandomForestClassifier\n",
    "from sklearn.neighbors import KNeighborsClassifier\n",
    "from sklearn.tree import DecisionTreeClassifier\n",
    "from sklearn.pipeline import Pipeline\n",
    "\n",
    "from sklearn.metrics import plot_confusion_matrix, classification_report\n",
    "\n"
   ]
  },
  {
   "cell_type": "code",
<<<<<<< Updated upstream
   "execution_count": 2,
=======
<<<<<<< HEAD
   "execution_count": 3,
=======
   "execution_count": 2,
>>>>>>> 4a1cd2f3e0aeaa472c235472558930642a2ef582
>>>>>>> Stashed changes
   "metadata": {},
   "outputs": [
    {
     "data": {
      "text/html": [
       "<div>\n",
       "<style scoped>\n",
       "    .dataframe tbody tr th:only-of-type {\n",
       "        vertical-align: middle;\n",
       "    }\n",
       "\n",
       "    .dataframe tbody tr th {\n",
       "        vertical-align: top;\n",
       "    }\n",
       "\n",
       "    .dataframe thead th {\n",
       "        text-align: right;\n",
       "    }\n",
       "</style>\n",
       "<table border=\"1\" class=\"dataframe\">\n",
       "  <thead>\n",
       "    <tr style=\"text-align: right;\">\n",
       "      <th></th>\n",
       "      <th>id</th>\n",
       "      <th>amount_tsh</th>\n",
       "      <th>date_recorded</th>\n",
       "      <th>funder</th>\n",
       "      <th>gps_height</th>\n",
       "      <th>installer</th>\n",
       "      <th>longitude</th>\n",
       "      <th>latitude</th>\n",
       "      <th>wpt_name</th>\n",
       "      <th>num_private</th>\n",
       "      <th>...</th>\n",
       "      <th>payment_type</th>\n",
       "      <th>water_quality</th>\n",
       "      <th>quality_group</th>\n",
       "      <th>quantity</th>\n",
       "      <th>quantity_group</th>\n",
       "      <th>source</th>\n",
       "      <th>source_type</th>\n",
       "      <th>source_class</th>\n",
       "      <th>waterpoint_type</th>\n",
       "      <th>waterpoint_type_group</th>\n",
       "    </tr>\n",
       "  </thead>\n",
       "  <tbody>\n",
       "    <tr>\n",
       "      <th>0</th>\n",
       "      <td>69572</td>\n",
       "      <td>6000.0</td>\n",
       "      <td>3/14/2011</td>\n",
       "      <td>Roman</td>\n",
       "      <td>1390</td>\n",
       "      <td>Roman</td>\n",
       "      <td>34.938093</td>\n",
       "      <td>-9.856322</td>\n",
       "      <td>none</td>\n",
       "      <td>0</td>\n",
       "      <td>...</td>\n",
       "      <td>annually</td>\n",
       "      <td>soft</td>\n",
       "      <td>good</td>\n",
       "      <td>enough</td>\n",
       "      <td>enough</td>\n",
       "      <td>spring</td>\n",
       "      <td>spring</td>\n",
       "      <td>groundwater</td>\n",
       "      <td>communal standpipe</td>\n",
       "      <td>communal standpipe</td>\n",
       "    </tr>\n",
       "    <tr>\n",
       "      <th>1</th>\n",
       "      <td>8776</td>\n",
       "      <td>0.0</td>\n",
       "      <td>3/6/2013</td>\n",
       "      <td>Grumeti</td>\n",
       "      <td>1399</td>\n",
       "      <td>GRUMETI</td>\n",
       "      <td>34.698766</td>\n",
       "      <td>-2.147466</td>\n",
       "      <td>Zahanati</td>\n",
       "      <td>0</td>\n",
       "      <td>...</td>\n",
       "      <td>never pay</td>\n",
       "      <td>soft</td>\n",
       "      <td>good</td>\n",
       "      <td>insufficient</td>\n",
       "      <td>insufficient</td>\n",
       "      <td>rainwater harvesting</td>\n",
       "      <td>rainwater harvesting</td>\n",
       "      <td>surface</td>\n",
       "      <td>communal standpipe</td>\n",
       "      <td>communal standpipe</td>\n",
       "    </tr>\n",
       "    <tr>\n",
       "      <th>2</th>\n",
       "      <td>34310</td>\n",
       "      <td>25.0</td>\n",
       "      <td>2/25/2013</td>\n",
       "      <td>Lottery Club</td>\n",
       "      <td>686</td>\n",
       "      <td>World vision</td>\n",
       "      <td>37.460664</td>\n",
       "      <td>-3.821329</td>\n",
       "      <td>Kwa Mahundi</td>\n",
       "      <td>0</td>\n",
       "      <td>...</td>\n",
       "      <td>per bucket</td>\n",
       "      <td>soft</td>\n",
       "      <td>good</td>\n",
       "      <td>enough</td>\n",
       "      <td>enough</td>\n",
       "      <td>dam</td>\n",
       "      <td>dam</td>\n",
       "      <td>surface</td>\n",
       "      <td>communal standpipe multiple</td>\n",
       "      <td>communal standpipe</td>\n",
       "    </tr>\n",
       "    <tr>\n",
       "      <th>3</th>\n",
       "      <td>67743</td>\n",
       "      <td>0.0</td>\n",
       "      <td>1/28/2013</td>\n",
       "      <td>Unicef</td>\n",
       "      <td>263</td>\n",
       "      <td>UNICEF</td>\n",
       "      <td>38.486161</td>\n",
       "      <td>-11.155298</td>\n",
       "      <td>Zahanati Ya Nanyumbu</td>\n",
       "      <td>0</td>\n",
       "      <td>...</td>\n",
       "      <td>never pay</td>\n",
       "      <td>soft</td>\n",
       "      <td>good</td>\n",
       "      <td>dry</td>\n",
       "      <td>dry</td>\n",
       "      <td>machine dbh</td>\n",
       "      <td>borehole</td>\n",
       "      <td>groundwater</td>\n",
       "      <td>communal standpipe multiple</td>\n",
       "      <td>communal standpipe</td>\n",
       "    </tr>\n",
       "    <tr>\n",
       "      <th>4</th>\n",
       "      <td>19728</td>\n",
       "      <td>0.0</td>\n",
       "      <td>7/13/2011</td>\n",
       "      <td>Action In A</td>\n",
       "      <td>0</td>\n",
       "      <td>Artisan</td>\n",
       "      <td>31.130847</td>\n",
       "      <td>-1.825359</td>\n",
       "      <td>Shuleni</td>\n",
       "      <td>0</td>\n",
       "      <td>...</td>\n",
       "      <td>never pay</td>\n",
       "      <td>soft</td>\n",
       "      <td>good</td>\n",
       "      <td>seasonal</td>\n",
       "      <td>seasonal</td>\n",
       "      <td>rainwater harvesting</td>\n",
       "      <td>rainwater harvesting</td>\n",
       "      <td>surface</td>\n",
       "      <td>communal standpipe</td>\n",
       "      <td>communal standpipe</td>\n",
       "    </tr>\n",
       "  </tbody>\n",
       "</table>\n",
       "<p>5 rows × 40 columns</p>\n",
       "</div>"
      ],
      "text/plain": [
       "      id  amount_tsh date_recorded        funder  gps_height     installer  \\\n",
       "0  69572      6000.0     3/14/2011         Roman        1390         Roman   \n",
       "1   8776         0.0      3/6/2013       Grumeti        1399       GRUMETI   \n",
       "2  34310        25.0     2/25/2013  Lottery Club         686  World vision   \n",
       "3  67743         0.0     1/28/2013        Unicef         263        UNICEF   \n",
       "4  19728         0.0     7/13/2011   Action In A           0       Artisan   \n",
       "\n",
       "   longitude   latitude              wpt_name  num_private  ... payment_type  \\\n",
       "0  34.938093  -9.856322                  none            0  ...     annually   \n",
       "1  34.698766  -2.147466              Zahanati            0  ...    never pay   \n",
       "2  37.460664  -3.821329           Kwa Mahundi            0  ...   per bucket   \n",
       "3  38.486161 -11.155298  Zahanati Ya Nanyumbu            0  ...    never pay   \n",
       "4  31.130847  -1.825359               Shuleni            0  ...    never pay   \n",
       "\n",
       "  water_quality quality_group      quantity  quantity_group  \\\n",
       "0          soft          good        enough          enough   \n",
       "1          soft          good  insufficient    insufficient   \n",
       "2          soft          good        enough          enough   \n",
       "3          soft          good           dry             dry   \n",
       "4          soft          good      seasonal        seasonal   \n",
       "\n",
       "                 source           source_type  source_class  \\\n",
       "0                spring                spring   groundwater   \n",
       "1  rainwater harvesting  rainwater harvesting       surface   \n",
       "2                   dam                   dam       surface   \n",
       "3           machine dbh              borehole   groundwater   \n",
       "4  rainwater harvesting  rainwater harvesting       surface   \n",
       "\n",
       "               waterpoint_type waterpoint_type_group  \n",
       "0           communal standpipe    communal standpipe  \n",
       "1           communal standpipe    communal standpipe  \n",
       "2  communal standpipe multiple    communal standpipe  \n",
       "3  communal standpipe multiple    communal standpipe  \n",
       "4           communal standpipe    communal standpipe  \n",
       "\n",
       "[5 rows x 40 columns]"
      ]
     },
<<<<<<< Updated upstream
     "execution_count": 2,
=======
<<<<<<< HEAD
     "execution_count": 3,
=======
     "execution_count": 2,
>>>>>>> 4a1cd2f3e0aeaa472c235472558930642a2ef582
>>>>>>> Stashed changes
     "metadata": {},
     "output_type": "execute_result"
    }
   ],
   "source": [
    "#Load the relevant data sets\n",
    "\n",
    "df_training = pd.read_csv('Tanzania wells training set.csv')\n",
    "df_test = pd.read_csv('Tanzania wells test set.csv')\n",
    "df_labels = pd.read_csv('Tanzania wells set labels.csv')\n",
    "pd.DataFrame(df_training)\n",
    "df_training.head()\n"
   ]
  },
  {
   "cell_type": "code",
<<<<<<< Updated upstream
   "execution_count": 3,
=======
<<<<<<< HEAD
   "execution_count": 4,
=======
   "execution_count": 3,
>>>>>>> 4a1cd2f3e0aeaa472c235472558930642a2ef582
>>>>>>> Stashed changes
   "metadata": {},
   "outputs": [
    {
     "name": "stdout",
     "output_type": "stream",
     "text": [
      "The training set has a shape of (59400, 40) \n",
      " The target set has a shape of (59400, 2)\n"
     ]
    }
   ],
   "source": [
    "print(f'The training set has a shape of {df_training.shape} \\n The target set has a shape of {df_labels.shape}')"
   ]
  },
  {
   "cell_type": "markdown",
   "metadata": {},
   "source": [
    "## 2 Data Cleaning\n",
    "### 2.1 Completeness"
   ]
  },
  {
   "cell_type": "code",
<<<<<<< Updated upstream
   "execution_count": 4,
=======
<<<<<<< HEAD
   "execution_count": 5,
=======
   "execution_count": 4,
>>>>>>> 4a1cd2f3e0aeaa472c235472558930642a2ef582
>>>>>>> Stashed changes
   "metadata": {},
   "outputs": [
    {
     "name": "stdout",
     "output_type": "stream",
     "text": [
      "<class 'pandas.core.frame.DataFrame'>\n",
      "RangeIndex: 59400 entries, 0 to 59399\n",
      "Data columns (total 40 columns):\n",
      " #   Column                 Non-Null Count  Dtype  \n",
      "---  ------                 --------------  -----  \n",
      " 0   id                     59400 non-null  int64  \n",
      " 1   amount_tsh             59400 non-null  float64\n",
      " 2   date_recorded          59400 non-null  object \n",
      " 3   funder                 55765 non-null  object \n",
      " 4   gps_height             59400 non-null  int64  \n",
      " 5   installer              55745 non-null  object \n",
      " 6   longitude              59400 non-null  float64\n",
      " 7   latitude               59400 non-null  float64\n",
      " 8   wpt_name               59400 non-null  object \n",
      " 9   num_private            59400 non-null  int64  \n",
      " 10  basin                  59400 non-null  object \n",
      " 11  subvillage             59029 non-null  object \n",
      " 12  region                 59400 non-null  object \n",
      " 13  region_code            59400 non-null  int64  \n",
      " 14  district_code          59400 non-null  int64  \n",
      " 15  lga                    59400 non-null  object \n",
      " 16  ward                   59400 non-null  object \n",
      " 17  population             59400 non-null  int64  \n",
      " 18  public_meeting         56066 non-null  object \n",
      " 19  recorded_by            59400 non-null  object \n",
      " 20  scheme_management      55523 non-null  object \n",
      " 21  scheme_name            31234 non-null  object \n",
      " 22  permit                 56344 non-null  object \n",
      " 23  construction_year      59400 non-null  int64  \n",
      " 24  extraction_type        59400 non-null  object \n",
      " 25  extraction_type_group  59400 non-null  object \n",
      " 26  extraction_type_class  59400 non-null  object \n",
      " 27  management             59400 non-null  object \n",
      " 28  management_group       59400 non-null  object \n",
      " 29  payment                59400 non-null  object \n",
      " 30  payment_type           59400 non-null  object \n",
      " 31  water_quality          59400 non-null  object \n",
      " 32  quality_group          59400 non-null  object \n",
      " 33  quantity               59400 non-null  object \n",
      " 34  quantity_group         59400 non-null  object \n",
      " 35  source                 59400 non-null  object \n",
      " 36  source_type            59400 non-null  object \n",
      " 37  source_class           59400 non-null  object \n",
      " 38  waterpoint_type        59400 non-null  object \n",
      " 39  waterpoint_type_group  59400 non-null  object \n",
      "dtypes: float64(3), int64(7), object(30)\n",
      "memory usage: 18.1+ MB\n"
     ]
    }
   ],
   "source": [
    "df_training.info()"
   ]
  },
  {
   "cell_type": "code",
<<<<<<< Updated upstream
   "execution_count": 5,
=======
<<<<<<< HEAD
   "execution_count": 6,
=======
   "execution_count": 5,
>>>>>>> 4a1cd2f3e0aeaa472c235472558930642a2ef582
>>>>>>> Stashed changes
   "metadata": {},
   "outputs": [
    {
     "name": "stdout",
     "output_type": "stream",
     "text": [
      "<class 'pandas.core.frame.DataFrame'>\n",
      "RangeIndex: 59400 entries, 0 to 59399\n",
      "Data columns (total 2 columns):\n",
      " #   Column        Non-Null Count  Dtype \n",
      "---  ------        --------------  ----- \n",
      " 0   id            59400 non-null  int64 \n",
      " 1   status_group  59400 non-null  object\n",
      "dtypes: int64(1), object(1)\n",
      "memory usage: 928.2+ KB\n"
     ]
    }
   ],
   "source": [
    "df_labels.info()"
   ]
  },
  {
   "cell_type": "markdown",
   "metadata": {},
   "source": [
    "The training set contains alot of null values.WE will hence merge our two sets using the id column to clean the data together"
   ]
  },
  {
   "cell_type": "code",
<<<<<<< Updated upstream
   "execution_count": 6,
=======
<<<<<<< HEAD
   "execution_count": 7,
=======
   "execution_count": 6,
>>>>>>> 4a1cd2f3e0aeaa472c235472558930642a2ef582
>>>>>>> Stashed changes
   "metadata": {},
   "outputs": [],
   "source": [
    "wells_set = pd.merge(df_training, df_labels )"
   ]
  },
  {
   "cell_type": "code",
<<<<<<< Updated upstream
   "execution_count": 7,
=======
<<<<<<< HEAD
   "execution_count": 8,
=======
   "execution_count": 7,
>>>>>>> 4a1cd2f3e0aeaa472c235472558930642a2ef582
>>>>>>> Stashed changes
   "metadata": {},
   "outputs": [
    {
     "data": {
      "text/plain": [
       "(59400, 41)"
      ]
     },
<<<<<<< Updated upstream
     "execution_count": 7,
=======
<<<<<<< HEAD
     "execution_count": 8,
=======
     "execution_count": 7,
>>>>>>> 4a1cd2f3e0aeaa472c235472558930642a2ef582
>>>>>>> Stashed changes
     "metadata": {},
     "output_type": "execute_result"
    }
   ],
   "source": [
    "wells_set.shape"
   ]
  },
  {
   "cell_type": "code",
<<<<<<< Updated upstream
   "execution_count": 8,
=======
<<<<<<< HEAD
   "execution_count": 9,
=======
   "execution_count": 8,
>>>>>>> 4a1cd2f3e0aeaa472c235472558930642a2ef582
>>>>>>> Stashed changes
   "metadata": {},
   "outputs": [
    {
     "data": {
      "text/plain": [
       "id                           0\n",
       "amount_tsh                   0\n",
       "date_recorded                0\n",
       "funder                    3635\n",
       "gps_height                   0\n",
       "installer                 3655\n",
       "longitude                    0\n",
       "latitude                     0\n",
       "wpt_name                     0\n",
       "num_private                  0\n",
       "basin                        0\n",
       "subvillage                 371\n",
       "region                       0\n",
       "region_code                  0\n",
       "district_code                0\n",
       "lga                          0\n",
       "ward                         0\n",
       "population                   0\n",
       "public_meeting            3334\n",
       "recorded_by                  0\n",
       "scheme_management         3877\n",
       "scheme_name              28166\n",
       "permit                    3056\n",
       "construction_year            0\n",
       "extraction_type              0\n",
       "extraction_type_group        0\n",
       "extraction_type_class        0\n",
       "management                   0\n",
       "management_group             0\n",
       "payment                      0\n",
       "payment_type                 0\n",
       "water_quality                0\n",
       "quality_group                0\n",
       "quantity                     0\n",
       "quantity_group               0\n",
       "source                       0\n",
       "source_type                  0\n",
       "source_class                 0\n",
       "waterpoint_type              0\n",
       "waterpoint_type_group        0\n",
       "status_group                 0\n",
       "dtype: int64"
      ]
     },
<<<<<<< Updated upstream
     "execution_count": 8,
=======
<<<<<<< HEAD
     "execution_count": 9,
=======
     "execution_count": 8,
>>>>>>> 4a1cd2f3e0aeaa472c235472558930642a2ef582
>>>>>>> Stashed changes
     "metadata": {},
     "output_type": "execute_result"
    }
   ],
   "source": [
<<<<<<< Updated upstream
=======
<<<<<<< HEAD
    "#The syntax below tends to showst he total number of null values in our merged dataset\n",
=======
    "#The syntax below tends to showsthe total number of null values in our data et\n",
>>>>>>> 4a1cd2f3e0aeaa472c235472558930642a2ef582
>>>>>>> Stashed changes
    "nill_vals = wells_set.isna().sum()\n",
    "nill_vals"
   ]
  },
  {
   "cell_type": "markdown",
   "metadata": {},
   "source": [
    " Here we check on the distribution of the null values and decide on which criterion we will use to drop"
   ]
  },
  {
   "cell_type": "code",
<<<<<<< Updated upstream
   "execution_count": 9,
=======
<<<<<<< HEAD
   "execution_count": 10,
=======
   "execution_count": 9,
>>>>>>> 4a1cd2f3e0aeaa472c235472558930642a2ef582
>>>>>>> Stashed changes
   "metadata": {},
   "outputs": [
    {
     "data": {
      "text/plain": [
       "scheme_name              47.417508\n",
       "scheme_management         6.526936\n",
       "installer                 6.153199\n",
       "funder                    6.119529\n",
       "public_meeting            5.612795\n",
       "permit                    5.144781\n",
       "subvillage                0.624579\n",
       "ward                      0.000000\n",
       "lga                       0.000000\n",
       "district_code             0.000000\n",
       "region_code               0.000000\n",
       "region                    0.000000\n",
       "num_private               0.000000\n",
       "basin                     0.000000\n",
       "wpt_name                  0.000000\n",
       "latitude                  0.000000\n",
       "longitude                 0.000000\n",
       "gps_height                0.000000\n",
       "date_recorded             0.000000\n",
       "amount_tsh                0.000000\n",
       "population                0.000000\n",
       "status_group              0.000000\n",
       "recorded_by               0.000000\n",
       "water_quality             0.000000\n",
       "waterpoint_type           0.000000\n",
       "source_class              0.000000\n",
       "source_type               0.000000\n",
       "source                    0.000000\n",
       "quantity_group            0.000000\n",
       "quantity                  0.000000\n",
       "quality_group             0.000000\n",
       "payment_type              0.000000\n",
       "waterpoint_type_group     0.000000\n",
       "payment                   0.000000\n",
       "management_group          0.000000\n",
       "management                0.000000\n",
       "extraction_type_class     0.000000\n",
       "extraction_type_group     0.000000\n",
       "extraction_type           0.000000\n",
       "construction_year         0.000000\n",
       "id                        0.000000\n",
       "Name: 0, dtype: float64"
      ]
     },
<<<<<<< Updated upstream
     "execution_count": 9,
=======
<<<<<<< HEAD
     "execution_count": 10,
=======
     "execution_count": 9,
>>>>>>> 4a1cd2f3e0aeaa472c235472558930642a2ef582
>>>>>>> Stashed changes
     "metadata": {},
     "output_type": "execute_result"
    }
   ],
   "source": [
    "x= pd.DataFrame(wells_set.isna().sum()/len(wells_set)*100) #, ascending =False\n",
    "x= x[0].sort_values( ascending=False)\n",
    "x"
   ]
  },
  {
   "cell_type": "code",
<<<<<<< Updated upstream
   "execution_count": 10,
=======
<<<<<<< HEAD
   "execution_count": 11,
=======
   "execution_count": 10,
>>>>>>> 4a1cd2f3e0aeaa472c235472558930642a2ef582
>>>>>>> Stashed changes
   "metadata": {},
   "outputs": [
    {
     "name": "stdout",
     "output_type": "stream",
     "text": [
      "Scheme name has almost half of the data missing and this could adversely affect our analysis if we continue with it.\n",
      " We hence intend to drop it and rill in the lesser missing collumns\n"
     ]
    }
   ],
   "source": [
    "print(f'Scheme name has almost half of the data missing and this could adversely affect our analysis if we continue with it.\\n We hence intend to drop it and rill in the lesser missing collumns')"
   ]
  },
  {
   "cell_type": "code",
<<<<<<< Updated upstream
   "execution_count": 11,
   "metadata": {},
=======
<<<<<<< HEAD
   "execution_count": 12,
   "metadata": {
    "scrolled": true
   },
=======
   "execution_count": 11,
   "metadata": {},
>>>>>>> 4a1cd2f3e0aeaa472c235472558930642a2ef582
>>>>>>> Stashed changes
   "outputs": [
    {
     "data": {
      "text/html": [
       "<div>\n",
       "<style scoped>\n",
       "    .dataframe tbody tr th:only-of-type {\n",
       "        vertical-align: middle;\n",
       "    }\n",
       "\n",
       "    .dataframe tbody tr th {\n",
       "        vertical-align: top;\n",
       "    }\n",
       "\n",
       "    .dataframe thead th {\n",
       "        text-align: right;\n",
       "    }\n",
       "</style>\n",
       "<table border=\"1\" class=\"dataframe\">\n",
       "  <thead>\n",
       "    <tr style=\"text-align: right;\">\n",
       "      <th></th>\n",
       "      <th>id</th>\n",
       "      <th>amount_tsh</th>\n",
       "      <th>date_recorded</th>\n",
       "      <th>funder</th>\n",
       "      <th>gps_height</th>\n",
       "      <th>installer</th>\n",
       "      <th>longitude</th>\n",
       "      <th>latitude</th>\n",
       "      <th>wpt_name</th>\n",
       "      <th>num_private</th>\n",
       "      <th>...</th>\n",
       "      <th>water_quality</th>\n",
       "      <th>quality_group</th>\n",
       "      <th>quantity</th>\n",
       "      <th>quantity_group</th>\n",
       "      <th>source</th>\n",
       "      <th>source_type</th>\n",
       "      <th>source_class</th>\n",
       "      <th>waterpoint_type</th>\n",
       "      <th>waterpoint_type_group</th>\n",
       "      <th>status_group</th>\n",
       "    </tr>\n",
       "  </thead>\n",
       "  <tbody>\n",
       "    <tr>\n",
       "      <th>0</th>\n",
       "      <td>69572</td>\n",
       "      <td>6000.0</td>\n",
       "      <td>3/14/2011</td>\n",
       "      <td>Roman</td>\n",
       "      <td>1390</td>\n",
       "      <td>Roman</td>\n",
       "      <td>34.938093</td>\n",
       "      <td>-9.856322</td>\n",
       "      <td>none</td>\n",
       "      <td>0</td>\n",
       "      <td>...</td>\n",
       "      <td>soft</td>\n",
       "      <td>good</td>\n",
       "      <td>enough</td>\n",
       "      <td>enough</td>\n",
       "      <td>spring</td>\n",
       "      <td>spring</td>\n",
       "      <td>groundwater</td>\n",
       "      <td>communal standpipe</td>\n",
       "      <td>communal standpipe</td>\n",
       "      <td>functional</td>\n",
       "    </tr>\n",
       "    <tr>\n",
       "      <th>1</th>\n",
       "      <td>8776</td>\n",
       "      <td>0.0</td>\n",
       "      <td>3/6/2013</td>\n",
       "      <td>Grumeti</td>\n",
       "      <td>1399</td>\n",
       "      <td>GRUMETI</td>\n",
       "      <td>34.698766</td>\n",
       "      <td>-2.147466</td>\n",
       "      <td>Zahanati</td>\n",
       "      <td>0</td>\n",
       "      <td>...</td>\n",
       "      <td>soft</td>\n",
       "      <td>good</td>\n",
       "      <td>insufficient</td>\n",
       "      <td>insufficient</td>\n",
       "      <td>rainwater harvesting</td>\n",
       "      <td>rainwater harvesting</td>\n",
       "      <td>surface</td>\n",
       "      <td>communal standpipe</td>\n",
       "      <td>communal standpipe</td>\n",
       "      <td>functional</td>\n",
       "    </tr>\n",
       "    <tr>\n",
       "      <th>2</th>\n",
       "      <td>34310</td>\n",
       "      <td>25.0</td>\n",
       "      <td>2/25/2013</td>\n",
       "      <td>Lottery Club</td>\n",
       "      <td>686</td>\n",
       "      <td>World vision</td>\n",
       "      <td>37.460664</td>\n",
       "      <td>-3.821329</td>\n",
       "      <td>Kwa Mahundi</td>\n",
       "      <td>0</td>\n",
       "      <td>...</td>\n",
       "      <td>soft</td>\n",
       "      <td>good</td>\n",
       "      <td>enough</td>\n",
       "      <td>enough</td>\n",
       "      <td>dam</td>\n",
       "      <td>dam</td>\n",
       "      <td>surface</td>\n",
       "      <td>communal standpipe multiple</td>\n",
       "      <td>communal standpipe</td>\n",
       "      <td>functional</td>\n",
       "    </tr>\n",
       "    <tr>\n",
       "      <th>3</th>\n",
       "      <td>67743</td>\n",
       "      <td>0.0</td>\n",
       "      <td>1/28/2013</td>\n",
       "      <td>Unicef</td>\n",
       "      <td>263</td>\n",
       "      <td>UNICEF</td>\n",
       "      <td>38.486161</td>\n",
       "      <td>-11.155298</td>\n",
       "      <td>Zahanati Ya Nanyumbu</td>\n",
       "      <td>0</td>\n",
       "      <td>...</td>\n",
       "      <td>soft</td>\n",
       "      <td>good</td>\n",
       "      <td>dry</td>\n",
       "      <td>dry</td>\n",
       "      <td>machine dbh</td>\n",
       "      <td>borehole</td>\n",
       "      <td>groundwater</td>\n",
       "      <td>communal standpipe multiple</td>\n",
       "      <td>communal standpipe</td>\n",
       "      <td>non functional</td>\n",
       "    </tr>\n",
       "    <tr>\n",
       "      <th>4</th>\n",
       "      <td>19728</td>\n",
       "      <td>0.0</td>\n",
       "      <td>7/13/2011</td>\n",
       "      <td>Action In A</td>\n",
       "      <td>0</td>\n",
       "      <td>Artisan</td>\n",
       "      <td>31.130847</td>\n",
       "      <td>-1.825359</td>\n",
       "      <td>Shuleni</td>\n",
       "      <td>0</td>\n",
       "      <td>...</td>\n",
       "      <td>soft</td>\n",
       "      <td>good</td>\n",
       "      <td>seasonal</td>\n",
       "      <td>seasonal</td>\n",
       "      <td>rainwater harvesting</td>\n",
       "      <td>rainwater harvesting</td>\n",
       "      <td>surface</td>\n",
       "      <td>communal standpipe</td>\n",
       "      <td>communal standpipe</td>\n",
       "      <td>functional</td>\n",
       "    </tr>\n",
       "    <tr>\n",
       "      <th>...</th>\n",
       "      <td>...</td>\n",
       "      <td>...</td>\n",
       "      <td>...</td>\n",
       "      <td>...</td>\n",
       "      <td>...</td>\n",
       "      <td>...</td>\n",
       "      <td>...</td>\n",
       "      <td>...</td>\n",
       "      <td>...</td>\n",
       "      <td>...</td>\n",
       "      <td>...</td>\n",
       "      <td>...</td>\n",
       "      <td>...</td>\n",
       "      <td>...</td>\n",
       "      <td>...</td>\n",
       "      <td>...</td>\n",
       "      <td>...</td>\n",
       "      <td>...</td>\n",
       "      <td>...</td>\n",
       "      <td>...</td>\n",
       "      <td>...</td>\n",
       "    </tr>\n",
       "    <tr>\n",
       "      <th>59395</th>\n",
       "      <td>60739</td>\n",
       "      <td>10.0</td>\n",
       "      <td>5/3/2013</td>\n",
       "      <td>Germany Republi</td>\n",
       "      <td>1210</td>\n",
       "      <td>CES</td>\n",
       "      <td>37.169807</td>\n",
       "      <td>-3.253847</td>\n",
       "      <td>Area Three Namba 27</td>\n",
       "      <td>0</td>\n",
       "      <td>...</td>\n",
       "      <td>soft</td>\n",
       "      <td>good</td>\n",
       "      <td>enough</td>\n",
       "      <td>enough</td>\n",
       "      <td>spring</td>\n",
       "      <td>spring</td>\n",
       "      <td>groundwater</td>\n",
       "      <td>communal standpipe</td>\n",
       "      <td>communal standpipe</td>\n",
       "      <td>functional</td>\n",
       "    </tr>\n",
       "    <tr>\n",
       "      <th>59396</th>\n",
       "      <td>27263</td>\n",
       "      <td>4700.0</td>\n",
       "      <td>5/7/2011</td>\n",
       "      <td>Cefa-njombe</td>\n",
       "      <td>1212</td>\n",
       "      <td>Cefa</td>\n",
       "      <td>35.249991</td>\n",
       "      <td>-9.070629</td>\n",
       "      <td>Kwa Yahona Kuvala</td>\n",
       "      <td>0</td>\n",
       "      <td>...</td>\n",
       "      <td>soft</td>\n",
       "      <td>good</td>\n",
       "      <td>enough</td>\n",
       "      <td>enough</td>\n",
       "      <td>river</td>\n",
       "      <td>river/lake</td>\n",
       "      <td>surface</td>\n",
       "      <td>communal standpipe</td>\n",
       "      <td>communal standpipe</td>\n",
       "      <td>functional</td>\n",
       "    </tr>\n",
       "    <tr>\n",
       "      <th>59397</th>\n",
       "      <td>37057</td>\n",
       "      <td>0.0</td>\n",
       "      <td>4/11/2011</td>\n",
       "      <td>Nan</td>\n",
       "      <td>0</td>\n",
       "      <td>Nan</td>\n",
       "      <td>34.017087</td>\n",
       "      <td>-8.750434</td>\n",
       "      <td>Mashine</td>\n",
       "      <td>0</td>\n",
       "      <td>...</td>\n",
       "      <td>fluoride</td>\n",
       "      <td>fluoride</td>\n",
       "      <td>enough</td>\n",
       "      <td>enough</td>\n",
       "      <td>machine dbh</td>\n",
       "      <td>borehole</td>\n",
       "      <td>groundwater</td>\n",
       "      <td>hand pump</td>\n",
       "      <td>hand pump</td>\n",
       "      <td>functional</td>\n",
       "    </tr>\n",
       "    <tr>\n",
       "      <th>59398</th>\n",
       "      <td>31282</td>\n",
       "      <td>0.0</td>\n",
       "      <td>3/8/2011</td>\n",
       "      <td>Malec</td>\n",
       "      <td>0</td>\n",
       "      <td>Musa</td>\n",
       "      <td>35.861315</td>\n",
       "      <td>-6.378573</td>\n",
       "      <td>Mshoro</td>\n",
       "      <td>0</td>\n",
       "      <td>...</td>\n",
       "      <td>soft</td>\n",
       "      <td>good</td>\n",
       "      <td>insufficient</td>\n",
       "      <td>insufficient</td>\n",
       "      <td>shallow well</td>\n",
       "      <td>shallow well</td>\n",
       "      <td>groundwater</td>\n",
       "      <td>hand pump</td>\n",
       "      <td>hand pump</td>\n",
       "      <td>functional</td>\n",
       "    </tr>\n",
       "    <tr>\n",
       "      <th>59399</th>\n",
       "      <td>26348</td>\n",
       "      <td>0.0</td>\n",
       "      <td>3/23/2011</td>\n",
       "      <td>World Bank</td>\n",
       "      <td>191</td>\n",
       "      <td>World</td>\n",
       "      <td>38.104048</td>\n",
       "      <td>-6.747464</td>\n",
       "      <td>Kwa Mzee Lugawa</td>\n",
       "      <td>0</td>\n",
       "      <td>...</td>\n",
       "      <td>salty</td>\n",
       "      <td>salty</td>\n",
       "      <td>enough</td>\n",
       "      <td>enough</td>\n",
       "      <td>shallow well</td>\n",
       "      <td>shallow well</td>\n",
       "      <td>groundwater</td>\n",
       "      <td>hand pump</td>\n",
       "      <td>hand pump</td>\n",
       "      <td>functional</td>\n",
       "    </tr>\n",
       "  </tbody>\n",
       "</table>\n",
       "<p>59400 rows × 40 columns</p>\n",
       "</div>"
      ],
      "text/plain": [
       "          id  amount_tsh date_recorded           funder  gps_height  \\\n",
       "0      69572      6000.0     3/14/2011            Roman        1390   \n",
       "1       8776         0.0      3/6/2013          Grumeti        1399   \n",
       "2      34310        25.0     2/25/2013     Lottery Club         686   \n",
       "3      67743         0.0     1/28/2013           Unicef         263   \n",
       "4      19728         0.0     7/13/2011      Action In A           0   \n",
       "...      ...         ...           ...              ...         ...   \n",
       "59395  60739        10.0      5/3/2013  Germany Republi        1210   \n",
       "59396  27263      4700.0      5/7/2011      Cefa-njombe        1212   \n",
       "59397  37057         0.0     4/11/2011              Nan           0   \n",
       "59398  31282         0.0      3/8/2011            Malec           0   \n",
       "59399  26348         0.0     3/23/2011       World Bank         191   \n",
       "\n",
       "          installer  longitude   latitude              wpt_name  num_private  \\\n",
       "0             Roman  34.938093  -9.856322                  none            0   \n",
       "1           GRUMETI  34.698766  -2.147466              Zahanati            0   \n",
       "2      World vision  37.460664  -3.821329           Kwa Mahundi            0   \n",
       "3            UNICEF  38.486161 -11.155298  Zahanati Ya Nanyumbu            0   \n",
       "4           Artisan  31.130847  -1.825359               Shuleni            0   \n",
       "...             ...        ...        ...                   ...          ...   \n",
       "59395           CES  37.169807  -3.253847   Area Three Namba 27            0   \n",
       "59396          Cefa  35.249991  -9.070629     Kwa Yahona Kuvala            0   \n",
       "59397           Nan  34.017087  -8.750434               Mashine            0   \n",
       "59398          Musa  35.861315  -6.378573                Mshoro            0   \n",
       "59399         World  38.104048  -6.747464       Kwa Mzee Lugawa            0   \n",
       "\n",
       "       ... water_quality quality_group      quantity  quantity_group  \\\n",
       "0      ...          soft          good        enough          enough   \n",
       "1      ...          soft          good  insufficient    insufficient   \n",
       "2      ...          soft          good        enough          enough   \n",
       "3      ...          soft          good           dry             dry   \n",
       "4      ...          soft          good      seasonal        seasonal   \n",
       "...    ...           ...           ...           ...             ...   \n",
       "59395  ...          soft          good        enough          enough   \n",
       "59396  ...          soft          good        enough          enough   \n",
       "59397  ...      fluoride      fluoride        enough          enough   \n",
       "59398  ...          soft          good  insufficient    insufficient   \n",
       "59399  ...         salty         salty        enough          enough   \n",
       "\n",
       "                     source           source_type source_class  \\\n",
       "0                    spring                spring  groundwater   \n",
       "1      rainwater harvesting  rainwater harvesting      surface   \n",
       "2                       dam                   dam      surface   \n",
       "3               machine dbh              borehole  groundwater   \n",
       "4      rainwater harvesting  rainwater harvesting      surface   \n",
       "...                     ...                   ...          ...   \n",
       "59395                spring                spring  groundwater   \n",
       "59396                 river            river/lake      surface   \n",
       "59397           machine dbh              borehole  groundwater   \n",
       "59398          shallow well          shallow well  groundwater   \n",
       "59399          shallow well          shallow well  groundwater   \n",
       "\n",
       "                   waterpoint_type waterpoint_type_group    status_group  \n",
       "0               communal standpipe    communal standpipe      functional  \n",
       "1               communal standpipe    communal standpipe      functional  \n",
       "2      communal standpipe multiple    communal standpipe      functional  \n",
       "3      communal standpipe multiple    communal standpipe  non functional  \n",
       "4               communal standpipe    communal standpipe      functional  \n",
       "...                            ...                   ...             ...  \n",
       "59395           communal standpipe    communal standpipe      functional  \n",
       "59396           communal standpipe    communal standpipe      functional  \n",
       "59397                    hand pump             hand pump      functional  \n",
       "59398                    hand pump             hand pump      functional  \n",
       "59399                    hand pump             hand pump      functional  \n",
       "\n",
       "[59400 rows x 40 columns]"
      ]
     },
<<<<<<< Updated upstream
     "execution_count": 11,
=======
<<<<<<< HEAD
     "execution_count": 12,
=======
     "execution_count": 11,
>>>>>>> 4a1cd2f3e0aeaa472c235472558930642a2ef582
>>>>>>> Stashed changes
     "metadata": {},
     "output_type": "execute_result"
    }
   ],
   "source": [
    "wells_set.drop(['scheme_name'],axis=1, inplace=True)\n",
    "wells_set.fillna(value = 'Nan', inplace = True)\n",
    "wells_set"
   ]
  },
  {
   "cell_type": "code",
<<<<<<< Updated upstream
   "execution_count": 12,
=======
<<<<<<< HEAD
   "execution_count": 13,
=======
   "execution_count": 12,
>>>>>>> 4a1cd2f3e0aeaa472c235472558930642a2ef582
>>>>>>> Stashed changes
   "metadata": {},
   "outputs": [
    {
     "data": {
      "text/plain": [
       "id                       0\n",
       "amount_tsh               0\n",
       "date_recorded            0\n",
       "funder                   0\n",
       "gps_height               0\n",
       "installer                0\n",
       "longitude                0\n",
       "latitude                 0\n",
       "wpt_name                 0\n",
       "num_private              0\n",
       "basin                    0\n",
       "subvillage               0\n",
       "region                   0\n",
       "region_code              0\n",
       "district_code            0\n",
       "lga                      0\n",
       "ward                     0\n",
       "population               0\n",
       "public_meeting           0\n",
       "recorded_by              0\n",
       "scheme_management        0\n",
       "permit                   0\n",
       "construction_year        0\n",
       "extraction_type          0\n",
       "extraction_type_group    0\n",
       "extraction_type_class    0\n",
       "management               0\n",
       "management_group         0\n",
       "payment                  0\n",
       "payment_type             0\n",
       "water_quality            0\n",
       "quality_group            0\n",
       "quantity                 0\n",
       "quantity_group           0\n",
       "source                   0\n",
       "source_type              0\n",
       "source_class             0\n",
       "waterpoint_type          0\n",
       "waterpoint_type_group    0\n",
       "status_group             0\n",
       "dtype: int64"
      ]
     },
<<<<<<< Updated upstream
     "execution_count": 12,
=======
<<<<<<< HEAD
     "execution_count": 13,
=======
     "execution_count": 12,
>>>>>>> 4a1cd2f3e0aeaa472c235472558930642a2ef582
>>>>>>> Stashed changes
     "metadata": {},
     "output_type": "execute_result"
    }
   ],
   "source": [
    "wells_set.isna().sum()"
   ]
  },
  {
   "cell_type": "markdown",
   "metadata": {},
   "source": [
    "### 2.2 Consistency"
   ]
  },
  {
   "cell_type": "markdown",
   "metadata": {},
   "source": [
    "There seems alot of column redundancy hence we check on the value counts to ascertain our observations"
   ]
  },
  {
   "cell_type": "code",
<<<<<<< Updated upstream
   "execution_count": 13,
=======
<<<<<<< HEAD
   "execution_count": 14,
=======
   "execution_count": 13,
>>>>>>> 4a1cd2f3e0aeaa472c235472558930642a2ef582
>>>>>>> Stashed changes
   "metadata": {},
   "outputs": [
    {
     "name": "stdout",
     "output_type": "stream",
     "text": [
      "EXTRACTION TYPE  \n",
      " gravity                      26780\n",
      "nira/tanira                   8154\n",
      "other                         6430\n",
      "submersible                   4764\n",
      "swn 80                        3670\n",
      "mono                          2865\n",
      "india mark ii                 2400\n",
      "afridev                       1770\n",
      "ksb                           1415\n",
      "other - rope pump              451\n",
      "other - swn 81                 229\n",
      "windmill                       117\n",
      "india mark iii                  98\n",
      "cemo                            90\n",
      "other - play pump               85\n",
      "walimi                          48\n",
      "climax                          32\n",
      "other - mkulima/shinyanga        2\n",
      "Name: extraction_type, dtype: int64\n",
      "EXTRACTION TYPE GROUP \n",
      " gravity            26780\n",
      "nira/tanira         8154\n",
      "other               6430\n",
      "submersible         6179\n",
      "swn 80              3670\n",
      "mono                2865\n",
      "india mark ii       2400\n",
      "afridev             1770\n",
      "rope pump            451\n",
      "other handpump       364\n",
      "other motorpump      122\n",
      "wind-powered         117\n",
      "india mark iii        98\n",
      "Name: extraction_type_group, dtype: int64\n",
      "EXTRACTION TYPE CLASS \n",
      " gravity         26780\n",
      "handpump        16456\n",
      "other            6430\n",
      "submersible      6179\n",
      "motorpump        2987\n",
      "rope pump         451\n",
      "wind-powered      117\n",
      "Name: extraction_type_class, dtype: int64\n"
     ]
    }
   ],
   "source": [
    "#we compare the extraction columns\n",
    "\n",
    "print(f\"EXTRACTION TYPE  \\n {wells_set['extraction_type'].value_counts()}\")\n",
    "print(f\"EXTRACTION TYPE GROUP \\n {wells_set['extraction_type_group'].value_counts()}\")\n",
    "print(f\"EXTRACTION TYPE CLASS \\n {wells_set['extraction_type_class'].value_counts()}\")\n"
   ]
  },
  {
   "cell_type": "markdown",
   "metadata": {},
   "source": [
    "Here we retain the extraction_type_class which is pretty much a summary of the other two\n"
   ]
  },
  {
   "cell_type": "code",
<<<<<<< Updated upstream
   "execution_count": 14,
=======
<<<<<<< HEAD
   "execution_count": 15,
=======
   "execution_count": 14,
>>>>>>> 4a1cd2f3e0aeaa472c235472558930642a2ef582
>>>>>>> Stashed changes
   "metadata": {},
   "outputs": [
    {
     "name": "stdout",
     "output_type": "stream",
     "text": [
      "MANAGEMENT  \n",
      " vwc                 40507\n",
      "wug                  6515\n",
      "water board          2933\n",
      "wua                  2535\n",
      "private operator     1971\n",
      "parastatal           1768\n",
      "water authority       904\n",
      "other                 844\n",
      "company               685\n",
      "unknown               561\n",
      "other - school         99\n",
      "trust                  78\n",
      "Name: management, dtype: int64\n",
      "MANAGEMENT GROUP  \n",
      " user-group    52490\n",
      "commercial     3638\n",
      "parastatal     1768\n",
      "other           943\n",
      "unknown         561\n",
      "Name: management_group, dtype: int64\n"
     ]
    }
   ],
   "source": [
    "#Management comparison\n",
    "print(f\"MANAGEMENT  \\n {wells_set['management'].value_counts()}\")\n",
    "print(f\"MANAGEMENT GROUP  \\n {wells_set['management_group'].value_counts()}\")\n"
   ]
  },
  {
   "cell_type": "markdown",
   "metadata": {},
   "source": [
    "Here we retain the more precise management group"
   ]
  },
  {
   "cell_type": "code",
<<<<<<< Updated upstream
   "execution_count": 15,
=======
<<<<<<< HEAD
   "execution_count": 16,
=======
   "execution_count": 15,
>>>>>>> 4a1cd2f3e0aeaa472c235472558930642a2ef582
>>>>>>> Stashed changes
   "metadata": {},
   "outputs": [
    {
     "name": "stdout",
     "output_type": "stream",
     "text": [
      "PAYMENT  \n",
      " never pay                25348\n",
      "pay per bucket            8985\n",
      "pay monthly               8300\n",
      "unknown                   8157\n",
      "pay when scheme fails     3914\n",
      "pay annually              3642\n",
      "other                     1054\n",
      "Name: payment, dtype: int64\n",
      "PAYMENT TYPE  \n",
      " never pay     25348\n",
      "per bucket     8985\n",
      "monthly        8300\n",
      "unknown        8157\n",
      "on failure     3914\n",
      "annually       3642\n",
      "other          1054\n",
      "Name: payment_type, dtype: int64\n"
     ]
    }
   ],
   "source": [
    "#We compare the payment columns\n",
    "print(f\"PAYMENT  \\n {wells_set['payment'].value_counts()}\")\n",
    "print(f\"PAYMENT TYPE  \\n {wells_set['payment_type'].value_counts()}\")\n",
    "#dropped is payment"
   ]
  },
  {
   "cell_type": "code",
<<<<<<< Updated upstream
   "execution_count": 16,
=======
<<<<<<< HEAD
   "execution_count": 17,
=======
   "execution_count": 16,
>>>>>>> 4a1cd2f3e0aeaa472c235472558930642a2ef582
>>>>>>> Stashed changes
   "metadata": {},
   "outputs": [
    {
     "name": "stdout",
     "output_type": "stream",
     "text": [
      "WATER QUALITY   \n",
      " soft                  50818\n",
      "salty                  4856\n",
      "unknown                1876\n",
      "milky                   804\n",
      "coloured                490\n",
      "salty abandoned         339\n",
      "fluoride                200\n",
      "fluoride abandoned       17\n",
      "Name: water_quality, dtype: int64\n",
      "QUALITY GROUP  \n",
      " good        50818\n",
      "salty        5195\n",
      "unknown      1876\n",
      "milky         804\n",
      "colored       490\n",
      "fluoride      217\n",
      "Name: quality_group, dtype: int64\n"
     ]
    }
   ],
   "source": [
    "#Comparing the quality columns\n",
    "print(f\"WATER QUALITY   \\n {wells_set['water_quality'].value_counts()}\")\n",
    "print(f\"QUALITY GROUP  \\n {wells_set['quality_group'].value_counts()}\")\n",
    "#dropped is water qlty"
   ]
  },
  {
   "cell_type": "code",
<<<<<<< Updated upstream
   "execution_count": 17,
=======
<<<<<<< HEAD
   "execution_count": 18,
=======
   "execution_count": 17,
>>>>>>> 4a1cd2f3e0aeaa472c235472558930642a2ef582
>>>>>>> Stashed changes
   "metadata": {},
   "outputs": [
    {
     "name": "stdout",
     "output_type": "stream",
     "text": [
      "QUANTITY  \n",
      " enough          33186\n",
      "insufficient    15129\n",
      "dry              6246\n",
      "seasonal         4050\n",
      "unknown           789\n",
      "Name: quantity, dtype: int64\n",
      "QUANTITY GROUP  \n",
      " enough          33186\n",
      "insufficient    15129\n",
      "dry              6246\n",
      "seasonal         4050\n",
      "unknown           789\n",
      "Name: quantity_group, dtype: int64\n"
     ]
    }
   ],
   "source": [
    "#quantity columns\n",
    "print(f\"QUANTITY  \\n {wells_set['quantity'].value_counts()}\")\n",
    "print(f\"QUANTITY GROUP  \\n {wells_set['quantity_group'].value_counts()}\")\n",
    "#Drop quantity"
   ]
  },
  {
   "cell_type": "code",
<<<<<<< Updated upstream
   "execution_count": 18,
=======
<<<<<<< HEAD
   "execution_count": 19,
=======
   "execution_count": 18,
>>>>>>> 4a1cd2f3e0aeaa472c235472558930642a2ef582
>>>>>>> Stashed changes
   "metadata": {},
   "outputs": [
    {
     "name": "stdout",
     "output_type": "stream",
     "text": [
      "SOURCE  \n",
      " spring                  17021\n",
      "shallow well            16824\n",
      "machine dbh             11075\n",
      "river                    9612\n",
      "rainwater harvesting     2295\n",
      "hand dtw                  874\n",
      "lake                      765\n",
      "dam                       656\n",
      "other                     212\n",
      "unknown                    66\n",
      "Name: source, dtype: int64\n",
      "SOURCE TYPE  \n",
      " spring                  17021\n",
      "shallow well            16824\n",
      "borehole                11949\n",
      "river/lake              10377\n",
      "rainwater harvesting     2295\n",
      "dam                       656\n",
      "other                     278\n",
      "Name: source_type, dtype: int64\n",
      "SOURCE CLASS  \n",
      " groundwater    45794\n",
      "surface        13328\n",
      "unknown          278\n",
      "Name: source_class, dtype: int64\n"
     ]
    }
   ],
   "source": [
    "#Comparing the source columns\n",
    "print(f\"SOURCE  \\n {wells_set['source'].value_counts()}\")\n",
    "print(f\"SOURCE TYPE  \\n {wells_set['source_type'].value_counts()}\")\n",
    "print(f\"SOURCE CLASS  \\n {wells_set['source_class'].value_counts()}\")\n",
    "#drop source and source class"
   ]
  },
  {
   "cell_type": "code",
<<<<<<< Updated upstream
   "execution_count": 19,
=======
<<<<<<< HEAD
   "execution_count": 20,
=======
   "execution_count": 19,
>>>>>>> 4a1cd2f3e0aeaa472c235472558930642a2ef582
>>>>>>> Stashed changes
   "metadata": {},
   "outputs": [
    {
     "name": "stdout",
     "output_type": "stream",
     "text": [
      "WATERPOINT TYPE  \n",
      " communal standpipe             28522\n",
      "hand pump                      17488\n",
      "other                           6380\n",
      "communal standpipe multiple     6103\n",
      "improved spring                  784\n",
      "cattle trough                    116\n",
      "dam                                7\n",
      "Name: waterpoint_type, dtype: int64\n",
      "WATERPOINT TYPE GROUP  \n",
      " communal standpipe    34625\n",
      "hand pump             17488\n",
      "other                  6380\n",
      "improved spring         784\n",
      "cattle trough           116\n",
      "dam                       7\n",
      "Name: waterpoint_type_group, dtype: int64\n"
     ]
    }
   ],
   "source": [
    "#Comparing the water type columns\n",
    "print(f\"WATERPOINT TYPE  \\n {wells_set['waterpoint_type'].value_counts()}\")\n",
    "print(f\"WATERPOINT TYPE GROUP  \\n {wells_set['waterpoint_type_group'].value_counts()}\")\n",
    "#DROP waterpoint type group"
   ]
  },
  {
   "cell_type": "code",
<<<<<<< Updated upstream
   "execution_count": 20,
=======
<<<<<<< HEAD
   "execution_count": 21,
=======
   "execution_count": 20,
>>>>>>> 4a1cd2f3e0aeaa472c235472558930642a2ef582
>>>>>>> Stashed changes
   "metadata": {},
   "outputs": [
    {
     "name": "stdout",
     "output_type": "stream",
     "text": [
      "INSTALLER COLUMN  \n",
<<<<<<< Updated upstream
      " DWE                            17402\n",
      "Nan                             3655\n",
      "Government                      1825\n",
      "RWE                             1206\n",
      "Commu                           1060\n",
      "                               ...  \n",
      "Embasy of Japan in Tanzania        1\n",
      "Altai Co. ltd                      1\n",
      "nchagwa                            1\n",
      "NGO                                1\n",
      "is                                 1\n",
      "Name: installer, Length: 2146, dtype: int64\n",
      "FUNDING COLUMN  \n",
=======
<<<<<<< HEAD
      " DWE           17402\n",
      "Nan            3655\n",
      "Government     1825\n",
      "RWE            1206\n",
      "Commu          1060\n",
      "              ...  \n",
      "muniko            1\n",
      "Makusa            1\n",
      "Othod             1\n",
      "Jumuiya           1\n",
      "CVS Miss          1\n",
      "Name: installer, Length: 2146, dtype: int64\n",
      "FUNDING COLUMN  \n",
      " Government Of Tanzania     9084\n",
      "Nan                        3635\n",
      "Danida                     3114\n",
      "Hesawa                     2202\n",
      "Rwssp                      1374\n",
      "                           ... \n",
      "Mamaz                         1\n",
      "Ministry Of Agricultura       1\n",
      "Mnyambe                       1\n",
      "Makona                        1\n",
      "Stabex                        1\n",
=======
      " DWE                            17402\n",
      "Nan                             3655\n",
      "Government                      1825\n",
      "RWE                             1206\n",
      "Commu                           1060\n",
      "                               ...  \n",
      "Embasy of Japan in Tanzania        1\n",
      "Altai Co. ltd                      1\n",
      "nchagwa                            1\n",
      "NGO                                1\n",
      "is                                 1\n",
      "Name: installer, Length: 2146, dtype: int64\n",
      "FUNDING COLUMN  \n",
>>>>>>> Stashed changes
      " Government Of Tanzania       9084\n",
      "Nan                          3635\n",
      "Danida                       3114\n",
      "Hesawa                       2202\n",
      "Rwssp                        1374\n",
      "                             ... \n",
      "Ku                              1\n",
      "Wamisionari Wa Kikatoriki       1\n",
      "Mgaya                           1\n",
      "Nasan                           1\n",
      "Tanzaling                       1\n",
<<<<<<< Updated upstream
=======
>>>>>>> 4a1cd2f3e0aeaa472c235472558930642a2ef582
>>>>>>> Stashed changes
      "Name: funder, Length: 1898, dtype: int64\n"
     ]
    }
   ],
   "source": [
    "print(f\"INSTALLER COLUMN  \\n {wells_set['installer'].value_counts()}\")\n",
    "print(f\"FUNDING COLUMN  \\n {wells_set['funder'].value_counts()}\")"
   ]
  },
  {
   "cell_type": "code",
<<<<<<< Updated upstream
   "execution_count": 21,
=======
<<<<<<< HEAD
   "execution_count": 22,
=======
   "execution_count": 21,
>>>>>>> 4a1cd2f3e0aeaa472c235472558930642a2ef582
>>>>>>> Stashed changes
   "metadata": {},
   "outputs": [],
   "source": [
    "#We also add some of the columns we see irrelevant to our project to drop function\n",
    "wells_set.drop(columns = ['extraction_type','extraction_type_group','management','payment',\n",
    "                         'water_quality','quantity','source','source_class','waterpoint_type_group',\n",
    "                          'id','public_meeting','recorded_by','permit','wpt_name','region_code','district_code',\n",
    "                         'lga','ward','date_recorded','num_private'], inplace=True)"
   ]
  },
  {
   "cell_type": "code",
<<<<<<< Updated upstream
   "execution_count": 22,
=======
<<<<<<< HEAD
   "execution_count": 23,
=======
   "execution_count": 22,
>>>>>>> 4a1cd2f3e0aeaa472c235472558930642a2ef582
>>>>>>> Stashed changes
   "metadata": {},
   "outputs": [
    {
     "data": {
      "text/plain": [
       "(59400, 20)"
      ]
     },
<<<<<<< Updated upstream
     "execution_count": 22,
=======
<<<<<<< HEAD
     "execution_count": 23,
=======
     "execution_count": 22,
>>>>>>> 4a1cd2f3e0aeaa472c235472558930642a2ef582
>>>>>>> Stashed changes
     "metadata": {},
     "output_type": "execute_result"
    }
   ],
   "source": [
    "wells_set.shape"
   ]
  },
  {
   "cell_type": "markdown",
   "metadata": {},
   "source": [
    "### 2.3 Validity"
   ]
  },
  {
   "cell_type": "markdown",
   "metadata": {},
   "source": [
    "Here we check on the data types to see if the match the attributes of their individual columns"
   ]
  },
  {
   "cell_type": "code",
<<<<<<< Updated upstream
   "execution_count": 23,
=======
<<<<<<< HEAD
   "execution_count": 24,
=======
   "execution_count": 23,
>>>>>>> 4a1cd2f3e0aeaa472c235472558930642a2ef582
>>>>>>> Stashed changes
   "metadata": {},
   "outputs": [
    {
     "name": "stdout",
     "output_type": "stream",
     "text": [
      "<class 'pandas.core.frame.DataFrame'>\n",
      "Int64Index: 59400 entries, 0 to 59399\n",
      "Data columns (total 20 columns):\n",
      " #   Column                 Non-Null Count  Dtype  \n",
      "---  ------                 --------------  -----  \n",
      " 0   amount_tsh             59400 non-null  float64\n",
      " 1   funder                 59400 non-null  object \n",
      " 2   gps_height             59400 non-null  int64  \n",
      " 3   installer              59400 non-null  object \n",
      " 4   longitude              59400 non-null  float64\n",
      " 5   latitude               59400 non-null  float64\n",
      " 6   basin                  59400 non-null  object \n",
      " 7   subvillage             59400 non-null  object \n",
      " 8   region                 59400 non-null  object \n",
      " 9   population             59400 non-null  int64  \n",
      " 10  scheme_management      59400 non-null  object \n",
      " 11  construction_year      59400 non-null  int64  \n",
      " 12  extraction_type_class  59400 non-null  object \n",
      " 13  management_group       59400 non-null  object \n",
      " 14  payment_type           59400 non-null  object \n",
      " 15  quality_group          59400 non-null  object \n",
      " 16  quantity_group         59400 non-null  object \n",
      " 17  source_type            59400 non-null  object \n",
      " 18  waterpoint_type        59400 non-null  object \n",
      " 19  status_group           59400 non-null  object \n",
      "dtypes: float64(3), int64(3), object(14)\n",
      "memory usage: 9.5+ MB\n"
     ]
    }
   ],
   "source": [
    "wells_set.info()"
   ]
  },
  {
   "cell_type": "markdown",
   "metadata": {},
   "source": [
    "We realize that date_recorded is in object form.we change it to the relevant DateTime data type"
   ]
  },
  {
   "cell_type": "code",
<<<<<<< Updated upstream
   "execution_count": 24,
=======
<<<<<<< HEAD
   "execution_count": 25,
=======
   "execution_count": 24,
>>>>>>> 4a1cd2f3e0aeaa472c235472558930642a2ef582
>>>>>>> Stashed changes
   "metadata": {},
   "outputs": [
    {
     "data": {
      "text/html": [
       "<div>\n",
       "<style scoped>\n",
       "    .dataframe tbody tr th:only-of-type {\n",
       "        vertical-align: middle;\n",
       "    }\n",
       "\n",
       "    .dataframe tbody tr th {\n",
       "        vertical-align: top;\n",
       "    }\n",
       "\n",
       "    .dataframe thead th {\n",
       "        text-align: right;\n",
       "    }\n",
       "</style>\n",
       "<table border=\"1\" class=\"dataframe\">\n",
       "  <thead>\n",
       "    <tr style=\"text-align: right;\">\n",
       "      <th></th>\n",
       "      <th>amount_tsh</th>\n",
       "      <th>funder</th>\n",
       "      <th>gps_height</th>\n",
       "      <th>installer</th>\n",
       "      <th>longitude</th>\n",
       "      <th>latitude</th>\n",
       "      <th>basin</th>\n",
       "      <th>subvillage</th>\n",
       "      <th>region</th>\n",
       "      <th>population</th>\n",
       "      <th>scheme_management</th>\n",
       "      <th>construction_year</th>\n",
       "      <th>extraction_type_class</th>\n",
       "      <th>management_group</th>\n",
       "      <th>payment_type</th>\n",
       "      <th>quality_group</th>\n",
       "      <th>quantity_group</th>\n",
       "      <th>source_type</th>\n",
       "      <th>waterpoint_type</th>\n",
       "      <th>status_group</th>\n",
       "    </tr>\n",
       "  </thead>\n",
       "  <tbody>\n",
       "    <tr>\n",
       "      <th>0</th>\n",
       "      <td>6000.0</td>\n",
       "      <td>Roman</td>\n",
       "      <td>1390</td>\n",
       "      <td>Roman</td>\n",
       "      <td>34.938093</td>\n",
       "      <td>-9.856322</td>\n",
       "      <td>Lake Nyasa</td>\n",
       "      <td>Mnyusi B</td>\n",
       "      <td>Iringa</td>\n",
       "      <td>109</td>\n",
       "      <td>VWC</td>\n",
       "      <td>1999</td>\n",
       "      <td>gravity</td>\n",
       "      <td>user-group</td>\n",
       "      <td>annually</td>\n",
       "      <td>good</td>\n",
       "      <td>enough</td>\n",
       "      <td>spring</td>\n",
       "      <td>communal standpipe</td>\n",
       "      <td>functional</td>\n",
       "    </tr>\n",
       "    <tr>\n",
       "      <th>1</th>\n",
       "      <td>0.0</td>\n",
       "      <td>Grumeti</td>\n",
       "      <td>1399</td>\n",
       "      <td>GRUMETI</td>\n",
       "      <td>34.698766</td>\n",
       "      <td>-2.147466</td>\n",
       "      <td>Lake Victoria</td>\n",
       "      <td>Nyamara</td>\n",
       "      <td>Mara</td>\n",
       "      <td>280</td>\n",
       "      <td>Other</td>\n",
       "      <td>2010</td>\n",
       "      <td>gravity</td>\n",
       "      <td>user-group</td>\n",
       "      <td>never pay</td>\n",
       "      <td>good</td>\n",
       "      <td>insufficient</td>\n",
       "      <td>rainwater harvesting</td>\n",
       "      <td>communal standpipe</td>\n",
       "      <td>functional</td>\n",
       "    </tr>\n",
       "    <tr>\n",
       "      <th>2</th>\n",
       "      <td>25.0</td>\n",
       "      <td>Lottery Club</td>\n",
       "      <td>686</td>\n",
       "      <td>World vision</td>\n",
       "      <td>37.460664</td>\n",
       "      <td>-3.821329</td>\n",
       "      <td>Pangani</td>\n",
       "      <td>Majengo</td>\n",
       "      <td>Manyara</td>\n",
       "      <td>250</td>\n",
       "      <td>VWC</td>\n",
       "      <td>2009</td>\n",
       "      <td>gravity</td>\n",
       "      <td>user-group</td>\n",
       "      <td>per bucket</td>\n",
       "      <td>good</td>\n",
       "      <td>enough</td>\n",
       "      <td>dam</td>\n",
       "      <td>communal standpipe multiple</td>\n",
       "      <td>functional</td>\n",
       "    </tr>\n",
       "    <tr>\n",
       "      <th>3</th>\n",
       "      <td>0.0</td>\n",
       "      <td>Unicef</td>\n",
       "      <td>263</td>\n",
       "      <td>UNICEF</td>\n",
       "      <td>38.486161</td>\n",
       "      <td>-11.155298</td>\n",
       "      <td>Ruvuma / Southern Coast</td>\n",
       "      <td>Mahakamani</td>\n",
       "      <td>Mtwara</td>\n",
       "      <td>58</td>\n",
       "      <td>VWC</td>\n",
       "      <td>1986</td>\n",
       "      <td>submersible</td>\n",
       "      <td>user-group</td>\n",
       "      <td>never pay</td>\n",
       "      <td>good</td>\n",
       "      <td>dry</td>\n",
       "      <td>borehole</td>\n",
       "      <td>communal standpipe multiple</td>\n",
       "      <td>non functional</td>\n",
       "    </tr>\n",
       "    <tr>\n",
       "      <th>4</th>\n",
       "      <td>0.0</td>\n",
       "      <td>Action In A</td>\n",
       "      <td>0</td>\n",
       "      <td>Artisan</td>\n",
       "      <td>31.130847</td>\n",
       "      <td>-1.825359</td>\n",
       "      <td>Lake Victoria</td>\n",
       "      <td>Kyanyamisa</td>\n",
       "      <td>Kagera</td>\n",
       "      <td>0</td>\n",
       "      <td>Nan</td>\n",
       "      <td>0</td>\n",
       "      <td>gravity</td>\n",
       "      <td>other</td>\n",
       "      <td>never pay</td>\n",
       "      <td>good</td>\n",
       "      <td>seasonal</td>\n",
       "      <td>rainwater harvesting</td>\n",
       "      <td>communal standpipe</td>\n",
       "      <td>functional</td>\n",
       "    </tr>\n",
       "  </tbody>\n",
       "</table>\n",
       "</div>"
      ],
      "text/plain": [
       "   amount_tsh        funder  gps_height     installer  longitude   latitude  \\\n",
       "0      6000.0         Roman        1390         Roman  34.938093  -9.856322   \n",
       "1         0.0       Grumeti        1399       GRUMETI  34.698766  -2.147466   \n",
       "2        25.0  Lottery Club         686  World vision  37.460664  -3.821329   \n",
       "3         0.0        Unicef         263        UNICEF  38.486161 -11.155298   \n",
       "4         0.0   Action In A           0       Artisan  31.130847  -1.825359   \n",
       "\n",
       "                     basin  subvillage   region  population scheme_management  \\\n",
       "0               Lake Nyasa    Mnyusi B   Iringa         109               VWC   \n",
       "1            Lake Victoria     Nyamara     Mara         280             Other   \n",
       "2                  Pangani     Majengo  Manyara         250               VWC   \n",
       "3  Ruvuma / Southern Coast  Mahakamani   Mtwara          58               VWC   \n",
       "4            Lake Victoria  Kyanyamisa   Kagera           0               Nan   \n",
       "\n",
       "   construction_year extraction_type_class management_group payment_type  \\\n",
       "0               1999               gravity       user-group     annually   \n",
       "1               2010               gravity       user-group    never pay   \n",
       "2               2009               gravity       user-group   per bucket   \n",
       "3               1986           submersible       user-group    never pay   \n",
       "4                  0               gravity            other    never pay   \n",
       "\n",
       "  quality_group quantity_group           source_type  \\\n",
       "0          good         enough                spring   \n",
       "1          good   insufficient  rainwater harvesting   \n",
       "2          good         enough                   dam   \n",
       "3          good            dry              borehole   \n",
       "4          good       seasonal  rainwater harvesting   \n",
       "\n",
       "               waterpoint_type    status_group  \n",
       "0           communal standpipe      functional  \n",
       "1           communal standpipe      functional  \n",
       "2  communal standpipe multiple      functional  \n",
       "3  communal standpipe multiple  non functional  \n",
       "4           communal standpipe      functional  "
      ]
     },
<<<<<<< Updated upstream
     "execution_count": 24,
=======
<<<<<<< HEAD
     "execution_count": 25,
=======
     "execution_count": 24,
>>>>>>> 4a1cd2f3e0aeaa472c235472558930642a2ef582
>>>>>>> Stashed changes
     "metadata": {},
     "output_type": "execute_result"
    }
   ],
   "source": [
    "df = wells_set\n",
    "df.head()"
   ]
  },
  {
   "cell_type": "code",
<<<<<<< Updated upstream
   "execution_count": 25,
=======
<<<<<<< HEAD
   "execution_count": 26,
=======
   "execution_count": 25,
>>>>>>> 4a1cd2f3e0aeaa472c235472558930642a2ef582
>>>>>>> Stashed changes
   "metadata": {},
   "outputs": [
    {
     "data": {
      "text/html": [
       "<div>\n",
       "<style scoped>\n",
       "    .dataframe tbody tr th:only-of-type {\n",
       "        vertical-align: middle;\n",
       "    }\n",
       "\n",
       "    .dataframe tbody tr th {\n",
       "        vertical-align: top;\n",
       "    }\n",
       "\n",
       "    .dataframe thead th {\n",
       "        text-align: right;\n",
       "    }\n",
       "</style>\n",
       "<table border=\"1\" class=\"dataframe\">\n",
       "  <thead>\n",
       "    <tr style=\"text-align: right;\">\n",
       "      <th></th>\n",
       "      <th>amount_tsh</th>\n",
       "      <th>gps_height</th>\n",
       "      <th>longitude</th>\n",
       "      <th>latitude</th>\n",
       "      <th>population</th>\n",
       "      <th>construction_year</th>\n",
       "    </tr>\n",
       "  </thead>\n",
       "  <tbody>\n",
       "    <tr>\n",
       "      <th>count</th>\n",
       "      <td>59400.000000</td>\n",
       "      <td>59400.000000</td>\n",
       "      <td>59400.000000</td>\n",
       "      <td>5.940000e+04</td>\n",
       "      <td>59400.000000</td>\n",
       "      <td>59400.000000</td>\n",
       "    </tr>\n",
       "    <tr>\n",
       "      <th>mean</th>\n",
       "      <td>317.650385</td>\n",
       "      <td>668.297239</td>\n",
       "      <td>34.077427</td>\n",
       "      <td>-5.706033e+00</td>\n",
       "      <td>179.909983</td>\n",
       "      <td>1300.652475</td>\n",
       "    </tr>\n",
       "    <tr>\n",
       "      <th>std</th>\n",
       "      <td>2997.574558</td>\n",
       "      <td>693.116350</td>\n",
       "      <td>6.567432</td>\n",
       "      <td>2.946019e+00</td>\n",
       "      <td>471.482176</td>\n",
       "      <td>951.620547</td>\n",
       "    </tr>\n",
       "    <tr>\n",
       "      <th>min</th>\n",
       "      <td>0.000000</td>\n",
       "      <td>-90.000000</td>\n",
       "      <td>0.000000</td>\n",
       "      <td>-1.164944e+01</td>\n",
       "      <td>0.000000</td>\n",
       "      <td>0.000000</td>\n",
       "    </tr>\n",
       "    <tr>\n",
       "      <th>25%</th>\n",
       "      <td>0.000000</td>\n",
       "      <td>0.000000</td>\n",
       "      <td>33.090347</td>\n",
       "      <td>-8.540621e+00</td>\n",
       "      <td>0.000000</td>\n",
       "      <td>0.000000</td>\n",
       "    </tr>\n",
       "    <tr>\n",
       "      <th>50%</th>\n",
       "      <td>0.000000</td>\n",
       "      <td>369.000000</td>\n",
       "      <td>34.908743</td>\n",
       "      <td>-5.021597e+00</td>\n",
       "      <td>25.000000</td>\n",
       "      <td>1986.000000</td>\n",
       "    </tr>\n",
       "    <tr>\n",
       "      <th>75%</th>\n",
       "      <td>20.000000</td>\n",
       "      <td>1319.250000</td>\n",
       "      <td>37.178387</td>\n",
       "      <td>-3.326156e+00</td>\n",
       "      <td>215.000000</td>\n",
       "      <td>2004.000000</td>\n",
       "    </tr>\n",
       "    <tr>\n",
       "      <th>max</th>\n",
       "      <td>350000.000000</td>\n",
       "      <td>2770.000000</td>\n",
       "      <td>40.345193</td>\n",
       "      <td>-2.000000e-08</td>\n",
       "      <td>30500.000000</td>\n",
       "      <td>2013.000000</td>\n",
       "    </tr>\n",
       "  </tbody>\n",
       "</table>\n",
       "</div>"
      ],
      "text/plain": [
       "          amount_tsh    gps_height     longitude      latitude    population  \\\n",
       "count   59400.000000  59400.000000  59400.000000  5.940000e+04  59400.000000   \n",
       "mean      317.650385    668.297239     34.077427 -5.706033e+00    179.909983   \n",
       "std      2997.574558    693.116350      6.567432  2.946019e+00    471.482176   \n",
       "min         0.000000    -90.000000      0.000000 -1.164944e+01      0.000000   \n",
       "25%         0.000000      0.000000     33.090347 -8.540621e+00      0.000000   \n",
       "50%         0.000000    369.000000     34.908743 -5.021597e+00     25.000000   \n",
       "75%        20.000000   1319.250000     37.178387 -3.326156e+00    215.000000   \n",
       "max    350000.000000   2770.000000     40.345193 -2.000000e-08  30500.000000   \n",
       "\n",
       "       construction_year  \n",
       "count       59400.000000  \n",
       "mean         1300.652475  \n",
       "std           951.620547  \n",
       "min             0.000000  \n",
       "25%             0.000000  \n",
       "50%          1986.000000  \n",
       "75%          2004.000000  \n",
       "max          2013.000000  "
      ]
     },
<<<<<<< Updated upstream
     "execution_count": 25,
=======
<<<<<<< HEAD
     "execution_count": 26,
=======
     "execution_count": 25,
>>>>>>> 4a1cd2f3e0aeaa472c235472558930642a2ef582
>>>>>>> Stashed changes
     "metadata": {},
     "output_type": "execute_result"
    }
   ],
   "source": [
    "df.describe()"
   ]
  },
  {
   "cell_type": "code",
<<<<<<< Updated upstream
   "execution_count": 26,
=======
<<<<<<< HEAD
   "execution_count": 27,
=======
   "execution_count": 26,
>>>>>>> 4a1cd2f3e0aeaa472c235472558930642a2ef582
>>>>>>> Stashed changes
   "metadata": {},
   "outputs": [],
   "source": [
    "#Here we drop all the rows with tsh 0.0\n",
    "df[df['amount_tsh'] == 0.0]\n",
    "df.drop(index = df[df['amount_tsh'] == 0.0].index, inplace = True)"
   ]
  },
  {
   "cell_type": "code",
<<<<<<< Updated upstream
   "execution_count": 27,
=======
<<<<<<< HEAD
   "execution_count": 28,
=======
   "execution_count": 27,
>>>>>>> 4a1cd2f3e0aeaa472c235472558930642a2ef582
>>>>>>> Stashed changes
   "metadata": {},
   "outputs": [],
   "source": [
    "#Based on our descriptive statistics above,on the minimum some values\n",
    "#are zero which is untrue based on where Tanzania is located.We hence drop those rows\n",
    "df =df.astype({'longitude':'int'})\n",
    "# subsetting the longitudes with zero values\n",
    "df[df['longitude'] == 0.0]\n",
    "df.drop(index = df[df['longitude'] == 0.0].index, inplace = True)\n",
    "\n",
    "#df['longitude'].drop(df['longitude'] is 0.0,index=0,inplace = True)"
   ]
  },
  {
   "cell_type": "code",
   "execution_count": 28,
   "metadata": {},
   "outputs": [],
   "source": [
    "#df =df.astype({'water':'int'})\n"
   ]
  },
  {
   "cell_type": "code",
<<<<<<< HEAD
=======
   "execution_count": 28,
   "metadata": {},
   "outputs": [],
   "source": [
    "#df =df.astype({'water':'int'})\n"
   ]
  },
  {
   "cell_type": "code",
>>>>>>> 4a1cd2f3e0aeaa472c235472558930642a2ef582
   "execution_count": 29,
   "metadata": {},
   "outputs": [
    {
     "data": {
      "text/plain": [
       "(17761, 20)"
      ]
     },
     "execution_count": 29,
     "metadata": {},
     "output_type": "execute_result"
    }
   ],
   "source": [
    "df.shape"
   ]
  },
  {
   "cell_type": "code",
   "execution_count": 30,
   "metadata": {},
   "outputs": [
    {
     "data": {
      "text/plain": [
       "0        False\n",
       "2        False\n",
       "5        False\n",
       "11       False\n",
       "16       False\n",
       "         ...  \n",
       "59385    False\n",
       "59387    False\n",
       "59394    False\n",
       "59395    False\n",
       "59396    False\n",
       "Length: 17761, dtype: bool"
      ]
     },
     "execution_count": 30,
     "metadata": {},
     "output_type": "execute_result"
    }
   ],
   "source": [
    "df.duplicated()\n"
   ]
  },
  {
   "cell_type": "markdown",
   "metadata": {},
   "source": [
    "## 3.EXPLORATORY DATA ANALYSIS(EDA)"
   ]
  },
  {
   "cell_type": "markdown",
   "metadata": {},
   "source": [
    "Here we mainly visualize the relationships between our features to understand the data more"
   ]
  },
  {
   "cell_type": "code",
<<<<<<< Updated upstream
   "execution_count": 31,
=======
<<<<<<< HEAD
   "execution_count": 32,
=======
   "execution_count": 31,
>>>>>>> 4a1cd2f3e0aeaa472c235472558930642a2ef582
>>>>>>> Stashed changes
   "metadata": {},
   "outputs": [
    {
     "data": {
<<<<<<< Updated upstream
      "image/png": "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\n",
=======
<<<<<<< HEAD
      "image/png": "iVBORw0KGgoAAAANSUhEUgAAAnUAAAIdCAYAAABbUItjAAAAOXRFWHRTb2Z0d2FyZQBNYXRwbG90bGliIHZlcnNpb24zLjMuMSwgaHR0cHM6Ly9tYXRwbG90bGliLm9yZy/d3fzzAAAACXBIWXMAAAsTAAALEwEAmpwYAABG9klEQVR4nO3de5xd873/8ddHEiIIIeGHaJO0ronJVaSuiShaShSldUlQSqlezlH0nEOqRw/llKYtKT0acWjd6lKtayVFxSWJCJKQi0FwiKiIXJDk+/tjrZnujD0zO8lMZrLyej4e+zFrf9d3rfXZe/bMvOe7bpFSQpIkSeu2DVq6AEmSJK05Q50kSVIBGOokSZIKwFAnSZJUAIY6SZKkAjDUSZIkFYChTpIkqQAMdVIrFhE9IuLaiJgREYsj4h8RMS0iboiIIXX6joyIYU2wze9FxIg1XY+0piJiWESMbOk6pHVFePFhqXWKiAHA34BPgLHAi8DGwE7AV4C7U0pnl/RPwA0ppRFruN1qoDqlNHhN1iOtqYgYAwxPKUVL1yKtC9q2dAGS6nUR0AHom1KaUjojIs4G/l9LFCVJap3c/Sq1XjsC8+sGOoCU0oqU0psAEdEtH6UDGB4RqeZR0z8ijo2IeyLitYj4KCLejYi7IqKqdL35Mp8F9i9dT0R0q5mfj55QZ7kR+bzBJW1bRsSVETE7IpZGxPyImBQR51by4vPXdUdEfBARCyLi7ojoHhHVETG+TP9vRsTkiFiS938wIvYps85Ubpdevvu69rXmbWPyti4RMTZ/DYsi4q8R0bfMOk6KiKcj4v2835yIuCkiujTwOttExBsRMbme+d/KaxiWP2+f1/pSvkv+/Yh4PiIur//dXGl9ERGnRcRTEfFh/ng+Ii6u069zRPw6Il6PiI/zr7+OiK0ae99K5n3qe1XzGYqIL0TE3/L36d2I+G1EbFrSbzwwvGSZmseIvG2HiLg+Il7NP9PvRMQTETG8kvdBKiJH6qTWazawc0R8NaX0xwb6zQNOBG4EHgOuLdPnbOC9fN7/AZ8DTgf+HhH9Ukoz834nAlcC7wKX1NnGqroN2A/4DfAc2ajjLsBgoMEAkgeHx4BtgNHAdGBfYBywSZn+lwE/BJ4GfgRslr++cRFxRErpL6tRf6n7yd6/kWQjpGcDj0bEF1JKL+Q1nADckNd9IbAE+AzwJWBr6nkPU0rLI+Im4NyI6FWzvhInkX0//pw//zVwCtku+SuBNmT/ABxQ4Wu5ETgeeIrse/w+2ffl6LxuImJz4Ang88D1wGSgL3AmcEBEDEwpLaxwe+X0Ae4FfgfcTPaZOBVYQfZ9I69tA7Lv+4klyz4REW2Bh4DtgauBl4HNgaq8/w1rUJu07kop+fDhoxU+gC8AHwOJ7I/W9WR/VHetp38CxtQzb5MybbsCHwFX12mvBsavyjaAEfm8wfnzzfPnV5dbTwWv/Wf58sfX0z6+pG1nsjDwOLBhSft2ZIGlGmiTt3XLlx9ZZpsj83ndStrG5G1/JD8GOW/vn2/z/pK2PwIfAG1X4/X2zLfzszrtn8vbR5W0vQf8ZTXf16/l67sR2KDOvA1Kpi/J+327Tp+z8vafNPS+NfRZyvuuAAbVaf8z2fGjm9Z9/8ustypfzw9X533w4aOoD3e/Sq1USmkCWXi4gSwknUw2KjEtIh6LiB6rsK5FULvrrWNEdCYbOXoJ2LPJi89GqT4C9iy3W64CXwHeAn5fp/2KMn2PAIIsEH1c05iy3dNjyHYnf2pX6Sr6WUqpdnd2SmkS2UjRgSW7DBeQjUYeGhGrdGB/SulFYBJwfESU/l4+Kf9aOvK0AOgZEb1W8TVANkIH8K8ppRV1aih9fiTZ56PuqO9vyEYNj1yNbZeakFJ6sk7bI2R7j7pVsPyC/OuQiNh6DWuRCsNQJ7ViKaXnU0ojUkrbkP2xG062e28f4O6I2LCS9URE34i4F1hI9gdxXv7YHejUDHV/DHwP6AW8EhEvRsQvI2JohavoDswqEzzeIRt9q9sXsrOD66rZlVlxAK7H9DJt08h2fX42f/5T4FXgLmBeZMcDfjMiNqtwG2PJRhcPLGk7AXgxD5E1vkf2PXs+suMVfxsRR9QJg/XZEXgrpfR2I/26Ay+llJaVNubPX2LN3885Zdrm51+3KjNvJSmlV8lGEw8C3orsWM2fRcQea1iXtE4z1EnriJTSqymlscD+wN/JAtPAxpaLiM8Aj5KNVv2EbJTlIOCLZEGoKX4PfOr43JTSaLIgehrZMVlHAw9HxB+aYHulVmVUrKFrOK3qMcYrbTdlxyXuBhxKNrL2WeA6YEZEfK6C9d1MtvvxJICI2JcsPI2ts527yd7XE8lGt4aSBcnxFYT8oOH3YHWsznu6vIFlKvp+ppT+nSykfo/s+NNvAk/nx1dK6yVDnbSOyXcDPpU/3b6CRY4ENgVOSCldllK6K6X0UErpYcqPijT0R/o9YMsy7WVHblJKb6WUfptSOhHoSrY79dgKRlSqgc/XHX3Kd7VtUafv7PxrzzLr2S3/WjMy9F7+teLXkNu1nrblZKNzAKSUPkop/SWl9C8ppQFkAW874AcNrLtm2XeBvwBH5rt0TyI79ux/y/R9L6X0vyml0/K6f0Z2gsARjWzmJWC7iNimkX5zyE7SWSmU5c93YuWRtrLvaUS0B7ZtZDuNaTCAppTmpJR+mVL6Gtn7/CjwQ3fJan1lqJNaqYj4Yt0/qnn7xmQjbZDtAqzxIeXDSs2oyEojIBFxGuWvdVffeiA7YeMLEdGhZD2dyI73K113h9I+kJ3lCUzNn9a3/hp/IgsEX6/T/q9l+t5D9sf/3IhoV1LDtnldrwLP5jUsJDv794DS497y4xOHNVDPD+v070e2m/SvKaUP87bOZZaruUxJY6+3xg1kx+WdABwDPJQfG1iz3TYRsUXpAnnIf7bC7dyUf/1ZmcBc+vm4C+hCNvpV6rS8/c6StpfzrwfW6ft91vxvTM17Wzcwbl76vQZIKS3ln7vJm/yQAmld4CVNpNbrSmCriLgHeB5YDOwAfINstGRsSun5kv5Pkh24fx7wGtnf+z8A9+XL3hgRvwL+AewNfJlslKvu74EngVMj4idkfyRXAH/KT7b4FdnI0SMRcSPZqNlpZMGpNCDuBPwtIu4kO67tH2QjW2cCr5AdF9iQy/LX+buIGAjMIDuOcG+yA/VLT1p4KbJrtP2Q7DIjt/DPS5psSnYGbenuvl8B/wncFxF3kY3wnJHXWd8I4meBB/LvxbZklzRZApRec+/BiFhANlr0ev7ejOCfZ5tW4s9kx5ZdBnTk05fm2IzsGLJ7yILcO2THv51J9h7/qaGVp5Ruy9+fk4Ad8/X8g+z7dTDZLn3IRv6OAX6dB9hnyXbfn0o22vezktU+TPb9uTi/FM0rZN+rQWTfqzXxJNl7fXVE1Jwd+xTQG7g2Iu7I6/mQ7KSibwJPpZReWsPtSuumlj791ocPH+UfZKNxvya7xtu7wDKyP/jjyK5TVveSFDsCD5JdViNRcikIsuvFPU52osT7ZOGhFzCe7JZgpevZGriDbLfaCj59mY9zyULcR2Sh7xQ+fUmTrchC6ZR8e0uAWcBVwLYVvv7uZJcJWZi/prvztncpc0kPsnD5LLA07/8QsG+Zfm3JQslbed/JZGfbjizzWsfkbV3Igtl8soD8CNC/zPYfIhsJ/Dhf/1+AIav4ff9lvs0FwMZ15m0I/BfZ9fjm59+DarLL3exY4fo3ILs0yeT8tSwkG0G9qE6/LmRnW88lC1Nz889j5zLr3InsWn6L8+/3rWSHBlRT/pImY8qsY6XPUEmtV+TbXp7PH5F/DmquX/gBsCifvhjYvKV/dn34aKmH936VtM7IR4LeBX6TUjpjLWxvDN57VNI6wmPqJLVK+bGDdZ2Xf31obdYiSesCj6mT1FrdFxGvAhPJrgc3FDiM7PZVd7VgXZLUKhnqJLVWfyI7oH8YsDHZcVX/Dfw4rXzigyQJPKZOkiSpCDymTpIkqQAMdZIkSQVgqJMkSSoAQ50kSVIBGOokSZIKwFAnSZJUAIY6SZKkAjDUSZIkFYChTpIkqQAMdZIkSQVgqJMkSSoAQ50kSVIBGOokSZIKwFAnSZJUAIY6SZKkAjDUSZIkFYChTpIkqQAMdZIkSQVgqJMkSSoAQ50kSVIBGOokSZIKwFAnSZJUAIY6SZKkAjDUSZIkFYChTpIkqQAMdZIkSQVgqJMkSSoAQ50kSVIBGOokSZIKwFAnSZJUAIY6SZKkAjDUSZIkFYChTpIkqQAMdZIkSQVgqJMkSSoAQ50kSVIBGOokSZIKwFAnSZJUAG1buoCW1rlz59StW7eWLkOSJKlRkyZNejel1KXcvPU+1HXr1o2JEye2dBmSJEmNiohX65vn7ldJkqQCMNRJkiQVgKFOkiSpANb7Y+okSVpdn3zyCXPnzmXp0qUtXYoKpn379nTt2pV27dpVvIyhTpKk1TR37lw222wzunXrRkS0dDkqiJQS8+fPZ+7cuXTv3r3i5dz9KknSalq6dClbbbWVgU5NKiLYaqutVnkE2FAnSdIaMNCpOazO58pQJ0mSVACGOkmS1mNXXXUVixcvbrJ+ajmGOkmS1mOtPdQtX758rW9zXWWokyRpPbFo0SIOPfRQevfuTa9evfjxj3/Mm2++yZAhQxgyZAgAZ555JgMGDKBnz55cdNFFAIwaNepT/TbddNPa9d5+++2MGDECgNtuu41evXrRu3dv9ttvv3prWbx4MV/72teoqqri2GOPZc8996y9beemm27KhRdeyJ577smECRP4+c9/Tq9evejVqxdXXXUVANXV1fTq1at2fVdccQUjR44EYPDgwXzve99jr732olevXjz99NNN8v61dl7SRJKk9cT999/Pdtttx5///GcAFixYwO9+9zvGjRtH586dAbjkkkvYcsstWb58OUOHDmXq1Kmcc845/PznP1+pX30uvvhiHnjgAbbffnvef//9evtdffXVdOrUialTp/LCCy/Qp0+f2nmLFi2iV69eXHzxxUyaNInf/e53PPXUU6SU2HPPPdl///3p1KlTg3UsWrSIJ554gkcffZRTTjmFF154obI3aR3mSJ0kSeuJ3XffnYcffpjzzjuPxx57jM033/xTfW699Vb69etH3759efHFF5k2bdoqbWPvvfdmxIgRXHfddQ3uOn388cc57rjjAOjVqxdVVVW189q0acNRRx1V2+/II49kk002YdNNN+WrX/0qjz32WKN1fP3rXwdgv/3244MPPmgwYBaFI3WSJK0ndtppJyZNmsRf/vIXLrjgAg466KCV5r/yyitcccUVPPPMM3Tq1IkRI0bUe6200ktulPYZPXo0Tz31FH/+85/p06cPU6ZMYauttvrU8imleuts3749bdq0abBf27ZtWbFiRdka6tZX7nkROVInSdJ64s0336RDhw6ccMIJ/Ou//iuTJ09ms802Y+HChQB88MEHbLLJJmy++ea8/fbb3HfffbXLlvYD2GabbZg+fTorVqzgzjvvrG2fPXs2e+65JxdffDGdO3fm9ddfL1vLPvvsw6233grAtGnTeP7558v222+//bjrrrtYvHgxixYt4s4772Tfffdlm2224Z133mH+/Pl89NFH3HvvvSstd8sttwDZSN/mm29edlSyaBypkyRpPfH8889z7rnnssEGG9CuXTuuueYaJkyYwJe+9CW23XZbxo0bR9++fenZsyc9evRg7733rl329NNPX6nfpZdeymGHHcYOO+xAr169+PDDDwE499xzmTlzJiklhg4dSu/evcvW8u1vf5vhw4dTVVVF3759qaqqKhu8+vXrx4gRIxg4cCAA3/zmN+nbty9A7ckU3bt3Z5dddllpuU6dOrHXXnvxwQcfcP311zfJ+9faRUPDn+uDAQMGpJqzbSRJWhXTp09n1113beky1knLly/nk08+oX379syePZuhQ4fy8ssvs+GGG67xugcPHswVV1zBgAEDmqDSllPu8xURk1JKZV+YI3WSJGmtW7x4MUOGDOGTTz4hpcQ111zTJIFufWaokyRJzeaBBx7gvPPOW6mte/fu3HnnnTTXnrLx48c3y3pbO0NdE+p/7tiWLmGNTbr8pJYuQZJUIAcffDAHH3xwS5exXvDsV0mSpAIw1EmSJBWAoU6SJKkADHWSJEkF4IkSkiQ1kaY+Ya6Sk9dGjRrFNddcQ79+/bjpppvWeJvV1dU88cQTfOMb3wBg4sSJjB07llGjRq3xukt169aNiRMn0rlz5yZd7/rMUCdJ0jrs6quv5r777qN79+5Nsr7q6mpuvvnm2lA3YMCAdf4ivusLd79KkrSOOuOMM5gzZw6HH344m2++OVdccUXtvF69elFdXU11dTW77rorp512Gj179uSggw5iyZIlAMyaNYsDDzyQ3r17069fP2bPns3555/PY489Rp8+fbjyyisZP348hx12GADvvfcew4YNo6qqikGDBjF16lQARo4cySmnnMLgwYPp0aPHSqN6w4YNo3///vTs2ZNrr712Lb476x9DnSRJ66jRo0ez3XbbMW7cOL7//e/X22/mzJmcddZZvPjii2yxxRbccccdABx//PGcddZZPPfcczzxxBNsu+22XHrppey7775MmTLlU+u86KKL6Nu3L1OnTuWnP/0pJ530z93DM2bM4IEHHuDpp5/mxz/+MZ988gkA119/PZMmTWLixImMGjWK+fPnN8M7IXD3qyRJhde9e3f69OkDQP/+/amurmbhwoW88cYbHHnkkQC0b9++0fU8/vjjtYHwgAMOYP78+SxYsACAQw89lI022oiNNtqIrbfemrfffpuuXbsyatQo7rzzTgBef/11Zs6cyVZbbdUMr1KGOkmSCqBt27asWLGi9vnSpUtrpzfaaKPa6TZt2rBkyRJSSqu8jXLLRETZbSxbtozx48fz8MMPM2HCBDp06MDgwYNXqktNy92vkiQVQLdu3Zg8eTIAkydP5pVXXmmwf8eOHenatSt33XUXAB999BGLFy9ms802Y+HChWWX2W+//WrPsB0/fjydO3emY8eO9W5jwYIFdOrUiQ4dOjBjxgyefPLJ1XhlqpQjdZIkNZGWvH/2UUcdxdixY+nTpw977LEHO+20U6PL3HjjjXzrW9/iwgsvpF27dtx2221UVVXRtm1bevfuzYgRI+jbt29t/5EjR3LyySdTVVVFhw4duOGGGxpc/yGHHMLo0aOpqqpi5513ZtCgQWv8OlW/WJ3h1yIZMGBAmjhxYpOsq6mvT9QSWvIXkiSta6ZPn86uu+7a0mWooMp9viJiUkqp7DVm3P0qSZJUAGst1EXE9RHxTkS8UNJ2eUTMiIipEXFnRGxRMu+CiJgVES9FxMEl7f0j4vl83qjIj9CMiI0i4pa8/amI6La2XpskSVJLW5sjdWOAQ+q0PQT0SilVAS8DFwBExG7AcUDPfJmrI6JNvsw1wOnAjvmjZp2nAv9IKX0euBK4rNleiSRJUiuz1kJdSulR4L06bQ+mlJblT58EuubTRwB/SCl9lFJ6BZgFDIyIbYGOKaUJKTsYcCwwrGSZmiM2bweG1oziSZIkFV1rOqbuFOC+fHp74PWSeXPztu3z6brtKy2TB8UFQNmrG0bE6RExMSImzps3r8legCRJUktpFaEuIv4NWAbcVNNUpltqoL2hZT7dmNK1KaUBKaUBXbp0WdVyJUmSWp0Wv05dRAwHDgOGpn9eX2UusENJt67Am3l71zLtpcvMjYi2wObU2d0rSVJzeu3i3Zt0fZ+58PkmXd+qOPfcc/nLX/7Cl7/8ZS6//PImWeeUKVN48803+fKXvwzAPffcw7Rp0zj//PObZP01Nt10Uz788MMmXee6oEVDXUQcApwH7J9SWlwy6x7g5oj4ObAd2QkRT6eUlkfEwogYBDwFnAT8smSZ4cAE4GjgkbS+X4RPkqTV9Jvf/IZ58+atdPuvNTVlyhQmTpxYG+oOP/xwDj/88CZb//pubV7S5PdkgWvniJgbEacCvwI2Ax6KiCkRMRogpfQicCswDbgfOCultDxf1ZnAb8lOnpjNP4/D+x9gq4iYBfwAaNrYL0lSK1NdXc2uu+7KaaedRs+ePTnooINYsmQJkAWoQYMGUVVVxZFHHsk//vEPAAYPHsx5553HwIED2WmnnXjsscc+td7DDz+cRYsWseeee3LLLbcwYsQIbr/99tr5m266KZDdKmzw4MEcffTR7LLLLhx//PG194d95pln2GuvvejduzcDBw5kwYIFXHjhhdxyyy306dOHW265hTFjxnD22WcD8OqrrzJ06FCqqqoYOnQor732GgAjRozgnHPOYa+99qJHjx61dXz44YcMHTqUfv36sfvuu3P33Xc307u87libZ79+PaW0bUqpXUqpa0rpf1JKn08p7ZBS6pM/zijpf0lK6XMppZ1TSveVtE9MKfXK551dMxqXUlqaUjomX+fAlNKctfXaJElqKTNnzuSss87ixRdfZIsttuCOO+4A4KSTTuKyyy5j6tSp7L777vz4xz+uXWbZsmU8/fTTXHXVVSu117jnnnvYeOONmTJlCscee2yD23/22We56qqrmDZtGnPmzOHvf/87H3/8Mcceeyy/+MUveO6553j44YfZZJNNuPjiizn22GPLrvfss8/mpJNOYurUqRx//PGcc845tfPeeustHn/8ce69997aXbXt27fnzjvvZPLkyYwbN45/+Zd/YX3fQdcqTpSQJEmrp3v37vTp0weA/v37U11dzYIFC3j//ffZf//9ARg+fDiPPvpo7TJf/epXV+q/JgYOHEjXrl3ZYIMN6NOnD9XV1bz00ktsu+227LHHHgB07NiRtm0bPuJrwoQJfOMb3wDgxBNP5PHHH6+dN2zYMDbYYAN222033n77bQBSSvzoRz+iqqqKAw88kDfeeKN23vqqxU+UkCRJq6/0mLc2bdrU7n6tZJk2bdqwbNmyRnpD27ZtWbFiBZCFqY8//rje7S9btoyUEmt6qdjS5Uu3UTMad9NNNzFv3jwmTZpEu3bt6NatG0uXLl2jba7rHKmTJKlgNt98czp16lR7vNyNN95YO2q3Orp168akSZMAuPvuu/nkk08a7L/LLrvw5ptv8swzzwCwcOFCli1bxmabbcbChQvLLrPXXnvxhz/8AcgC2z777NPgNhYsWMDWW29Nu3btGDduHK+++uqqvqzCcaROkqQm0pKXIKnrhhtu4IwzzmDx4sX06NGD3/3ud6u9rtNOO40jjjiCgQMHMnToUDbZZJMG+2+44YbccsstfOc732HJkiVsvPHGPPzwwwwZMoRLL72UPn36cMEFF6y0zKhRozjllFO4/PLL6dKlS6P1Hn/88XzlK19hwIAB9OnTh1122WW1X19RxPp+UOGAAQPSxIkTm2Rd/c8d2yTraUmTLj+ppUuQpHXG9OnT2XXXXVu6DBVUuc9XRExKKQ0o19/dr5IkSQVgqJMkSSoAQ50kSVIBGOokSZIKwFAnSZJUAIY6SZKkAvA6dZIkNZG9f7l3k67v79/5e6N9Ro0axTXXXEO/fv246aabmmS71dXVPPHEE7W37Zo4cSJjx45l1KhRTbL+Gt26dWPixIl07ty5Sddbn8GDB3PFFVcwYEDZK4KsFW+++SbnnHMOt99+e5Ov21AnSdI67Oqrr+a+++6je/fuTbbO6upqbr755tpQN2DAgBYNQi1t2bJljd67tlLbbbdd2UDXFNtw96skSeuoM844gzlz5nD44Ydz5ZVXMnLkSK644ora+b169aK6uprq6mp23XVXTjvtNHr27MlBBx1Ue4/YWbNmceCBB9K7d2/69evH7NmzOf/883nsscfo06cPV155JePHj+ewww4D4L333mPYsGFUVVUxaNAgpk6dCsDIkSM55ZRTGDx4MD169FhpVG/YsGH079+fnj17cu211zb6ujbddFP+7d/+jd69ezNo0CDefvttAObNm8dRRx3FHnvswR577MHf/56NZC5atIhTTjmFPfbYg759+3L33XcDsGTJEo477jiqqqo49thja1/z8uXLGTFiBL169WL33Xfnyiuv/FQNI0aM4Ac/+AFDhgzhvPPOY/bs2RxyyCH079+ffffdlxkzZtT2O+OMM9h3333ZaaeduPfee4EsGO+7777069ePfv368cQTT9S29+rVC4AxY8ZwzDHH8JWvfIWDDjqoou95QxypkyRpHTV69Gjuv/9+xo0bR+fOnRk5cmS9fWfOnMnvf/97rrvuOr72ta9xxx13cMIJJ3D88cdz/vnnc+SRR7J06VJWrFjBpZdeyhVXXFEbUMaPH1+7nosuuoi+ffty11138cgjj3DSSScxZcoUAGbMmMG4ceNYuHAhO++8M2eeeSbt2rXj+uuvZ8stt2TJkiXsscceHHXUUWy11Vb11rpo0SIGDRrEJZdcwg9/+EOuu+46/v3f/53vfve7fP/732efffbhtdde4+CDD2b69OlccsklHHDAAVx//fW8//77DBw4kAMPPJDf/OY3dOjQgalTpzJ16lT69esHwJQpU3jjjTd44YUXAHj//ffL1vHyyy/z8MMP06ZNG4YOHcro0aPZcccdeeqpp/j2t7/NI488AmRB7W9/+xuzZ89myJAhzJo1i6233pqHHnqI9u3bM3PmTL7+9a9T7g5WEyZMYOrUqWy55Zb1vh+VMtRJkrQe6N69O3369AGgf//+VFdXs3DhQt544w2OPPJIANq3b9/oeh5//HHuuOMOAA444ADmz5/PggULADj00EPZaKON2Gijjdh66615++236dq1K6NGjeLOO+8E4PXXX2fmzJkNhroNN9ywdmSwf//+PPTQQwA8/PDDTJs2rbbfBx98wMKFC3nwwQe55557akcply5dymuvvcajjz7KOeecA0BVVRVVVVUA9OjRgzlz5vCd73yHQw89tN5RsmOOOYY2bdrw4Ycf8sQTT3DMMcfUzvvoo49qp7/2ta+xwQYbsOOOO9KjRw9mzJhB9+7dOfvss5kyZQpt2rTh5ZdfLruNL37xi00S6MBQJ0lSYbRt25YVK1bUPl+6dGnt9EYbbVQ73aZNG5YsWcLq3P+93DIRUXYby5YtY/z48Tz88MNMmDCBDh06MHjw4JXqKqddu3a166xZD8CKFSuYMGECG2+88adquuOOO9h5553rra1Up06deO6553jggQf49a9/za233sr111//qX6bbLJJ7Xa32GKL2hHJxrYREVx55ZVss802PPfcc6xYsaLewFyzjabgMXWSJBVEt27dmDx5MgCTJ0/mlVdeabB/x44d6dq1K3fddReQjT4tXryYzTbbjIULF5ZdZr/99qs9y3b8+PF07tyZjh071ruNBQsW0KlTJzp06MCMGTN48sknV+OVZQ466CB+9atf1T6vCVkHH3wwv/zlL2sD57PPPvupWl944YXa4//effddVqxYwVFHHcVPfvKT2vesPh07dqR79+7cdtttQBYin3vuudr5t912GytWrGD27NnMmTOHnXfemQULFrDtttuywQYbcOONN7J8+fLVft2VcqROkqQmUsklSJrTUUcdxdixY+nTpw977LEHO+20U6PL3HjjjXzrW9/iwgsvpF27dtx2221UVVXRtm1bevfuzYgRI+jbt29t/5EjR3LyySdTVVVFhw4duOGGGxpc/yGHHMLo0aOpqqpi5513ZtCgQav9+kaNGsVZZ51FVVUVy5YtY7/99mP06NH8x3/8B9/73veoqqoipUS3bt249957OfPMM2tr7dOnDwMHDgTgjTfe4OSTT64d1fyv//qvRrd90003ceaZZ/Kf//mffPLJJxx33HH07t0bgJ133pn999+ft99+m9GjR9O+fXu+/e1vc9RRR3HbbbcxZMiQJh2Rq0+sztBrkQwYMCCVO3BxdfQ/d2yTrKclTbr8pJYuQZLWGdOnT2fXXXdt6TLUgkaMGMFhhx3G0Ucf3eTrLvf5iohJKaWy15dx96skSVIBuPtVkiRpNY0ZM6alS6jlSJ0kSWtgfT+MSc1jdT5XhjpJklZT+/btmT9/vsFOTSqlxPz58yu6bmApd79KkrSaunbtyty5c5k3b15Ll6KCad++PV27dl2lZQx1kiStpnbt2tG9e/eWLkMC3P0qSZJUCIY6SZKkAjDUSZIkFYChTpIkqQAMdZIkSQVgqJMkSSoAQ50kSVIBGOokSZIKwFAnSZJUAIY6SZKkAjDUSZIkFYChTpIkqQAMdZIkSQVgqJMkSSoAQ50kSVIBGOokSZIKwFAnSZJUAIY6SZKkAjDUSZIkFYChTpIkqQAMdZIkSQVgqJMkSSoAQ50kSVIBGOokSZIKwFAnSZJUAIY6SZKkAjDUSZIkFYChTpIkqQAMdZIkSQVgqJMkSSoAQ50kSVIBrLVQFxHXR8Q7EfFCSduWEfFQRMzMv3YqmXdBRMyKiJci4uCS9v4R8Xw+b1RERN6+UUTckrc/FRHd1tZrkyRJamlrc6RuDHBInbbzgb+mlHYE/po/JyJ2A44DeubLXB0RbfJlrgFOB3bMHzXrPBX4R0rp88CVwGXN9kokSZJambUW6lJKjwLv1Wk+Arghn74BGFbS/oeU0kcppVeAWcDAiNgW6JhSmpBSSsDYOsvUrOt2YGjNKJ4kSVLRtfQxdduklN4CyL9unbdvD7xe0m9u3rZ9Pl23faVlUkrLgAXAVuU2GhGnR8TEiJg4b968JnopkiRJLaelQ119yo2wpQbaG1rm040pXZtSGpBSGtClS5fVLFGSJKn1aOlQ93a+S5X86zt5+1xgh5J+XYE38/auZdpXWiYi2gKb8+ndvZIkSYXU0qHuHmB4Pj0cuLuk/bj8jNbuZCdEPJ3vol0YEYPy4+VOqrNMzbqOBh7Jj7uTJEkqvLZra0MR8XtgMNA5IuYCFwGXArdGxKnAa8AxACmlFyPiVmAasAw4K6W0PF/VmWRn0m4M3Jc/AP4HuDEiZpGN0B23Fl6WJElSq7DWQl1K6ev1zBpaT/9LgEvKtE8EepVpX0oeCiVJktY3Lb37VZIkSU3AUCdJklQAhjpJkqQCMNRJkiQVgKFOkiSpAAx1kiRJBWCokyRJKgBDnSRJUgEY6iRJkgrAUCdJklQAhjpJkqQCMNRJkiQVgKFOkiSpAAx1kiRJBWCokyRJKgBDnSRJUgEY6iRJkgrAUCdJklQAhjpJkqQCMNRJkiQVgKFOkiSpAAx1kiRJBWCokyRJKgBDnSRJUgEY6iRJkgrAUCdJklQAhjpJkqQCMNRJkiQVgKFOkiSpAAx1kiRJBWCokyRJKgBDnSRJUgEY6iRJkgrAUCdJklQAhjpJkqQCMNRJkiQVgKFOkiSpAAx1kiRJBWCokyRJKgBDnSRJUgEY6iRJkgrAUCdJklQAhjpJkqQCMNRJkiQVgKFOkiSpAAx1kiRJBWCokyRJKgBDnSRJUgEY6iRJkgrAUCdJklQAqx3qIuLzEdG+KYuRJEnS6qko1EXETyNieD4dEfEQ8DLwVkTs2ZwFSpIkqXGVjtQdD7yUT38J6AMMAsYClzZ9WZIkSVoVbSvstw0wN5/+MnBrSunpiHgPmNgslUmSJKlilY7UzQc+m08fBDyST7cFoqmLkiRJ0qqpdKTuDuDmiHgZ2BK4P2/vA8xqhrokSZK0CioNdT8AXgU+A/wwpbQob98WuKY5CpMkSVLlKtr9mlJallL675TSd1NKz5a0X5lS+u2aFhER34+IFyPihYj4fUS0j4gtI+KhiJiZf+1U0v+CiJgVES9FxMEl7f0j4vl83qiIcNewJElaL9Q7UhcR/SpdSUpp8uoWEBHbA+cAu6WUlkTErcBxwG7AX1NKl0bE+cD5wHkRsVs+vyewHfBwROyUUlpONmp4OvAk8BfgEOC+1a1NkiRpXdHQ7teJQKLxEyES0KYJ6tg4Ij4BOgBvAhcAg/P5NwDjgfOAI4A/pJQ+Al6JiFnAwIioBjqmlCYARMRYYBiGOkmStB5oKNR1XxsFpJTeiIgrgNeAJcCDKaUHI2KblNJbeZ+3ImLrfJHtyUbiaszN2z7hn5ddKW3/lIg4nWxEj8985jNN+XIkSZJaRL2hLqX06tooID9W7giyEPk+cFtEnNDQImXa6htRTOVWkFK6FrgWYMCAAWX7SJIkrUta/Jg64EDglZTSvHy7fwT2At6OiG3zUbptgXfy/nOBHUqW70q2u3ZuPl23XZIkqfBawzF1rwGDIqID2e7Xofm2FwHDyW5DNhy4O+9/D9k1835OdqLEjsDTKaXlEbEwIgYBTwEnAb9cg7okSZLWGa3hmLqnIuJ2YDKwDHiWbNfopsCtEXEqWfA7Ju//Yn6G7LS8/1n5ma8AZwJjgI3JTpDwJAlJkrReaPFj6vJtXQRcVKf5I7JRu3L9LwEuKdM+EejV5AVKkiS1cpXe+5WI2D0ifhUR9+XHuBERwyKib/OVJ0mSpEpUFOoi4iDgGbJLhBxAtnsT4HN8eoRNkiRJa1mlI3U/AX6QUjoS+LikfTwwsKmLkiRJ0qqpNNT1JLvtVl3vAVs2XTmSJElaHZWGun9Q/u4M/Vj5Lg6SJElqAZWGupuByyOiK9l16dpGxP7AFcDY5ipOkiRJlak01P078ArwKtn146YBjwCPU+bSIpIkSVq7Grr4MBHRLaVUnVL6BDg+Ii4E+pKFwWdTSjPXRpGSJElqWIOhDpgTEa+Sjco9AoxLKd3e/GVJkiRpVTQW6g4G9geGACcCbSJiJjCOLOSNTynNa94SJUmS1JgGQ11K6SHgIYCI2ATYlyzg7Q98E9ggIl5IKfVu7kIlSZJUv8ZG6mqllBYB90fEg8AewBHAWXivVUmSpBbXaKiLiCC7Ht2Q/LEPsBD4G/BDsrtKSJIkqQU1dvbr3cB+ZCHuUeAu4Hue9SpJktS6NDZS9xXgNeAGshG5J1JKHzV3UZIkSVo1jYW6Hfjnbtf/AbaNiKfJAt54DHmSJEmtQoN3lEgpvZFS+t+U0qkppR7ArsDvgM8CY4D3I2J8s1cpSZKkBlV89itASqk6Ih4BVuRNR5Jd5kSSJEktqJKzX7fjn7tghwDdgI+BCcAVZBciliRJUgtq7OzXl4HPAcuAp4GbyEKcx9JJkiS1Io2N1N1Bdjuwx1NKS9ZCPZIkSVoNjd0m7IK1VYgkSZJWX4Nnv0qSJGndYKiTJEkqAEOdJElSAdQb6iLi+ojYLJ/eLyJW6Zp2kiRJWnsaGqk7Adgknx4HbNn85UiSJGl1NDT6Vg18JyIeBAL4QkT8o1zHlNKjzVCbJEmSKtRQqDsXuA64AEjAnfX0S0CbJq5LkiRJq6DeUJdSuhu4OyK2AN4DegLvrKW6JEmStAoaPfkhpfR+RAwBZqaUlq2FmiRJkrSKKjqjNaX0t4jYKCJOAnYj2+U6DbjZe8BKkiS1vIquUxcRuwEvAz8H9gQGAVcCL0fErs1XniRJkipR6cWHfwFMAT6TUto3pbQv8BngOeCq5ilNkiRJlar0gsJ7A3uklD6oaUgpfRAR/wY82SyVSZIkqWKVjtQtBbYo0755Pk+SJEktqNJQ9yfguojYOyLa5I99gN8A9zRfeZIkSapEpaHuu8BM4DGykbmlwN/ITp74XrNUJkmSpIpVekmT94EjIuLzwK5ktw2bllKa1Yy1SZIkqUKVnigBQB7iDHKSJEmtTKW7XyVJktSKGeokSZIKwFAnSZJUAI2GuohoGxHfjojt1kZBkiRJWnWNhrqU0jLgcqBd85cjSZKk1VHp7tcngX7NWYgkSZJWX6WXNLkO+O+I+CwwCVhUOjOlNLmpC5MkSVLlKg11N+dff15mXgLaNE05kiRJWh2VhrruzVqFJEmS1kiltwl7tbkLkSRJ0uqr+Dp1EfGliLg3IqZFxA552zcjYmjzlSdJkqRKVBTqIuJ44FZgJtmu2JrLm7QBftg8pUmSJKlSlY7U/RA4LaX0fWBZSfuTQJ+mLkqSJEmrptJQtyMwoUz7h0DHpitHkiRJq6PSUPcmsFOZ9v2A2U1XjiRJklZHpaHuWmBUROydP98hIoYDPwOuaZbKJEmSVLFKL2nys4jYHHgIaA+MAz4Crkgp/boZ65MkSVIFKr6kSUrp34DOwEBgENAlpfQfTVFERGwREbdHxIyImB4RX4iILSPioYiYmX/tVNL/goiYFREvRcTBJe39I+L5fN6oiIimqE+SJKm1qzjU5RKwFFgMLG/COn4B3J9S2gXoDUwHzgf+mlLaEfhr/pyI2A04DugJHAJcHRE1tym7Bjid7MSOHfP5kiRJhVfpdeo2ioirgPeA54CpwHsR8YuIaL8mBURER7ITLv4HIKX0cUrpfeAI4Ia82w3AsHz6COAPKaWPUkqvALOAgRGxLdAxpTQhpZSAsSXLSJIkFVqlI3XXAEcD3yQbAft8Pn0kcPUa1tADmAf8LiKejYjfRsQmwDYppbcA8q9b5/23B14vWX5u3rZ9Pl23/VMi4vSImBgRE+fNm7eG5UuSJLW8SkPdMcDJKaWbUkpz8sdNwKlkYW9NtAX6AdeklPoCi8h3tdaj3HFyqYH2TzemdG1KaUBKaUCXLl1WtV5JkqRWp9JQtwh4o0z7G8CSNaxhLjA3pfRU/vx2spD3dr5LlfzrOyX9dyhZvivZdfTm5tN12yVJkgqv0lD3S+CiiNi4piGf/o983mpLKf0f8HpE7Jw3DQWmAfcAw/O24cDd+fQ9wHH5cX7dyXYHP53vol0YEYPys15PKllGkiSp0Oq9Tl1E3FOnaTDwRkRMzZ/vni+/SRPU8R3gpojYEJgDnEwWOG+NiFOB18h2AZNSejEibiULfsuAs1JKNWfingmMATYG7ssfkiRJhdfQxYfn13l+R53nrzRVESmlKcCAMrOG1tP/EuCSMu0TgV5NVZckSdK6ot5Ql1I6eW0WIkmSpNW3qhcfliRJUitU0b1f81t0jQSGkF0vbqUwmFLausxikiRJWksqCnVkd2foSXZnh7ep5/pvkiRJahmVhrrBwP4ppcnNWIskSZJWU6XH1M1ehb6SJElayyoNat8F/isiekdEm+YsSJIkSauu0t2vs8gu6DsZILthwz+llAx6kiRJLajSUPd7YHPgHDxRQpIkqdWpNNQNAAamlF5ozmIkSZK0eio9pm4a0LE5C5EkSdLqqzTU/Tvw84g4MCK2iYgtSx/NWaAkSZIaV+nu17/kXx9k5ePpIn/uiRKSJEktqNJQN6RZq5AkSdIaqSjUpZT+1tyFSJIkafVVFOoiol9D8719mCRJUsuqdPfrRLJj50qvOlx6bJ3H1EmSJLWgSkNd9zrP2wF9gX8DLmjSiiRJkrTKKj2m7tUyzbMiYgFwEXBfk1YlSZKkVVLpderq8wrQpwnqkCRJ0hqo9ESJuhcYDmBbYCTwUhPXJEmSpFVU6TF177LyiRGQBbvXgWObtCJJkiStstW9+PAKYB4wK6W0rGlLkiRJ0qry4sOSJEkF0GCoK3MsXVkppfeaphxJkiStjsZG6sodS1dXqmA9kiRJakaNhbG6x9KVOgT4LuAxdZIkSS2swVBX7li6/D6wlwH7Ab8BftI8pUmSJKlSFV98OCK6R8TNwFPAe8BuKaVzUkrzmq06SZIkVaTRUBcRW0XEL4AZwP8DvpBSOjalNLvZq5MkSVJFGgx1EfEjYDawP3BESumAlNLEtVKZJEmSKtbYiRL/CSwB5gLfjohvl+uUUjq8qQuTJElS5RoLdWNp/JImkiRJamGNnf06Yi3VIUmSpDVQ8dmvkiRJar0MdZIkSQVgqJMkSSoAQ50kSVIBGOokSZIKwFAnSZJUAIY6SZKkAjDUSZIkFYChTpIkqQAMdZIkSQVgqJMkSSoAQ50kSVIBGOokSZIKwFAnSZJUAIY6SZKkAjDUSZIkFYChTpIkqQAMdZIkSQVgqJMkSSoAQ50kSVIBGOokSZIKwFAnSZJUAIY6SZKkAmg1oS4i2kTEsxFxb/58y4h4KCJm5l87lfS9ICJmRcRLEXFwSXv/iHg+nzcqIqIlXoskSdLa1mpCHfBdYHrJ8/OBv6aUdgT+mj8nInYDjgN6AocAV0dEm3yZa4DTgR3zxyFrp3RJkqSW1SpCXUR0BQ4FflvSfARwQz59AzCspP0PKaWPUkqvALOAgRGxLdAxpTQhpZSAsSXLSJIkFVqrCHXAVcAPgRUlbduklN4CyL9unbdvD7xe0m9u3rZ9Pl23/VMi4vSImBgRE+fNm9ckL0CSJKkltXioi4jDgHdSSpMqXaRMW2qg/dONKV2bUhqQUhrQpUuXCjcrSZLUerVt6QKAvYHDI+LLQHugY0T8L/B2RGybUnor37X6Tt5/LrBDyfJdgTfz9q5l2iVpJa9dvHtLl9AkPnPh8y1dgqRWpMVH6lJKF6SUuqaUupGdAPFISukE4B5geN5tOHB3Pn0PcFxEbBQR3clOiHg630W7MCIG5We9nlSyjCRJUqG1hpG6+lwK3BoRpwKvAccApJRejIhbgWnAMuCslNLyfJkzgTHAxsB9+UOSJKnwWlWoSymNB8bn0/OBofX0uwS4pEz7RKBX81UoSZLUOrX47ldJkiStOUOdJElSARjqJEmSCsBQJ0mSVACGOkmSpAIw1EmSJBWAoU6SJKkADHWSJEkFYKiTJEkqAEOdJElSARjqJEmSCsBQJ0mSVACGOkmSpAIw1EmSJBWAoU6SJKkADHWSJEkFYKiTJEkqAEOdJElSARjqJEmSCsBQJ0mSVACGOkmSpAIw1EmSJBWAoU6SJKkADHWSJEkFYKiTJEkqAEOdJElSARjqJEmSCsBQJ0mSVACGOkmSpAIw1EmSJBWAoU6SJKkADHWSJEkFYKiTJEkqAEOdJElSARjqJEmSCsBQJ0mSVACGOkmSpAIw1EmSJBWAoU6SJKkADHWSJEkFYKiTJEkqAEOdJElSARjqJEmSCsBQJ0mSVACGOkmSpAIw1EmSJBWAoU6SJKkADHWSJEkFYKiTJEkqAEOdJElSARjqJEmSCsBQJ0mSVACGOkmSpAIw1EmSJBWAoU6SJKkADHWSJEkFYKiTJEkqgBYPdRGxQ0SMi4jpEfFiRHw3b98yIh6KiJn5104ly1wQEbMi4qWIOLikvX9EPJ/PGxUR0RKvSZIkaW1r8VAHLAP+JaW0KzAIOCsidgPOB/6aUtoR+Gv+nHzecUBP4BDg6ohok6/rGuB0YMf8ccjafCGSJEktpcVDXUrprZTS5Hx6ITAd2B44Argh73YDMCyfPgL4Q0rpo5TSK8AsYGBEbAt0TClNSCklYGzJMpIkSYXW4qGuVER0A/oCTwHbpJTegiz4AVvn3bYHXi9ZbG7etn0+Xbe93HZOj4iJETFx3rx5TfoaJEmSWkKrCXURsSlwB/C9lNIHDXUt05YaaP90Y0rXppQGpJQGdOnSZdWLlSRJamVaRaiLiHZkge6mlNIf8+a3812q5F/fydvnAjuULN4VeDNv71qmXZIkqfBaPNTlZ6j+DzA9pfTzkln3AMPz6eHA3SXtx0XERhHRneyEiKfzXbQLI2JQvs6TSpaRJEkqtLYtXQCwN3Ai8HxETMnbfgRcCtwaEacCrwHHAKSUXoyIW4FpZGfOnpVSWp4vdyYwBtgYuC9/SJIkFV6Lh7qU0uOUPx4OYGg9y1wCXFKmfSLQq+mqkyRJWje0+O5XSZIkrTlDnSRJUgEY6iRJkgrAUCdJklQAhjpJkqQCMNRJkiQVgKFOkiSpAAx1kiRJBWCokyRJKgBDnSRJUgEY6iRJkgrAUCdJklQAhjpJkqQCMNRJkiQVgKFOkiSpAAx1kiRJBWCokyRJKgBDnSRJUgG0bekCJEmS6rP3L/du6RLW2N+/8/e1sh1H6iRJkgrAUCdJklQAhjpJkqQCMNRJkiQVgKFOkiSpAAx1kiRJBWCokyRJKgBDnSRJUgEY6iRJkgrAUCdJklQAhjpJkqQCMNRJkiQVgKFOkiSpAAx1kiRJBWCokyRJKgBDnSRJUgEY6iRJkgrAUCdJklQAhjpJkqQCMNRJkiQVgKFOkiSpAAx1kiRJBWCokyRJKgBDnSRJUgEY6iRJkgrAUCdJklQAhjpJkqQCMNRJkiQVgKFOkiSpAAx1kiRJBWCokyRJKgBDnSRJUgEY6iRJkgrAUCdJklQAhjpJkqQCMNRJkiQVgKFOkiSpAAx1kiRJBVC4UBcRh0TESxExKyLOb+l6JEmS1oZChbqIaAP8GvgSsBvw9YjYrWWrkiRJan6FCnXAQGBWSmlOSulj4A/AES1ckyRJUrOLlFJL19BkIuJo4JCU0jfz5ycCe6aUzq7T73Tg9PzpzsBLa7VQdQbebekipGbm51zrAz/na99nU0pdys1ou7YraWZRpu1TqTWldC1wbfOXo3IiYmJKaUBL1yE1Jz/nWh/4OW9dirb7dS6wQ8nzrsCbLVSLJEnSWlO0UPcMsGNEdI+IDYHjgHtauCZJkqRmV6jdrymlZRFxNvAA0Aa4PqX0YguXpU9z17fWB37OtT7wc96KFOpECUmSpPVV0Xa/SpIkrZcMdZIkSQVgqNOnRMQ5ETE9Im5qovV1i4hvlDwfEBGjmmLddbZTHRGdm3q9UkRcHhEvRsTlTbjOPhHx5ZLnhzfHrQ0j4sOmXqcq09S/S/N1FvL3aUSMj4gWvTRKRGwXEbe3ZA1rymPq9CkRMQP4UkrplSZa32DgX1NKhzXF+hrYTjUwIKXkhTDVpCLiA6BLSumjJlznCLLP69mN9V3D7XyYUtq0Obeh8pr6d2m+zsEU8PdpRIwne10TV3G5timlZc1T1drbRlNxpE4riYjRQA/gnohYEBH/WjLvhfy/xG75f5/X5aMXD0bExnmfz0fEwxHxXERMjojPAZcC+0bElIj4fkQMjoh78/5bRsRdETE1Ip6MiKq8fWREXJ//9zYnIs4pqeOuiJiUb/t0JGpHMOr7XPbJP19TI+LOiOiUt4+PiMsi4umIeDki9i2z3nuATYCnIuLYiBiT372mZv6H+dfB+fpuj4gZEXFTREQ+b4+IeCL/uXg6IjYHLgaOzX8ujo2IERHxq7z/ZyPir3m9f42Iz+TtYyJiVL6uOTV1RMSmeb/JEfF8RHh7xBZW53fp9/Pfaev879OI+DAiLslrejIitsnbu0TEHRHxTP7YO2/fJN/2MxHxbM1nMyI2jog/5LXeAtS85jb55/yF/LP8/TI1jImIn0fEOOCyiPhcRNyfv47HImKXkn6j87aXI+KwvL1b3jY5f+xV0v5CPj0iIm6LiD8BD67SN78lpZR8+FjpAVST3fplJNl/TjXtLwDd8scyoE/efitwQj79FHBkPt0e6AAMBu4tWU/tc+CXwEX59AHAlHx6JPAEsFFey3ygXT5vy/zrxnlNW5XW3dLvn48W+9w29LmcCuyfT18MXJVPjwf+O5/+MvBwPev+sGR6DHB03Xn553oB2UXPNwAmAPsAGwJzgD3yfh3JLic1AvhVyXpqnwN/Aobn06cAd5Vs+7Z8/buR3euafH0d8+nOwCz+uSfmw/reMx/N/pms/Z1UlN+nZHdp+ko+/TPg3/Ppm4F98unPANPz6Z+WvJ4tgJfJ/kn6AdllxwCq8vdgANAfeKhke1uUqWEMcC/QJn/+V2DHfHpP4JGSfvfnPy87kt2goOZ9bJ/32RGYmE93A17Ip0fk/bds6c/RqjwKdZ06rVWvpJSm5NOTgG4RsRmwfUrpToCU0lKAfLCiPvsAR+X9H4mIrfJRDIA/p2x310cR8Q6wDdkP2TkRcWTeZweyH8r5TfbKtC4r97ncnOwPw9/y9hvIglGNP5b2X8PtP51SmgsQEVPy9S0A3kopPQOQUvogn9/Qer4AfDWfvpHsj2eNu1JKK4BpNaMkZLdI/GlE7AesALYn+3n5vzV8PVo71qXfpx+TBaqaWr+YTx8I7FZSX8f8NRwEHF4yStmeLPTtB4zKa50aEVPz+XOAHhHxS+DP1D9KdltKaXlEbArsBdxWsu2NSvrdmv+8zIyIOcAuwCvAryKiD7Ac2KmebTyUUnqv3neiFTLUqSHLWHkXffuS6dJji5aT/ZfX4G+bejR0v96622gb2fEkBwJfSCktjuw4jPZImXKfy0qXWU5lvxNrfy4i+yuyYQPbb0v2GV/Tg5dLly/dRs3Pz/FAF6B/SumTyI6H8ueidSnK79NPUj6Uxco/Mxvk61myUkHZz8hRKaWX6rSX1vbPYlP6R0T0Bg4GzgK+RjZaXdeiku2+n1LqU0+9dbeRgO8DbwO98+WX1rPsonraWy2PqVNDqoF+ABHRD+jeUOd8BGJuRAzLl9koIjoAC4HN6lnsUbI/SDUHAL9bM5JRj82Bf+S/gHYBBlX4WrSeSiktAP4R/zxe7kTgbw0s0phqsl1EAEcA7RrpPwPYLiL2AIiIzSKiLQ3/XDxBdptDyH4+Hm9kG5sD7+SBbgjw2Ub6a+2rpti/Tx8Eak/6yUfBILvD03fycEdE9C1Tay+yXbBEdsbtBimlO4D/IH/P6pO/vlci4ph8+chDYY1jImKDyI5H7AG8RPa638pH8E4kuwNVIRjq1JA7gC3z3Uhnkh0L0ZgTyYbzp5L9Yfp/ZMczLcsPrK170OtIYEDe/1JgeCPrv5/sP8ypwE+AJyt8LVq/DQcuzz83fciOq1td1wH7R8TTZMfvNPjffErpY+BY4JcR8RzwENloyDiy3VVTIuLYOoudA5yc13si8N1GarqJ7OdoItkfyhmr+JrU/Ir++/Scmm1HxDTgjLz9J2T/+EzNT0L4Sd5+DbBpvu0fAk/n7dsD4/P3aQxwQQXbPh44Nf/5epHsn60aL5H9E3cfcEa+G/tqYHhEPEm263WdG5Grj5c0kSRJhRMRY8hOIlmnrz23KhypkyRJKgBH6iRJkgrAkTpJkqQCMNRJkiQVgKFOkiSpAAx1kiRJBWCok7ROy2+8/eFqLDc4IlJ+sVNJWucZ6iSpFYuItjVX45ekhhjqJK0TImK/iHgyIj6MiAUR8VREnA38DtgkH3VLETEy739CRDwTEQsj4p2IuC0its/ndSO7owPAvHy5Mfm88RHxqzrbHhMR95Y8L1dLrwpfxykR8VpELI6IP0XEtyMilcwfGREv5COQs8nu2blJRHwmIu7MX8/CiPhjRHStu1ydba00ilmy7m/mNSyJiLscrZSKwVAnqdXL75V6N9k9UHuT3Z7rF8BjwPeAxcC2+eOKfLENgYvy/ocBnYHf5/NeB47Kp3vmyzV2K67GallewbJfAH4L/JrsdmX3AD8u07U78A3gmHwbHwF3AdsABwBDgO2Au1ZjFK8bcALZrZQOBHYErl/FdUhqhdq2dAGSVIGOwBbAn1JKs/O2GVB7g/CUUvq/0gVSSqVBZU5EnAlMj4iuKaW5EfFePu+dlNK7TVFLBc4BHkwpXZY/fzki9gBOq9NvQ+DElNLbABHxRbJw97mUUnXe9g1gFjAUeHgV6t8YOCml9Fq+nm8Bj0XEjimlmauwHkmtjCN1klq9lNJ7ZDf3fiAi/hwRP4iIHRpaJiL6RcTdEfFqRCwEJuazPrO2aymxC/+8cXmNp8r0m1sT6HK7Am/WBLq8jjnAm8Buldaee6Mm0JVsf0W+DUnrMEOdpHVCSulksl2djwKHk41yHVyub0RsAjxAtlv2RGAP4JB89oaNbGoFUHeXZrvVraVuaUAl92ZctArL1bQ3WrekYjPUSVpnpJSeSyldllIaDIwHhgMfA23qdN2F7Bi6H6WUHk0pzQC2rtPn4/xr3WXnkR1jV6p3hbU0ZjowsE5b3eflTAO2z0/wACAiepAdVzetpO5t6hxj16fMuravM7I4kOxvwfQK6pDUihnqJLV6EdE9Ii6NiL0i4rMRMQSoIgs01UD7iPhiRHSOiA7Aa2QnF5wdET0i4lDgJ3VW+yrZKNehEdElIjbN2x8BvhQRh0fEzhHxc6A2BDVSS2NGAQdFxLkRsWNEnAocWcFyDwPPATdFRP+IGADcBEzO64UsWG4J/CgiPpev++gy61oC3BARffITN0YDf/Z4OmndZ6iTtC5YDOwE3Aa8DNxAFmouSyk9QRZMfk82WvXDlNI8spGzYWRh6yLgB6UrTCm9kbdfArwN1FzG5PqSx9+BD4E7K6mlsReRUppAdlLEOcDUvL7LgKWNLJfyvvPIwts44P+AYfk8UkrTgTOB0/N1fxH4aZnVVQN/AP5EFgjnACc3Vruk1i/y3weSpBYQEVcCB6aUdl8L2xoJHJ1SquiaepLWLV7SRJLWoog4F3iIbATwQOAM4EctWpSkQnD3qyQ1kYi4L7/LRLlHTXAbQHZm7gtkFzy+ALiqhUqWVCDufpWkJpLfhmzjema/l1/jTpKahaFOkiSpANz9KkmSVACGOkmSpAIw1EmSJBWAoU6SJKkA/j/DXaS4s4bdKgAAAABJRU5ErkJggg==\n",
=======
      "image/png": "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",
>>>>>>> 4a1cd2f3e0aeaa472c235472558930642a2ef582
>>>>>>> Stashed changes
      "text/plain": [
       "<Figure size 720x576 with 1 Axes>"
      ]
     },
     "metadata": {
      "needs_background": "light"
     },
     "output_type": "display_data"
    }
   ],
   "source": [
    "fig, ax = plt.subplots(figsize = (10,8))\n",
    "ax = sns.countplot(x='quantity_group', hue=\"status_group\", data=df)\n",
    "\n",
    "# Title and axis labels\n",
    "fig.suptitle('pump status vs quanntity groups', fontsize=18)\n",
    "plt.xlabel(\"quantity group\", fontsize=14)\n",
    "plt.ylabel(\"Number of Wells\", fontsize=14)\n",
    "plt.show()"
   ]
  },
  {
   "cell_type": "markdown",
   "metadata": {},
   "source": [
    "From the above feature we realize that as quantity goes down from enough to unknown,the non-functionality of the water pumps increases"
   ]
  },
  {
   "cell_type": "code",
<<<<<<< Updated upstream
   "execution_count": 32,
=======
<<<<<<< HEAD
   "execution_count": 34,
=======
   "execution_count": 32,
>>>>>>> 4a1cd2f3e0aeaa472c235472558930642a2ef582
>>>>>>> Stashed changes
   "metadata": {},
   "outputs": [
    {
     "data": {
      "image/png": "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",
      "text/plain": [
       "<Figure size 720x576 with 1 Axes>"
      ]
     },
     "metadata": {
      "needs_background": "light"
     },
     "output_type": "display_data"
    }
   ],
   "source": [
    "fig, ax = plt.subplots(figsize = (10,8))\n",
    "ax = sns.countplot(x='management_group', hue=\"status_group\", data=df)\n",
    "\n",
    "# Title and axis labels\n",
    "fig.suptitle('pump status vs groups managing the wells', fontsize=18)\n",
    "plt.xlabel(\"management groups\", fontsize=14)\n",
    "plt.ylabel(\"Number of Wells\", fontsize=14)\n",
    "plt.show()"
   ]
  },
  {
   "cell_type": "code",
<<<<<<< Updated upstream
   "execution_count": 33,
=======
<<<<<<< HEAD
   "execution_count": 38,
=======
   "execution_count": 33,
>>>>>>> 4a1cd2f3e0aeaa472c235472558930642a2ef582
>>>>>>> Stashed changes
   "metadata": {},
   "outputs": [
    {
     "data": {
      "image/png": "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",
      "text/plain": [
       "<Figure size 360x360 with 1 Axes>"
      ]
     },
     "metadata": {
      "needs_background": "light"
     },
     "output_type": "display_data"
    }
   ],
   "source": [
    "\n",
    "ax = sns.relplot(y='population',x='status_group',data=df)\n",
    "\n",
    "# Title and axis labels\n",
    "fig.suptitle('population vs status relation plot', fontsize=18)\n",
    "plt.xlabel(\"status group\", fontsize=14)\n",
    "plt.ylabel(\"population density\", fontsize=14)\n",
    "plt.show()"
   ]
  },
  {
   "cell_type": "code",
<<<<<<< Updated upstream
   "execution_count": 34,
=======
<<<<<<< HEAD
   "execution_count": 39,
=======
   "execution_count": 34,
>>>>>>> 4a1cd2f3e0aeaa472c235472558930642a2ef582
>>>>>>> Stashed changes
   "metadata": {},
   "outputs": [
    {
     "data": {
      "image/png": "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",
      "text/plain": [
       "<Figure size 720x576 with 1 Axes>"
      ]
     },
     "metadata": {
      "needs_background": "light"
     },
     "output_type": "display_data"
    }
   ],
   "source": [
    "fig, ax = plt.subplots(figsize=(10,8))\n",
    "ax = sns.countplot(x='payment_type', hue=\"status_group\", palette='bright', data=df)\n",
    "\n",
    "# Title and axis labels\n",
    "fig.suptitle('pump status vs payment type at Wells', fontsize=18)\n",
    "plt.xlabel(\"Payment type\", fontsize=14)\n",
    "plt.ylabel(\"Number of Wells\", fontsize=14)\n",
    "plt.show()"
   ]
  },
  {
   "cell_type": "markdown",
   "metadata": {},
   "source": [
    "# 5.MODELING"
   ]
  },
  {
   "cell_type": "markdown",
   "metadata": {},
   "source": [
    "The first step for preprocessing data for modeling is to create dummies for our categorical columns and perform a train test split. It is very important to not perform any other preprocessing or scaling techniques before performing train test split to prevent data leakage. I employed sklearn’s pipeline feature in my models as an extra layer of protection for data leakage. For the purposes of this project, we will use precision of the functional well class as our main metric for model evaluation. I like to see all metrics so I used this function which returns a confusion matrix at the end.\n",
    "\n"
   ]
  },
  {
   "cell_type": "code",
<<<<<<< Updated upstream
   "execution_count": 35,
=======
<<<<<<< HEAD
   "execution_count": 40,
=======
   "execution_count": 35,
>>>>>>> 4a1cd2f3e0aeaa472c235472558930642a2ef582
>>>>>>> Stashed changes
   "metadata": {},
   "outputs": [
    {
     "name": "stdout",
     "output_type": "stream",
     "text": [
      "Collecting package metadata (current_repodata.json): ...working... done\n",
      "Solving environment: ...working... done\n",
      "\n",
      "# All requested packages already installed.\n",
      "\n",
      "\n",
      "Note: you may need to restart the kernel to use updated packages.\n"
     ]
    }
   ],
   "source": [
<<<<<<< Updated upstream
    "conda update scikit-learn"
=======
<<<<<<< HEAD
    "#conda update scikit-learn"
=======
    "conda update scikit-learn"
>>>>>>> 4a1cd2f3e0aeaa472c235472558930642a2ef582
>>>>>>> Stashed changes
   ]
  },
  {
   "cell_type": "code",
<<<<<<< Updated upstream
   "execution_count": 36,
=======
<<<<<<< HEAD
   "execution_count": 41,
=======
   "execution_count": 36,
   "metadata": {},
   "outputs": [],
   "source": [
    "ohe = OneHotEncoder(handle_unknown = 'ignore')\n",
    "from sklearn.preprocessing import OrdinalEncoder\n",
    "OE =OrdinalEncoder(handle_unknown='use_encoded_value', unknown_value=-1)"
   ]
  },
  {
   "cell_type": "code",
   "execution_count": 37,
>>>>>>> 4a1cd2f3e0aeaa472c235472558930642a2ef582
>>>>>>> Stashed changes
   "metadata": {},
   "outputs": [],
   "source": [
    "ohe = OneHotEncoder(handle_unknown = 'ignore')\n",
    "from sklearn.preprocessing import OrdinalEncoder\n",
    "OE =OrdinalEncoder(handle_unknown='use_encoded_value', unknown_value=-1)"
   ]
  },
  {
   "cell_type": "code",
<<<<<<< Updated upstream
   "execution_count": 37,
=======
<<<<<<< HEAD
   "execution_count": 42,
=======
   "execution_count": 38,
   "metadata": {},
   "outputs": [],
   "source": [
    "cat = ['funder','installer','basin','subvillage','region','scheme_management','extraction_type_class','management_group',\n",
    "      'payment_type','quality_group','quantity_group','source_type','waterpoint_type']\n",
    "num = ['amount_tsh','gps_height','longitude','latitude','population','construction_year']"
   ]
  },
  {
   "cell_type": "code",
   "execution_count": 66,
>>>>>>> 4a1cd2f3e0aeaa472c235472558930642a2ef582
>>>>>>> Stashed changes
   "metadata": {},
   "outputs": [
    {
     "name": "stdout",
     "output_type": "stream",
     "text": [
      "<class 'pandas.core.frame.DataFrame'>\n",
      "Int64Index: 17761 entries, 0 to 59396\n",
      "Data columns (total 20 columns):\n",
      " #   Column                 Non-Null Count  Dtype  \n",
      "---  ------                 --------------  -----  \n",
      " 0   amount_tsh             17761 non-null  float64\n",
      " 1   funder                 17761 non-null  object \n",
      " 2   gps_height             17761 non-null  int64  \n",
      " 3   installer              17761 non-null  object \n",
      " 4   longitude              17761 non-null  int32  \n",
      " 5   latitude               17761 non-null  float64\n",
      " 6   basin                  17761 non-null  object \n",
      " 7   subvillage             17761 non-null  object \n",
      " 8   region                 17761 non-null  object \n",
      " 9   population             17761 non-null  int64  \n",
      " 10  scheme_management      17761 non-null  object \n",
      " 11  construction_year      17761 non-null  int64  \n",
      " 12  extraction_type_class  17761 non-null  object \n",
      " 13  management_group       17761 non-null  object \n",
      " 14  payment_type           17761 non-null  object \n",
      " 15  quality_group          17761 non-null  object \n",
      " 16  quantity_group         17761 non-null  object \n",
      " 17  source_type            17761 non-null  object \n",
      " 18  waterpoint_type        17761 non-null  object \n",
      " 19  status_group           17761 non-null  object \n",
      "dtypes: float64(2), int32(1), int64(3), object(14)\n",
      "memory usage: 3.4+ MB\n"
     ]
    }
   ],
   "source": [
    "df.info()"
   ]
  },
  {
   "cell_type": "code",
<<<<<<< Updated upstream
   "execution_count": 38,
   "metadata": {},
   "outputs": [],
   "source": [
    "cat = ['funder','installer','basin','subvillage','region','scheme_management','extraction_type_class','management_group',\n",
    "      'payment_type','quality_group','quantity_group','source_type','waterpoint_type']\n",
    "num = ['amount_tsh','gps_height','longitude','latitude','population','construction_year']"
   ]
  },
  {
   "cell_type": "code",
   "execution_count": 66,
   "metadata": {},
   "outputs": [],
   "source": [
    "y = pd.Series(df['status_group'])\n",
    "X = df.drop('status_group',axis=1)\n"
   ]
  },
  {
   "cell_type": "code",
   "execution_count": 67,
=======
<<<<<<< HEAD
   "execution_count": 43,
=======
   "execution_count": 67,
>>>>>>> 4a1cd2f3e0aeaa472c235472558930642a2ef582
>>>>>>> Stashed changes
   "metadata": {},
   "outputs": [],
   "source": [
    "#Splitting our data into the training and the testing set\n",
    "X_train,X_test,y_train,y_test = train_test_split(X,y,test_size=0.3, random_state=42)"
   ]
  },
  {
   "cell_type": "code",
<<<<<<< Updated upstream
   "execution_count": 58,
   "metadata": {},
   "outputs": [],
   "source": [
    "#X_train = pd.get_dummies(X_train)\n",
    "#X_test =pd.get_dummies(X_test)"
   ]
  },
  {
   "cell_type": "code",
   "execution_count": 68,
=======
<<<<<<< HEAD
   "execution_count": 44,
>>>>>>> Stashed changes
   "metadata": {},
   "outputs": [],
   "source": [
    "X_train = ohe.fit_transform(X_train)\n",
    "X_test =ohe.transform(X_test)"
=======
   "execution_count": 58,
   "metadata": {},
   "outputs": [],
   "source": [
    "#X_train = pd.get_dummies(X_train)\n",
    "#X_test =pd.get_dummies(X_test)"
>>>>>>> 4a1cd2f3e0aeaa472c235472558930642a2ef582
   ]
  },
  {
   "cell_type": "code",
<<<<<<< Updated upstream
   "execution_count": 69,
=======
<<<<<<< HEAD
   "execution_count": 45,
=======
   "execution_count": 68,
>>>>>>> 4a1cd2f3e0aeaa472c235472558930642a2ef582
>>>>>>> Stashed changes
   "metadata": {},
   "outputs": [
    {
     "name": "stdout",
     "output_type": "stream",
     "text": [
      "(12432, 21743)\n",
      "(5329, 21743)\n"
     ]
    }
   ],
   "source": [
<<<<<<< Updated upstream
=======
<<<<<<< HEAD
    "#We check on the shape to ascertain that the columns for both train and test data is equal\n",
    "#for training purpose and also avoid the unknown value error\n",
    "\n",
>>>>>>> Stashed changes
    "print(X_train.shape)\n",
    "print(X_test.shape)"
   ]
  },
  {
   "cell_type": "code",
   "execution_count": null,
   "metadata": {},
<<<<<<< Updated upstream
   "outputs": [],
   "source": []
  },
  {
   "cell_type": "code",
   "execution_count": 70,
=======
   "source": [
    "Below we define a function that takes in arguments to give us the model scores together with the confusion matrix plot at a call"
=======
    "X_train = ohe.fit_transform(X_train)\n",
    "X_test =ohe.transform(X_test)"
   ]
  },
  {
   "cell_type": "code",
   "execution_count": 69,
   "metadata": {},
   "outputs": [
    {
     "name": "stdout",
     "output_type": "stream",
     "text": [
      "(12432, 21743)\n",
      "(5329, 21743)\n"
     ]
    }
   ],
   "source": [
    "print(X_train.shape)\n",
    "print(X_test.shape)"
>>>>>>> 4a1cd2f3e0aeaa472c235472558930642a2ef582
   ]
  },
  {
   "cell_type": "code",
<<<<<<< HEAD
   "execution_count": 46,
=======
   "execution_count": null,
   "metadata": {},
   "outputs": [],
   "source": []
  },
  {
   "cell_type": "code",
   "execution_count": 70,
>>>>>>> 4a1cd2f3e0aeaa472c235472558930642a2ef582
>>>>>>> Stashed changes
   "metadata": {},
   "outputs": [],
   "source": [
    "# function to track model metrics and plot confusion matrix\n",
    "def model_score(model, X, y_pred, y_true):\n",
    "    target_names= ['non func', 'func need repair', 'functional']\n",
    "    print(classification_report(y_true, y_pred, target_names=target_names))\n",
    "    \n",
    "    #Confusion matrix    \n",
    "    return plot_confusion_matrix(model, X, y_true, display_labels=target_names);"
<<<<<<< HEAD
=======
   ]
  },
  {
   "cell_type": "code",
   "execution_count": 71,
   "metadata": {},
   "outputs": [
    {
     "name": "stdout",
     "output_type": "stream",
     "text": [
      "(12432, 21743)\n",
      "(12432,)\n",
      "(5329, 21743)\n"
     ]
    }
   ],
   "source": [
    "print(X_train.shape)\n",
    "print(y_train.shape)\n",
    "print(X_test.shape)"
>>>>>>> 4a1cd2f3e0aeaa472c235472558930642a2ef582
   ]
  },
  {
   "cell_type": "code",
   "execution_count": 71,
   "metadata": {},
   "outputs": [
    {
     "name": "stdout",
     "output_type": "stream",
     "text": [
      "(12432, 21743)\n",
      "(12432,)\n",
      "(5329, 21743)\n"
     ]
    }
   ],
   "source": [
    "print(X_train.shape)\n",
    "print(y_train.shape)\n",
    "print(X_test.shape)"
   ]
  },
  {
   "cell_type": "markdown",
   "metadata": {},
   "source": [
    "## 5.1 Logistic Regression"
   ]
  },
  {
   "cell_type": "code",
<<<<<<< Updated upstream
   "execution_count": 72,
=======
<<<<<<< HEAD
   "execution_count": 47,
=======
   "execution_count": 72,
>>>>>>> 4a1cd2f3e0aeaa472c235472558930642a2ef582
>>>>>>> Stashed changes
   "metadata": {},
   "outputs": [
    {
     "name": "stdout",
     "output_type": "stream",
     "text": [
      "Test data model score:\n",
      "                  precision    recall  f1-score   support\n",
      "\n",
<<<<<<< Updated upstream
      "        non func       0.77      0.96      0.86      3725\n",
      "func need repair       0.47      0.15      0.22       408\n",
      "      functional       0.76      0.36      0.49      1196\n",
      "\n",
      "        accuracy                           0.76      5329\n",
      "       macro avg       0.67      0.49      0.52      5329\n",
      "    weighted avg       0.75      0.76      0.73      5329\n",
=======
<<<<<<< HEAD
      "        non func       0.78      0.96      0.86      3725\n",
      "func need repair       0.48      0.15      0.23       408\n",
      "      functional       0.79      0.41      0.54      1196\n",
      "\n",
      "        accuracy                           0.78      5329\n",
      "       macro avg       0.68      0.51      0.54      5329\n",
      "    weighted avg       0.76      0.78      0.74      5329\n",
=======
      "        non func       0.77      0.96      0.86      3725\n",
      "func need repair       0.47      0.15      0.22       408\n",
      "      functional       0.76      0.36      0.49      1196\n",
      "\n",
      "        accuracy                           0.76      5329\n",
      "       macro avg       0.67      0.49      0.52      5329\n",
      "    weighted avg       0.75      0.76      0.73      5329\n",
>>>>>>> 4a1cd2f3e0aeaa472c235472558930642a2ef582
>>>>>>> Stashed changes
      "\n"
     ]
    },
    {
     "data": {
<<<<<<< Updated upstream
      "image/png": "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\n",
=======
<<<<<<< HEAD
      "image/png": "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\n",
=======
      "image/png": "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",
>>>>>>> 4a1cd2f3e0aeaa472c235472558930642a2ef582
>>>>>>> Stashed changes
      "text/plain": [
       "<Figure size 432x288 with 2 Axes>"
      ]
     },
     "metadata": {
      "needs_background": "light"
     },
     "output_type": "display_data"
    }
   ],
   "source": [
    "# Make pipe\n",
    "pipe_lr = Pipeline([('ss', StandardScaler(with_mean=False)), \n",
    "                    ('lr', LogisticRegression())])\n",
    "# Fit and predict\n",
    "pipe_lr.fit(X_train, y_train)\n",
    "test_preds = pipe_lr.predict(X_test)\n",
    "\n",
    "print(\"Test data model score:\")\n",
    "lr_score = model_score(pipe_lr, X_test, test_preds, y_test)"
<<<<<<< HEAD
   ]
  },
  {
   "cell_type": "code",
   "execution_count": null,
   "metadata": {},
   "outputs": [],
   "source": []
  },
  {
   "cell_type": "markdown",
   "metadata": {},
   "source": [
    "## 5.2 K-Nearest neighbor"
   ]
  },
  {
   "cell_type": "code",
   "execution_count": 73,
   "metadata": {},
   "outputs": [
    {
     "data": {
      "text/plain": [
       "{'n_neighbors': 5}"
      ]
     },
     "execution_count": 73,
     "metadata": {},
     "output_type": "execute_result"
    }
   ],
   "source": [
    "# GridSearch \n",
    "knn = KNeighborsClassifier()\n",
    "grid = {\n",
    "    'n_neighbors' : [5, 10, 15, 20, 25, 40]\n",
    "}\n",
    "\n",
    "#knn_grid_search = GridSearchCV(knn, grid, cv=3)\n",
    "#knn_grid_search.fit(X_train, y_train)\n",
    "\n",
    "#knn_grid_search.best_params_"
   ]
  },
  {
   "cell_type": "code",
   "execution_count": 75,
   "metadata": {},
   "outputs": [
    {
     "name": "stdout",
     "output_type": "stream",
     "text": [
      "Test data model score:\n",
      "                  precision    recall  f1-score   support\n",
      "\n",
      "        non func       0.71      0.99      0.83      3725\n",
      "func need repair       0.46      0.01      0.03       408\n",
      "      functional       0.57      0.04      0.07      1196\n",
      "\n",
      "        accuracy                           0.70      5329\n",
      "       macro avg       0.58      0.35      0.31      5329\n",
      "    weighted avg       0.66      0.70      0.60      5329\n",
      "\n"
     ]
    },
    {
     "data": {
      "image/png": "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\n",
      "text/plain": [
       "<Figure size 432x288 with 2 Axes>"
      ]
     },
     "metadata": {
      "needs_background": "light"
     },
     "output_type": "display_data"
    }
   ],
   "source": [
    "# Make pipe\n",
    "pipe_knn = Pipeline([('ss', StandardScaler(with_mean=False)), \n",
    "                    ('knn', KNeighborsClassifier(n_neighbors=5))])\n",
    "#Fit and predict\n",
    "pipe_knn.fit(X_train, y_train)\n",
    "test_preds = pipe_knn.predict(X_test)\n",
    "\n",
    "print(\"Test data model score:\")\n",
    "knn_score = model_score(pipe_knn, X_test, test_preds, y_test)"
   ]
  },
  {
   "cell_type": "markdown",
   "metadata": {},
   "source": [
    "## 5.3 Decision Tree"
   ]
  },
  {
   "cell_type": "code",
   "execution_count": 85,
   "metadata": {},
   "outputs": [
    {
     "data": {
      "text/plain": [
       "{'criterion': 'gini', 'max_depth': 10, 'min_samples_split': 5}"
      ]
     },
     "execution_count": 85,
     "metadata": {},
     "output_type": "execute_result"
    }
   ],
   "source": [
    "clf=DecisionTreeClassifier()\n",
    "param_grid={'criterion':['gini','entropy'],\n",
    "           'max_depth':[1,2,5,10],\n",
    "           'min_samples_split':[1,5,10,20]}\n",
    "#gs_tree=GridSearchCV(clf,param_grid,cv=3)\n",
    "#gs_tree.fit(X_train,y_train)\n",
    "#gs_tree.best_params_"
   ]
  },
  {
   "cell_type": "code",
   "execution_count": 87,
   "metadata": {},
   "outputs": [
    {
     "name": "stdout",
     "output_type": "stream",
     "text": [
      "Test data model score:\n",
      "                  precision    recall  f1-score   support\n",
      "\n",
      "        non func       0.79      0.98      0.87      3725\n",
      "func need repair       0.61      0.21      0.31       408\n",
      "      functional       0.87      0.40      0.55      1196\n",
      "\n",
      "        accuracy                           0.79      5329\n",
      "       macro avg       0.76      0.53      0.58      5329\n",
      "    weighted avg       0.79      0.79      0.76      5329\n",
      "\n"
     ]
    },
    {
     "data": {
      "image/png": "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\n",
      "text/plain": [
       "<Figure size 432x288 with 2 Axes>"
      ]
     },
     "metadata": {
      "needs_background": "light"
     },
     "output_type": "display_data"
    }
   ],
   "source": [
    "# Make pipe\n",
    "pipe_dt = Pipeline([('ss', StandardScaler(with_mean=False)),\n",
    "                    ('dt', DecisionTreeClassifier(max_depth=10,min_samples_split=5,criterion='gini'))])\n",
    "# Fit and predict\n",
    "pipe_dt.fit(X_train, y_train)\n",
    "test_preds = pipe_dt.predict(X_test)\n",
    "\n",
    "print(\"Test data model score:\")\n",
    "lr_score = model_score(pipe_dt, X_test, test_preds, y_test)"
   ]
  },
  {
   "cell_type": "code",
   "execution_count": null,
   "metadata": {},
   "outputs": [],
   "source": []
  },
  {
   "cell_type": "markdown",
   "metadata": {},
   "source": [
    "## 5.4 Random Forest"
   ]
  },
  {
   "cell_type": "code",
   "execution_count": null,
   "metadata": {},
   "outputs": [],
   "source": []
  },
  {
   "cell_type": "code",
   "execution_count": 93,
   "metadata": {},
   "outputs": [
    {
     "name": "stdout",
     "output_type": "stream",
     "text": [
      "Test data model score:\n",
      "                  precision    recall  f1-score   support\n",
      "\n",
      "        non func       0.80      0.97      0.88      3725\n",
      "func need repair       0.59      0.23      0.33       408\n",
      "      functional       0.83      0.48      0.61      1196\n",
      "\n",
      "        accuracy                           0.80      5329\n",
      "       macro avg       0.74      0.56      0.60      5329\n",
      "    weighted avg       0.79      0.80      0.77      5329\n",
      "\n"
     ]
    },
    {
     "data": {
      "image/png": "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\n",
      "text/plain": [
       "<Figure size 432x288 with 2 Axes>"
      ]
     },
     "metadata": {
      "needs_background": "light"
     },
     "output_type": "display_data"
    }
   ],
   "source": [
    "# Make pipe\n",
    "pipe_RF = Pipeline([('ss', StandardScaler(with_mean=False)), \n",
    "                    ('rf', RandomForestClassifier(n_estimators=10,criterion='gini'))])\n",
    "# Fit and predict\n",
    "pipe_RF.fit(X_train, y_train)\n",
    "test_preds = pipe_RF.predict(X_test)\n",
    "\n",
    "print(\"Test data model score:\")\n",
    "RF_score = model_score(pipe_RF, X_test, test_preds, y_test)"
   ]
  },
  {
<<<<<<< Updated upstream
=======
   "cell_type": "markdown",
   "metadata": {},
   "source": [
    "Our random forest model with an accuracy score of 72% performs poorly than the decision tree with an accuracy score of 79% .\n",
    "The precision values of all the categories have also dived in this model.The scores are however generally not unimpressive"
   ]
  },
  {
   "cell_type": "markdown",
   "metadata": {},
   "source": [
    "# 6. Conclusions"
   ]
  },
  {
   "cell_type": "markdown",
   "metadata": {},
   "source": [
    "1.Our best performing model is the Decision Tree with an overall score of 79% which reffers to the rate at which it can correctly predict the wells' status.\n",
    "\n",
    "2.Areas with high population also has high numbers of non-functional wells probably due to overuse. \n",
    "\n",
    "\n",
    "3.Non-functional wells represent 33% of the total wells distribution which is a high cause for alarm as it is a high number.\n",
    "\n",
    "\n",
    "4.The number of non_functional wells rise as we move from smaller management groups to larger management groups."
   ]
  },
  {
   "cell_type": "markdown",
   "metadata": {},
   "source": [
    "# 7. Recommendations"
   ]
  },
  {
   "cell_type": "markdown",
   "metadata": {},
   "source": [
    "1.Use the Decision Tree model for deployment as it seems to relate well the factors of imput for the prediction.\n",
    "\n",
    "2.Relative distribution of the number of wells to the population is as important as repair in the first place to avoid faster wear due to overusage.\n",
    "\n",
    "3.Move in fast to repair the existing non-fuctional pumps as a short-term to avoid further breakage of the existing due to overload as we plan for a fair distribution of the wells location.\n",
    "\n",
    "4.Management seems an important factor of consideration.Probably due to beaurocracy in large management groups,regular servicing of the pumps is delayed.We should hence gear towards the local community management."
=======
>>>>>>> 4a1cd2f3e0aeaa472c235472558930642a2ef582
   ]
  },
  {
>>>>>>> Stashed changes
   "cell_type": "code",
   "execution_count": null,
   "metadata": {},
   "outputs": [],
   "source": []
<<<<<<< HEAD
=======
  },
  {
   "cell_type": "markdown",
   "metadata": {},
   "source": [
    "## 5.2 K-Nearest neighbor"
   ]
  },
  {
   "cell_type": "code",
   "execution_count": 73,
   "metadata": {},
   "outputs": [
    {
     "data": {
      "text/plain": [
       "{'n_neighbors': 5}"
      ]
     },
     "execution_count": 73,
     "metadata": {},
     "output_type": "execute_result"
    }
   ],
   "source": [
    "# GridSearch \n",
    "knn = KNeighborsClassifier()\n",
    "grid = {\n",
    "    'n_neighbors' : [5, 10, 15, 20, 25, 40]\n",
    "}\n",
    "\n",
    "#knn_grid_search = GridSearchCV(knn, grid, cv=3)\n",
    "#knn_grid_search.fit(X_train, y_train)\n",
    "\n",
    "#knn_grid_search.best_params_"
   ]
  },
  {
   "cell_type": "code",
   "execution_count": 75,
   "metadata": {},
   "outputs": [
    {
     "name": "stdout",
     "output_type": "stream",
     "text": [
      "Test data model score:\n",
      "                  precision    recall  f1-score   support\n",
      "\n",
      "        non func       0.71      0.99      0.83      3725\n",
      "func need repair       0.46      0.01      0.03       408\n",
      "      functional       0.57      0.04      0.07      1196\n",
      "\n",
      "        accuracy                           0.70      5329\n",
      "       macro avg       0.58      0.35      0.31      5329\n",
      "    weighted avg       0.66      0.70      0.60      5329\n",
      "\n"
     ]
    },
    {
     "data": {
      "image/png": "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",
      "text/plain": [
       "<Figure size 432x288 with 2 Axes>"
      ]
     },
     "metadata": {
      "needs_background": "light"
     },
     "output_type": "display_data"
    }
   ],
   "source": [
    "# Make pipe\n",
    "pipe_knn = Pipeline([('ss', StandardScaler(with_mean=False)), \n",
    "                    ('knn', KNeighborsClassifier(n_neighbors=5))])\n",
    "#Fit and predict\n",
    "pipe_knn.fit(X_train, y_train)\n",
    "test_preds = pipe_knn.predict(X_test)\n",
    "\n",
    "print(\"Test data model score:\")\n",
    "knn_score = model_score(pipe_knn, X_test, test_preds, y_test)"
   ]
  },
  {
   "cell_type": "markdown",
   "metadata": {},
   "source": [
    "## 5.3 Decision Tree"
   ]
  },
  {
   "cell_type": "code",
   "execution_count": 85,
   "metadata": {},
   "outputs": [
    {
     "data": {
      "text/plain": [
       "{'criterion': 'gini', 'max_depth': 10, 'min_samples_split': 5}"
      ]
     },
     "execution_count": 85,
     "metadata": {},
     "output_type": "execute_result"
    }
   ],
   "source": [
    "clf=DecisionTreeClassifier()\n",
    "param_grid={'criterion':['gini','entropy'],\n",
    "           'max_depth':[1,2,5,10],\n",
    "           'min_samples_split':[1,5,10,20]}\n",
    "#gs_tree=GridSearchCV(clf,param_grid,cv=3)\n",
    "#gs_tree.fit(X_train,y_train)\n",
    "#gs_tree.best_params_"
   ]
  },
  {
   "cell_type": "code",
   "execution_count": 87,
   "metadata": {},
   "outputs": [
    {
     "name": "stdout",
     "output_type": "stream",
     "text": [
      "Test data model score:\n",
      "                  precision    recall  f1-score   support\n",
      "\n",
      "        non func       0.79      0.98      0.87      3725\n",
      "func need repair       0.61      0.21      0.31       408\n",
      "      functional       0.87      0.40      0.55      1196\n",
      "\n",
      "        accuracy                           0.79      5329\n",
      "       macro avg       0.76      0.53      0.58      5329\n",
      "    weighted avg       0.79      0.79      0.76      5329\n",
      "\n"
     ]
    },
    {
     "data": {
      "image/png": "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",
      "text/plain": [
       "<Figure size 432x288 with 2 Axes>"
      ]
     },
     "metadata": {
      "needs_background": "light"
     },
     "output_type": "display_data"
    }
   ],
   "source": [
    "# Make pipe\n",
    "pipe_dt = Pipeline([('ss', StandardScaler(with_mean=False)),\n",
    "                    ('dt', DecisionTreeClassifier(max_depth=10,min_samples_split=5,criterion='gini'))])\n",
    "# Fit and predict\n",
    "pipe_dt.fit(X_train, y_train)\n",
    "test_preds = pipe_dt.predict(X_test)\n",
    "\n",
    "print(\"Test data model score:\")\n",
    "lr_score = model_score(pipe_dt, X_test, test_preds, y_test)"
   ]
  },
  {
   "cell_type": "code",
   "execution_count": null,
   "metadata": {},
   "outputs": [],
   "source": []
  },
  {
   "cell_type": "markdown",
   "metadata": {},
   "source": [
    "## 5.4 Random Forest"
   ]
  },
  {
   "cell_type": "code",
   "execution_count": null,
   "metadata": {},
   "outputs": [],
   "source": []
  },
  {
   "cell_type": "code",
   "execution_count": 93,
   "metadata": {},
   "outputs": [
    {
     "name": "stdout",
     "output_type": "stream",
     "text": [
      "Test data model score:\n",
      "                  precision    recall  f1-score   support\n",
      "\n",
      "        non func       0.80      0.97      0.88      3725\n",
      "func need repair       0.59      0.23      0.33       408\n",
      "      functional       0.83      0.48      0.61      1196\n",
      "\n",
      "        accuracy                           0.80      5329\n",
      "       macro avg       0.74      0.56      0.60      5329\n",
      "    weighted avg       0.79      0.80      0.77      5329\n",
      "\n"
     ]
    },
    {
     "data": {
      "image/png": "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",
      "text/plain": [
       "<Figure size 432x288 with 2 Axes>"
      ]
     },
     "metadata": {
      "needs_background": "light"
     },
     "output_type": "display_data"
    }
   ],
   "source": [
    "# Make pipe\n",
    "pipe_RF = Pipeline([('ss', StandardScaler(with_mean=False)), \n",
    "                    ('rf', RandomForestClassifier(n_estimators=10,criterion='gini'))])\n",
    "# Fit and predict\n",
    "pipe_RF.fit(X_train, y_train)\n",
    "test_preds = pipe_RF.predict(X_test)\n",
    "\n",
    "print(\"Test data model score:\")\n",
    "RF_score = model_score(pipe_RF, X_test, test_preds, y_test)"
   ]
  },
  {
   "cell_type": "code",
   "execution_count": null,
   "metadata": {},
   "outputs": [],
   "source": []
>>>>>>> 4a1cd2f3e0aeaa472c235472558930642a2ef582
  }
 ],
 "metadata": {
  "kernelspec": {
   "display_name": "Python (learn-env)",
   "language": "python",
   "name": "learn-env"
  },
  "language_info": {
   "codemirror_mode": {
    "name": "ipython",
    "version": 3
   },
   "file_extension": ".py",
   "mimetype": "text/x-python",
   "name": "python",
   "nbconvert_exporter": "python",
   "pygments_lexer": "ipython3",
   "version": "3.8.5"
  }
 },
 "nbformat": 4,
 "nbformat_minor": 4
}
